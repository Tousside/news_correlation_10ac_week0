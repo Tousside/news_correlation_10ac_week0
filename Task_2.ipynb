{
  "cells": [
    {
      "cell_type": "markdown",
      "metadata": {
        "id": "view-in-github",
        "colab_type": "text"
      },
      "source": [
        "<a href=\"https://colab.research.google.com/github/Tousside/news_correlation_10ac_week0/blob/task-2/Task_2.ipynb\" target=\"_parent\"><img src=\"https://colab.research.google.com/assets/colab-badge.svg\" alt=\"Open In Colab\"/></a>"
      ]
    },
    {
      "cell_type": "markdown",
      "metadata": {
        "id": "zlcmgC3RWm8g"
      },
      "source": [
        "# Libraries"
      ]
    },
    {
      "cell_type": "code",
      "execution_count": null,
      "metadata": {
        "id": "o3vS3W3KWVlN"
      },
      "outputs": [],
      "source": [
        "import numpy as np\n",
        "import pandas as pd\n",
        "import matplotlib.pyplot as plt\n",
        "import nltk\n",
        "from nltk.corpus import stopwords\n",
        "from nltk.tokenize import word_tokenize\n",
        "from sklearn.feature_extraction.text import TfidfVectorizer\n",
        "from sklearn.metrics.pairwise import cosine_similarity\n",
        "from wordcloud import WordCloud\n",
        "import re\n",
        "from nltk.stem import WordNetLemmatizer"
      ]
    },
    {
      "cell_type": "markdown",
      "metadata": {
        "id": "X3QrL73yWvnd"
      },
      "source": [
        "# Data"
      ]
    },
    {
      "cell_type": "code",
      "execution_count": null,
      "metadata": {
        "colab": {
          "base_uri": "https://localhost:8080/"
        },
        "id": "uSmm9eCqWssP",
        "outputId": "09bd6c54-7d75-4286-8a4b-08bc420c1274"
      },
      "outputs": [
        {
          "output_type": "stream",
          "name": "stdout",
          "text": [
            "Mounted at /content/drive\n"
          ]
        }
      ],
      "source": [
        "\n",
        "from google.colab import drive\n",
        "drive.mount('/content/drive')"
      ]
    },
    {
      "cell_type": "code",
      "execution_count": null,
      "metadata": {
        "id": "WOjrMvINW6Co"
      },
      "outputs": [],
      "source": [
        "news_data= pd.read_csv('drive/MyDrive/data.csv.zip')"
      ]
    },
    {
      "cell_type": "code",
      "execution_count": null,
      "metadata": {
        "colab": {
          "base_uri": "https://localhost:8080/",
          "height": 484
        },
        "id": "ZJdyNDlhXak9",
        "outputId": "52b640c0-7048-4ba7-dc22-10bcc30daf4c"
      },
      "outputs": [
        {
          "output_type": "execute_result",
          "data": {
            "text/plain": [
              "   article_id source_id     source_name  \\\n",
              "0       81664       NaN          Forbes   \n",
              "1       81667       NaN             CNA   \n",
              "2       81694      time            Time   \n",
              "3       81695       NaN        Phys.Org   \n",
              "4       81703       NaN  Digital Trends   \n",
              "\n",
              "                                              author  \\\n",
              "0  Elizabeth Brownfield, Contributor, \\n Elizabet...   \n",
              "1                                                NaN   \n",
              "2                              Christina Larson / AP   \n",
              "3                                       Sara Schmidt   \n",
              "4                                       Jason Struss   \n",
              "\n",
              "                                               title  \\\n",
              "0  superstar chef yannick alléno brings refined f...   \n",
              "1  nice claim top spot in ligue 1 with late win a...   \n",
              "2  amphibians are the world’s most vulnerable spe...   \n",
              "3              image: rusty red waters in madagascar   \n",
              "4  everything leaving max (formerly hbo max) in n...   \n",
              "\n",
              "                                         description  \\\n",
              "0  Now open in Mayfair at Four Seasons Hotel Lond...   \n",
              "1  Nice moved into provisional first place in the...   \n",
              "2  The world’s frogs, salamanders, newts, and oth...   \n",
              "3  Iron-rich sediment colors the red-orange water...   \n",
              "4  From Gangs of London to Fear the Walking Dead ...   \n",
              "\n",
              "                                                 url  \\\n",
              "0  https://www.forbes.com/sites/elizabethbrownfie...   \n",
              "1  https://www.channelnewsasia.com/sport/nice-cla...   \n",
              "2  https://time.com/6320467/amphibians-most-vulne...   \n",
              "3  https://phys.org/news/2023-10-image-rusty-red-...   \n",
              "4  https://www.digitaltrends.com/movies/everythin...   \n",
              "\n",
              "                                        url_to_image  \\\n",
              "0  https://imageio.forbes.com/specials-images/ima...   \n",
              "1  https://onecms-res.cloudinary.com/image/upload...   \n",
              "2  https://api.time.com/wp-content/uploads/2023/1...   \n",
              "3  https://scx2.b-cdn.net/gfx/news/2023/image-rus...   \n",
              "4  https://www.digitaltrends.com/wp-content/uploa...   \n",
              "\n",
              "                 published_at  \\\n",
              "0  2023-11-01 03:27:21.000000   \n",
              "1  2023-10-27 21:28:48.000000   \n",
              "2  2023-10-04 17:36:18.000000   \n",
              "3  2023-10-31 18:04:02.000000   \n",
              "4  2023-10-23 23:09:18.000000   \n",
              "\n",
              "                                             content    category  \\\n",
              "0  Pavyllon London, at Four Seasons Hotel London ...      Monaco   \n",
              "1  Nice moved into provisional first place in the...      Monaco   \n",
              "2  The worlds frogs, salamanders, newts and other...  Madagascar   \n",
              "3  Iron-rich sediment colors the red-orange water...  Madagascar   \n",
              "4  Everything ends. No, I’m not having an existen...  Madagascar   \n",
              "\n",
              "                                             article title_sentiment  \n",
              "0  pavyllon london, at four seasons hotel london ...         Neutral  \n",
              "1  nice moved into provisional first place in the...        Positive  \n",
              "2  the world’s frogs, salamanders, newts and othe...        Negative  \n",
              "3  iron-rich sediment colors the red-orange water...         Neutral  \n",
              "4  everything ends. no, i’m not having an existen...         Neutral  "
            ],
            "text/html": [
              "\n",
              "  <div id=\"df-790d4f27-e6f6-4d1f-82fa-890fa85c8349\" class=\"colab-df-container\">\n",
              "    <div>\n",
              "<style scoped>\n",
              "    .dataframe tbody tr th:only-of-type {\n",
              "        vertical-align: middle;\n",
              "    }\n",
              "\n",
              "    .dataframe tbody tr th {\n",
              "        vertical-align: top;\n",
              "    }\n",
              "\n",
              "    .dataframe thead th {\n",
              "        text-align: right;\n",
              "    }\n",
              "</style>\n",
              "<table border=\"1\" class=\"dataframe\">\n",
              "  <thead>\n",
              "    <tr style=\"text-align: right;\">\n",
              "      <th></th>\n",
              "      <th>article_id</th>\n",
              "      <th>source_id</th>\n",
              "      <th>source_name</th>\n",
              "      <th>author</th>\n",
              "      <th>title</th>\n",
              "      <th>description</th>\n",
              "      <th>url</th>\n",
              "      <th>url_to_image</th>\n",
              "      <th>published_at</th>\n",
              "      <th>content</th>\n",
              "      <th>category</th>\n",
              "      <th>article</th>\n",
              "      <th>title_sentiment</th>\n",
              "    </tr>\n",
              "  </thead>\n",
              "  <tbody>\n",
              "    <tr>\n",
              "      <th>0</th>\n",
              "      <td>81664</td>\n",
              "      <td>NaN</td>\n",
              "      <td>Forbes</td>\n",
              "      <td>Elizabeth Brownfield, Contributor, \\n Elizabet...</td>\n",
              "      <td>superstar chef yannick alléno brings refined f...</td>\n",
              "      <td>Now open in Mayfair at Four Seasons Hotel Lond...</td>\n",
              "      <td>https://www.forbes.com/sites/elizabethbrownfie...</td>\n",
              "      <td>https://imageio.forbes.com/specials-images/ima...</td>\n",
              "      <td>2023-11-01 03:27:21.000000</td>\n",
              "      <td>Pavyllon London, at Four Seasons Hotel London ...</td>\n",
              "      <td>Monaco</td>\n",
              "      <td>pavyllon london, at four seasons hotel london ...</td>\n",
              "      <td>Neutral</td>\n",
              "    </tr>\n",
              "    <tr>\n",
              "      <th>1</th>\n",
              "      <td>81667</td>\n",
              "      <td>NaN</td>\n",
              "      <td>CNA</td>\n",
              "      <td>NaN</td>\n",
              "      <td>nice claim top spot in ligue 1 with late win a...</td>\n",
              "      <td>Nice moved into provisional first place in the...</td>\n",
              "      <td>https://www.channelnewsasia.com/sport/nice-cla...</td>\n",
              "      <td>https://onecms-res.cloudinary.com/image/upload...</td>\n",
              "      <td>2023-10-27 21:28:48.000000</td>\n",
              "      <td>Nice moved into provisional first place in the...</td>\n",
              "      <td>Monaco</td>\n",
              "      <td>nice moved into provisional first place in the...</td>\n",
              "      <td>Positive</td>\n",
              "    </tr>\n",
              "    <tr>\n",
              "      <th>2</th>\n",
              "      <td>81694</td>\n",
              "      <td>time</td>\n",
              "      <td>Time</td>\n",
              "      <td>Christina Larson / AP</td>\n",
              "      <td>amphibians are the world’s most vulnerable spe...</td>\n",
              "      <td>The world’s frogs, salamanders, newts, and oth...</td>\n",
              "      <td>https://time.com/6320467/amphibians-most-vulne...</td>\n",
              "      <td>https://api.time.com/wp-content/uploads/2023/1...</td>\n",
              "      <td>2023-10-04 17:36:18.000000</td>\n",
              "      <td>The worlds frogs, salamanders, newts and other...</td>\n",
              "      <td>Madagascar</td>\n",
              "      <td>the world’s frogs, salamanders, newts and othe...</td>\n",
              "      <td>Negative</td>\n",
              "    </tr>\n",
              "    <tr>\n",
              "      <th>3</th>\n",
              "      <td>81695</td>\n",
              "      <td>NaN</td>\n",
              "      <td>Phys.Org</td>\n",
              "      <td>Sara Schmidt</td>\n",
              "      <td>image: rusty red waters in madagascar</td>\n",
              "      <td>Iron-rich sediment colors the red-orange water...</td>\n",
              "      <td>https://phys.org/news/2023-10-image-rusty-red-...</td>\n",
              "      <td>https://scx2.b-cdn.net/gfx/news/2023/image-rus...</td>\n",
              "      <td>2023-10-31 18:04:02.000000</td>\n",
              "      <td>Iron-rich sediment colors the red-orange water...</td>\n",
              "      <td>Madagascar</td>\n",
              "      <td>iron-rich sediment colors the red-orange water...</td>\n",
              "      <td>Neutral</td>\n",
              "    </tr>\n",
              "    <tr>\n",
              "      <th>4</th>\n",
              "      <td>81703</td>\n",
              "      <td>NaN</td>\n",
              "      <td>Digital Trends</td>\n",
              "      <td>Jason Struss</td>\n",
              "      <td>everything leaving max (formerly hbo max) in n...</td>\n",
              "      <td>From Gangs of London to Fear the Walking Dead ...</td>\n",
              "      <td>https://www.digitaltrends.com/movies/everythin...</td>\n",
              "      <td>https://www.digitaltrends.com/wp-content/uploa...</td>\n",
              "      <td>2023-10-23 23:09:18.000000</td>\n",
              "      <td>Everything ends. No, I’m not having an existen...</td>\n",
              "      <td>Madagascar</td>\n",
              "      <td>everything ends. no, i’m not having an existen...</td>\n",
              "      <td>Neutral</td>\n",
              "    </tr>\n",
              "  </tbody>\n",
              "</table>\n",
              "</div>\n",
              "    <div class=\"colab-df-buttons\">\n",
              "\n",
              "  <div class=\"colab-df-container\">\n",
              "    <button class=\"colab-df-convert\" onclick=\"convertToInteractive('df-790d4f27-e6f6-4d1f-82fa-890fa85c8349')\"\n",
              "            title=\"Convert this dataframe to an interactive table.\"\n",
              "            style=\"display:none;\">\n",
              "\n",
              "  <svg xmlns=\"http://www.w3.org/2000/svg\" height=\"24px\" viewBox=\"0 -960 960 960\">\n",
              "    <path d=\"M120-120v-720h720v720H120Zm60-500h600v-160H180v160Zm220 220h160v-160H400v160Zm0 220h160v-160H400v160ZM180-400h160v-160H180v160Zm440 0h160v-160H620v160ZM180-180h160v-160H180v160Zm440 0h160v-160H620v160Z\"/>\n",
              "  </svg>\n",
              "    </button>\n",
              "\n",
              "  <style>\n",
              "    .colab-df-container {\n",
              "      display:flex;\n",
              "      gap: 12px;\n",
              "    }\n",
              "\n",
              "    .colab-df-convert {\n",
              "      background-color: #E8F0FE;\n",
              "      border: none;\n",
              "      border-radius: 50%;\n",
              "      cursor: pointer;\n",
              "      display: none;\n",
              "      fill: #1967D2;\n",
              "      height: 32px;\n",
              "      padding: 0 0 0 0;\n",
              "      width: 32px;\n",
              "    }\n",
              "\n",
              "    .colab-df-convert:hover {\n",
              "      background-color: #E2EBFA;\n",
              "      box-shadow: 0px 1px 2px rgba(60, 64, 67, 0.3), 0px 1px 3px 1px rgba(60, 64, 67, 0.15);\n",
              "      fill: #174EA6;\n",
              "    }\n",
              "\n",
              "    .colab-df-buttons div {\n",
              "      margin-bottom: 4px;\n",
              "    }\n",
              "\n",
              "    [theme=dark] .colab-df-convert {\n",
              "      background-color: #3B4455;\n",
              "      fill: #D2E3FC;\n",
              "    }\n",
              "\n",
              "    [theme=dark] .colab-df-convert:hover {\n",
              "      background-color: #434B5C;\n",
              "      box-shadow: 0px 1px 3px 1px rgba(0, 0, 0, 0.15);\n",
              "      filter: drop-shadow(0px 1px 2px rgba(0, 0, 0, 0.3));\n",
              "      fill: #FFFFFF;\n",
              "    }\n",
              "  </style>\n",
              "\n",
              "    <script>\n",
              "      const buttonEl =\n",
              "        document.querySelector('#df-790d4f27-e6f6-4d1f-82fa-890fa85c8349 button.colab-df-convert');\n",
              "      buttonEl.style.display =\n",
              "        google.colab.kernel.accessAllowed ? 'block' : 'none';\n",
              "\n",
              "      async function convertToInteractive(key) {\n",
              "        const element = document.querySelector('#df-790d4f27-e6f6-4d1f-82fa-890fa85c8349');\n",
              "        const dataTable =\n",
              "          await google.colab.kernel.invokeFunction('convertToInteractive',\n",
              "                                                    [key], {});\n",
              "        if (!dataTable) return;\n",
              "\n",
              "        const docLinkHtml = 'Like what you see? Visit the ' +\n",
              "          '<a target=\"_blank\" href=https://colab.research.google.com/notebooks/data_table.ipynb>data table notebook</a>'\n",
              "          + ' to learn more about interactive tables.';\n",
              "        element.innerHTML = '';\n",
              "        dataTable['output_type'] = 'display_data';\n",
              "        await google.colab.output.renderOutput(dataTable, element);\n",
              "        const docLink = document.createElement('div');\n",
              "        docLink.innerHTML = docLinkHtml;\n",
              "        element.appendChild(docLink);\n",
              "      }\n",
              "    </script>\n",
              "  </div>\n",
              "\n",
              "\n",
              "<div id=\"df-c55da651-597b-4e6a-aee8-0bc524ef5a48\">\n",
              "  <button class=\"colab-df-quickchart\" onclick=\"quickchart('df-c55da651-597b-4e6a-aee8-0bc524ef5a48')\"\n",
              "            title=\"Suggest charts\"\n",
              "            style=\"display:none;\">\n",
              "\n",
              "<svg xmlns=\"http://www.w3.org/2000/svg\" height=\"24px\"viewBox=\"0 0 24 24\"\n",
              "     width=\"24px\">\n",
              "    <g>\n",
              "        <path d=\"M19 3H5c-1.1 0-2 .9-2 2v14c0 1.1.9 2 2 2h14c1.1 0 2-.9 2-2V5c0-1.1-.9-2-2-2zM9 17H7v-7h2v7zm4 0h-2V7h2v10zm4 0h-2v-4h2v4z\"/>\n",
              "    </g>\n",
              "</svg>\n",
              "  </button>\n",
              "\n",
              "<style>\n",
              "  .colab-df-quickchart {\n",
              "      --bg-color: #E8F0FE;\n",
              "      --fill-color: #1967D2;\n",
              "      --hover-bg-color: #E2EBFA;\n",
              "      --hover-fill-color: #174EA6;\n",
              "      --disabled-fill-color: #AAA;\n",
              "      --disabled-bg-color: #DDD;\n",
              "  }\n",
              "\n",
              "  [theme=dark] .colab-df-quickchart {\n",
              "      --bg-color: #3B4455;\n",
              "      --fill-color: #D2E3FC;\n",
              "      --hover-bg-color: #434B5C;\n",
              "      --hover-fill-color: #FFFFFF;\n",
              "      --disabled-bg-color: #3B4455;\n",
              "      --disabled-fill-color: #666;\n",
              "  }\n",
              "\n",
              "  .colab-df-quickchart {\n",
              "    background-color: var(--bg-color);\n",
              "    border: none;\n",
              "    border-radius: 50%;\n",
              "    cursor: pointer;\n",
              "    display: none;\n",
              "    fill: var(--fill-color);\n",
              "    height: 32px;\n",
              "    padding: 0;\n",
              "    width: 32px;\n",
              "  }\n",
              "\n",
              "  .colab-df-quickchart:hover {\n",
              "    background-color: var(--hover-bg-color);\n",
              "    box-shadow: 0 1px 2px rgba(60, 64, 67, 0.3), 0 1px 3px 1px rgba(60, 64, 67, 0.15);\n",
              "    fill: var(--button-hover-fill-color);\n",
              "  }\n",
              "\n",
              "  .colab-df-quickchart-complete:disabled,\n",
              "  .colab-df-quickchart-complete:disabled:hover {\n",
              "    background-color: var(--disabled-bg-color);\n",
              "    fill: var(--disabled-fill-color);\n",
              "    box-shadow: none;\n",
              "  }\n",
              "\n",
              "  .colab-df-spinner {\n",
              "    border: 2px solid var(--fill-color);\n",
              "    border-color: transparent;\n",
              "    border-bottom-color: var(--fill-color);\n",
              "    animation:\n",
              "      spin 1s steps(1) infinite;\n",
              "  }\n",
              "\n",
              "  @keyframes spin {\n",
              "    0% {\n",
              "      border-color: transparent;\n",
              "      border-bottom-color: var(--fill-color);\n",
              "      border-left-color: var(--fill-color);\n",
              "    }\n",
              "    20% {\n",
              "      border-color: transparent;\n",
              "      border-left-color: var(--fill-color);\n",
              "      border-top-color: var(--fill-color);\n",
              "    }\n",
              "    30% {\n",
              "      border-color: transparent;\n",
              "      border-left-color: var(--fill-color);\n",
              "      border-top-color: var(--fill-color);\n",
              "      border-right-color: var(--fill-color);\n",
              "    }\n",
              "    40% {\n",
              "      border-color: transparent;\n",
              "      border-right-color: var(--fill-color);\n",
              "      border-top-color: var(--fill-color);\n",
              "    }\n",
              "    60% {\n",
              "      border-color: transparent;\n",
              "      border-right-color: var(--fill-color);\n",
              "    }\n",
              "    80% {\n",
              "      border-color: transparent;\n",
              "      border-right-color: var(--fill-color);\n",
              "      border-bottom-color: var(--fill-color);\n",
              "    }\n",
              "    90% {\n",
              "      border-color: transparent;\n",
              "      border-bottom-color: var(--fill-color);\n",
              "    }\n",
              "  }\n",
              "</style>\n",
              "\n",
              "  <script>\n",
              "    async function quickchart(key) {\n",
              "      const quickchartButtonEl =\n",
              "        document.querySelector('#' + key + ' button');\n",
              "      quickchartButtonEl.disabled = true;  // To prevent multiple clicks.\n",
              "      quickchartButtonEl.classList.add('colab-df-spinner');\n",
              "      try {\n",
              "        const charts = await google.colab.kernel.invokeFunction(\n",
              "            'suggestCharts', [key], {});\n",
              "      } catch (error) {\n",
              "        console.error('Error during call to suggestCharts:', error);\n",
              "      }\n",
              "      quickchartButtonEl.classList.remove('colab-df-spinner');\n",
              "      quickchartButtonEl.classList.add('colab-df-quickchart-complete');\n",
              "    }\n",
              "    (() => {\n",
              "      let quickchartButtonEl =\n",
              "        document.querySelector('#df-c55da651-597b-4e6a-aee8-0bc524ef5a48 button');\n",
              "      quickchartButtonEl.style.display =\n",
              "        google.colab.kernel.accessAllowed ? 'block' : 'none';\n",
              "    })();\n",
              "  </script>\n",
              "</div>\n",
              "\n",
              "    </div>\n",
              "  </div>\n"
            ],
            "application/vnd.google.colaboratory.intrinsic+json": {
              "type": "dataframe",
              "variable_name": "news_data",
              "summary": "{\n  \"name\": \"news_data\",\n  \"rows\": 58356,\n  \"fields\": [\n    {\n      \"column\": \"article_id\",\n      \"properties\": {\n        \"dtype\": \"number\",\n        \"std\": 216023,\n        \"min\": 418,\n        \"max\": 781308,\n        \"num_unique_values\": 54583,\n        \"samples\": [\n          145373,\n          248908,\n          181244\n        ],\n        \"semantic_type\": \"\",\n        \"description\": \"\"\n      }\n    },\n    {\n      \"column\": \"source_id\",\n      \"properties\": {\n        \"dtype\": \"category\",\n        \"num_unique_values\": 10,\n        \"samples\": [\n          \"wired\",\n          \"al-jazeera-english\",\n          \"the-times-of-india\"\n        ],\n        \"semantic_type\": \"\",\n        \"description\": \"\"\n      }\n    },\n    {\n      \"column\": \"source_name\",\n      \"properties\": {\n        \"dtype\": \"category\",\n        \"num_unique_values\": 29,\n        \"samples\": [\n          \"ReadWrite\",\n          \"Marketscreener.com\",\n          \"The Indian Express\"\n        ],\n        \"semantic_type\": \"\",\n        \"description\": \"\"\n      }\n    },\n    {\n      \"column\": \"author\",\n      \"properties\": {\n        \"dtype\": \"category\",\n        \"num_unique_values\": 7553,\n        \"samples\": [\n          \"Diana Blaine\",\n          \"Miguel Perez\",\n          \"Beam Global\"\n        ],\n        \"semantic_type\": \"\",\n        \"description\": \"\"\n      }\n    },\n    {\n      \"column\": \"title\",\n      \"properties\": {\n        \"dtype\": \"string\",\n        \"num_unique_values\": 53454,\n        \"samples\": [\n          \"singaporeans should avoid all travel to gaza strip, west bank amid attacks on israel: mfa\",\n          \"codere online to release financial results for the third quarter 2023 on november 15\",\n          \"delhi\\u2019s nursery primary branch to hold art exhibition and competition for students\"\n        ],\n        \"semantic_type\": \"\",\n        \"description\": \"\"\n      }\n    },\n    {\n      \"column\": \"description\",\n      \"properties\": {\n        \"dtype\": \"string\",\n        \"num_unique_values\": 53165,\n        \"samples\": [\n          \"Europe News: ROME: Italy and Slovenia are committed to restore free border circulation as soon as conditions will allow to do so, Italian prime minister Giorgia Me.\",\n          \"The Senate President, GodsWill Akpabio, was on Friday elected into the Executive Committee of the Inter-Parliamentary Union. Akpabio\\u2019s election is said to come 59 years after a Nigerian was elected into the body in 1964. The Inter-Parliamentary Union is the g\\u2026\",\n          \"ClearOne (NASDAQ:CLRO \\u2013 Get Free Report) and Franklin Wireless (NASDAQ:FKWL \\u2013 Get Free Report) are both small-cap computer and technology companies, but which is the superior investment? We will contrast the two businesses based on the strength of their earni\\u2026\"\n        ],\n        \"semantic_type\": \"\",\n        \"description\": \"\"\n      }\n    },\n    {\n      \"column\": \"url\",\n      \"properties\": {\n        \"dtype\": \"string\",\n        \"num_unique_values\": 54583,\n        \"samples\": [\n          \"https://abcnews.go.com/US/wireStory/officials-average-gazan-living-pieces-bread-day-people-104623729\",\n          \"https://www.etfdailynews.com/2023/11/10/research-analysts-recent-ratings-changes-for-enerplus-erf/\",\n          \"https://economictimes.indiatimes.com/news/science/curiosity-rover-completes-4000-days-on-mars-nasa/articleshow/105044379.cms\"\n        ],\n        \"semantic_type\": \"\",\n        \"description\": \"\"\n      }\n    },\n    {\n      \"column\": \"url_to_image\",\n      \"properties\": {\n        \"dtype\": \"string\",\n        \"num_unique_values\": 34903,\n        \"samples\": [\n          \"https://img.etimg.com/thumb/msid-105598725,width-1200,height-630,imgsize-37978,overlay-economictimes/photo.jpg\",\n          \"https://ichef.bbci.co.uk/news/1024/branded_news/EC76/production/_131643506_adam_neumann_getty.jpg\",\n          \"https://img.etimg.com/thumb/msid-105306215,width-1200,height-630,imgsize-1559332,overlay-etwealth/photo.jpg\"\n        ],\n        \"semantic_type\": \"\",\n        \"description\": \"\"\n      }\n    },\n    {\n      \"column\": \"published_at\",\n      \"properties\": {\n        \"dtype\": \"string\",\n        \"num_unique_values\": 41387,\n        \"samples\": [\n          \"2023-11-19 03:24:40\",\n          \"2023-10-21 10:06:13.000000\",\n          \"2023-11-04 09:48:23\"\n        ],\n        \"semantic_type\": \"\",\n        \"description\": \"\"\n      }\n    },\n    {\n      \"column\": \"content\",\n      \"properties\": {\n        \"dtype\": \"string\",\n        \"num_unique_values\": 52174,\n        \"samples\": [\n          \"Tucker Carlson.Scott Olson/Getty Images\\n<ul>\\n<li>Tucker Carlson sent an email to his staff after his ousting from Fox News, a new book says.\\u00a0</li>\\n<li>\\\"I've never worked with better people in my lif\\u2026 [+2358 chars]\",\n          \"The ground beneath New York City is sinking and rising across different areas, new research shows. The sinking has contributed to worsening flood risks, including at sporting arenas, roadways, and a \\u2026 [+3019 chars]\",\n          \"JP Morgan chief executive Jamie Dimon has warned the world may be facing \\\"the most dangerous time in decades\\\".\\nConflicts in Ukraine and Israel could hit energy and food prices, and global trade, the\\u2026 [+873 chars]\"\n        ],\n        \"semantic_type\": \"\",\n        \"description\": \"\"\n      }\n    },\n    {\n      \"column\": \"category\",\n      \"properties\": {\n        \"dtype\": \"category\",\n        \"num_unique_values\": 256,\n        \"samples\": [\n          \"Greece\",\n          \"Nicaragua\",\n          \"Cryptocurrency\"\n        ],\n        \"semantic_type\": \"\",\n        \"description\": \"\"\n      }\n    },\n    {\n      \"column\": \"article\",\n      \"properties\": {\n        \"dtype\": \"string\",\n        \"num_unique_values\": 54148,\n        \"samples\": [\n          \"MEXICO CITY and ROCHELLE PARK, N.J., Nov.  27, 2023  (GLOBE NEWSWIRE) --ZRG, a New Jersey-based global talent advisory firm, has established a new office in Mexico City, located in the U.S. Green Building Council LEED Platinum-certified Torre Virreyes Building in theLomas de Chapultepec. Following successful expansion in Middle East, South America, Europe, the UK, and Australia, the new office of ZRG Partners Mexico SRL de CV is positioned to deliver their tech-enabled analytic suite of talent management solutions to clients with operations in this very important market. \\u201cMexico is the biggest trading partner of the United States,\\u201d said Nate Frank, President ZRG Executive Search Division. \\u201cAs of July 2023, Mexico was the source of 15% of U.S. imports, compared to 14.6% from China, and comprises a growing share of U.S. imports in many manufacturing sectors where ZRG has strong relationships, such as the Automotive, Machinery, and Medical Devices industries.\\u201d \\u201cMexico\\u2019s own market expansion has also been driving growing demand for our Financial, Professional Services & Technology, and Education Practices,\\u201d Frank added. ZRG brings to Mexico an expanded service offering including Organizational Culture Assessment, Consulting and transformation through itsWalking the Talkdivision. Their Brimstone Consulting division further adds leadership alignment and acceleration, bringing clients an end-to-end talent solution. The company also serves clients in over two dozen industry and functional practices, including media, sports and entertainment powerhouses,TurnkeyZRGandSucherman Group. The office will be led by Managing Director Pablo Perella-Berdun and Senior Advisor Hugo Lara. Perella-Berdun has 5 years in Executive Search and Talent Development in Mexico and previously enjoyed a 27-year corporate career in Consumer, Medical Device, Hygiene & Safety Products, and Specialty Chemicals, including Kimberly-Clark where he led local, regional, and global roles for over 20 years. Prior to joining ZRG, Hugo Lara was a Senior Client Partner, Industrial and Advisory leader, as well as the Office Managing Director at Korn Ferry. Previously, he held senior management roles at Mexichem (now Orbia), Vitro, Parmalat, S.C. Johnson, and Grupo Christianson. In addition, he has participated in several associations and boards, including the Board of Regal Forest, Quality Post,Union de Cr\\u00e9dito para la Contadur\\u00eda P\\u00fablica, Grupo Prez, Cervecer\\u00eda Centro Americana, Endeavor, and theNuevo LeonState Board of Clusters. He is also the co-founder of The Morphing Group LLC, a business transformation advisory firm. About ZRGZRGis a global talent advisory firm that is changing the way companies hire and manage talent. ZRG\\u2019s data-driven approach to executive and professional search has been changing the way clients think about how to find top talent. The company\\u2019s digitalZi platformcombines talent intelligence, candidate insights, and process improvement to dramatically deliver executive searches quicker and with proven better results. Today, with the help of private equity investorRFE Investment Partners, ZRG is among the fastest growing firms in the search industry and provides a full suite of retained search, on-demand talent, and consulting and advisory solutions across the Americas, Asia, Europe, and Australia. Contact: John Mooney, Over The Moon PR, (908) 720-6057,john@overthemoonpr.com\",\n          \"CAE (NYSE:CAE\\u2013Get Free Report) (TSE:CAE)was downgraded by equities researchers atBank of Americafrom a \\u201cneutral\\u201d rating to an \\u201cunderperform\\u201d rating in a research report issued on Wednesday,MarketBeatreports. Other research analysts also recently issued research reports about the company. TD Securities raised their price target on CAE from $37.00 to $39.00 and gave the stock a \\u201cbuy\\u201d rating in a research note on Thursday, August 10th. Royal Bank of Canada lowered their target price on CAE from $37.00 to $34.00 and set an \\u201coutperform\\u201d rating on the stock in a research note on Wednesday, November 15th. The Goldman Sachs Group upped their price target on CAE from $27.00 to $30.00 and gave the stock a \\u201cbuy\\u201d rating in a research note on Thursday, August 10th. Finally,StockNews.comupgraded shares of CAE from a \\u201chold\\u201d rating to a \\u201cbuy\\u201d rating in a research note on Tuesday, November 21st. One analyst has rated the stock with a sell rating and five have assigned a buy rating to the company\\u2019s stock. According to MarketBeat, the stock presently has a consensus rating of \\u201cModerate Buy\\u201d and an average price target of $35.43. View Our Latest Research Report on CAE Want More Great Investing Ideas?10 Stocks to Sell NOW!3 Stocks to DOUBLE This YearThe 10 Best Stocks to Own in 20237 Stocks to Buy and Hold ForeverShares ofNYSE:CAEopened at $20.50 on Wednesday. The company has a market cap of $6.52 billion, a PE ratio of 29.71, a P/E/G ratio of 1.64 and a beta of 1.68. The company has a current ratio of 0.94, a quick ratio of 0.67 and a debt-to-equity ratio of 0.62. The company\\u2019s 50 day moving average is $21.91 and its two-hundred day moving average is $22.29. CAE has a 52 week low of $18.74 and a 52 week high of $25.04. Hedge funds have recently bought and sold shares of the company. Mackenzie Financial Corp boosted its holdings in shares of CAE by 29.9% during the second quarter. Mackenzie Financial Corp now owns 31,960,441 shares of the aerospace company\\u2019s stock worth $715,244,000 after purchasing an additional 7,363,625 shares during the last quarter. Beutel Goodman & Co Ltd. boosted its stake in CAE by 0.7% in the 2nd quarter. Beutel Goodman & Co Ltd. now owns 12,081,091 shares of the aerospace company\\u2019s stock worth $270,700,000 after buying an additional 80,220 shares during the last quarter. Royal Bank of Canada grew its holdings in CAE by 1.3% in the 2nd quarter. Royal Bank of Canada now owns 10,034,952 shares of the aerospace company\\u2019s stock valued at $224,583,000 after buying an additional 128,457 shares during the period. Vanguard Group Inc. increased its stake in shares of CAE by 3.1% during the 3rd quarter. Vanguard Group Inc. now owns 10,006,409 shares of the aerospace company\\u2019s stock valued at $153,398,000 after acquiring an additional 300,523 shares during the last quarter. Finally, FMR LLC lifted its holdings in shares of CAE by 2.6% during the 3rd quarter. FMR LLC now owns 9,004,271 shares of the aerospace company\\u2019s stock worth $210,216,000 after acquiring an additional 230,912 shares during the period. Institutional investors and hedge funds own 64.34% of the company\\u2019s stock. (Get Free Report) CAE Inc, together with its subsidiaries, provides simulation training and critical operations support solutions in Canada, the United States, the United Kingdom, Europe, Asia, Oceania and Africa, and Rest of Americas. It operates through three segments: Civil Aviation, Defense and Security, and Healthcare.   \",\n          \"new research emphasizes the previously underestimated significance of atmospheric on aerosol depositions on ecosystems. additionally, the ecological effects of on aerosol depositions are anticipated to increase due to global warming and the decrease in nitrogen oxide emissions from human activities.the study was led by dr. yumin li of southern university of science and technology (sustech), in collaboration with professor tzung-may fu's team at sustech and professor jian zhen yu's team at hong kong university of science and technology (hkust).  the research ispublishedin the journalnational science review.atmospheric deposition of organic nitrogen (on) plays a crucial role in theglobal nitrogen cycle. surface measurements showed that 2% to 70% of the local atmospheric deposition flux of total nitrogen was organic. however, previous models have largely neglected the spatial and chemical variations of atmospheric on, leading to inadequate assessment of its global impacts.the scientists from sustech and hkust developed a comprehensive global model of atmospheric gaseous and particulate on, incorporating the latest knowledge on emissions and secondary formations. their simulated surface concentrations of atmospheric particulate on (onp) were highly consistent with global observations, a feat that had not been achieved previously. in addition, their simulated atmospheric deposition flux aligned with global observations within an order of magnitude.the scientists estimated that the global atmospheric on deposition was 26 tg n yr-1. this majority of this deposition (23 tg n yr-1) occurred in the form of on aerosol and accounted for 19% of the global atmospheric total n deposition (124 tg n yr-1). the main sources of on aerosols were wildfires, ocean emissions, and secondary formation.\\\"our simulation showed that the deposition of on aerosol from the atmosphere is a crucial external source of nitrogen to nitrogen-limited ecosystems worldwide, such as theboreal forests, tundras, and the arctic ocean,\\\" fu says.in a future warming climate, wildfires will likely become more frequent and intense. climate warming will also lead to surface ocean stratification, making atmospheric on deposition an increasingly important source of nitrogen to these ecosystems. \\\"we need to further examine the environmental impacts of atmospheric on aerosol and how those impacts respond toclimate change.\\\"\"\n        ],\n        \"semantic_type\": \"\",\n        \"description\": \"\"\n      }\n    },\n    {\n      \"column\": \"title_sentiment\",\n      \"properties\": {\n        \"dtype\": \"category\",\n        \"num_unique_values\": 3,\n        \"samples\": [\n          \"Neutral\",\n          \"Positive\",\n          \"Negative\"\n        ],\n        \"semantic_type\": \"\",\n        \"description\": \"\"\n      }\n    }\n  ]\n}"
            }
          },
          "metadata": {},
          "execution_count": 4
        }
      ],
      "source": [
        "news_data.head()"
      ]
    },
    {
      "cell_type": "code",
      "execution_count": null,
      "metadata": {
        "colab": {
          "base_uri": "https://localhost:8080/",
          "height": 206
        },
        "id": "ZawwtA29CDJy",
        "outputId": "8bcbd7be-0bb6-4eda-e7e0-4dd55eaec5c6"
      },
      "outputs": [
        {
          "output_type": "execute_result",
          "data": {
            "text/plain": [
              "                                               title  \\\n",
              "0  superstar chef yannick alléno brings refined f...   \n",
              "1  nice claim top spot in ligue 1 with late win a...   \n",
              "2  amphibians are the world’s most vulnerable spe...   \n",
              "3              image: rusty red waters in madagascar   \n",
              "4  everything leaving max (formerly hbo max) in n...   \n",
              "\n",
              "                                             article  \n",
              "0  pavyllon london, at four seasons hotel london ...  \n",
              "1  nice moved into provisional first place in the...  \n",
              "2  the world’s frogs, salamanders, newts and othe...  \n",
              "3  iron-rich sediment colors the red-orange water...  \n",
              "4  everything ends. no, i’m not having an existen...  "
            ],
            "text/html": [
              "\n",
              "  <div id=\"df-6c94bb4b-6950-4f80-8f7f-25e500848d2b\" class=\"colab-df-container\">\n",
              "    <div>\n",
              "<style scoped>\n",
              "    .dataframe tbody tr th:only-of-type {\n",
              "        vertical-align: middle;\n",
              "    }\n",
              "\n",
              "    .dataframe tbody tr th {\n",
              "        vertical-align: top;\n",
              "    }\n",
              "\n",
              "    .dataframe thead th {\n",
              "        text-align: right;\n",
              "    }\n",
              "</style>\n",
              "<table border=\"1\" class=\"dataframe\">\n",
              "  <thead>\n",
              "    <tr style=\"text-align: right;\">\n",
              "      <th></th>\n",
              "      <th>title</th>\n",
              "      <th>article</th>\n",
              "    </tr>\n",
              "  </thead>\n",
              "  <tbody>\n",
              "    <tr>\n",
              "      <th>0</th>\n",
              "      <td>superstar chef yannick alléno brings refined f...</td>\n",
              "      <td>pavyllon london, at four seasons hotel london ...</td>\n",
              "    </tr>\n",
              "    <tr>\n",
              "      <th>1</th>\n",
              "      <td>nice claim top spot in ligue 1 with late win a...</td>\n",
              "      <td>nice moved into provisional first place in the...</td>\n",
              "    </tr>\n",
              "    <tr>\n",
              "      <th>2</th>\n",
              "      <td>amphibians are the world’s most vulnerable spe...</td>\n",
              "      <td>the world’s frogs, salamanders, newts and othe...</td>\n",
              "    </tr>\n",
              "    <tr>\n",
              "      <th>3</th>\n",
              "      <td>image: rusty red waters in madagascar</td>\n",
              "      <td>iron-rich sediment colors the red-orange water...</td>\n",
              "    </tr>\n",
              "    <tr>\n",
              "      <th>4</th>\n",
              "      <td>everything leaving max (formerly hbo max) in n...</td>\n",
              "      <td>everything ends. no, i’m not having an existen...</td>\n",
              "    </tr>\n",
              "  </tbody>\n",
              "</table>\n",
              "</div>\n",
              "    <div class=\"colab-df-buttons\">\n",
              "\n",
              "  <div class=\"colab-df-container\">\n",
              "    <button class=\"colab-df-convert\" onclick=\"convertToInteractive('df-6c94bb4b-6950-4f80-8f7f-25e500848d2b')\"\n",
              "            title=\"Convert this dataframe to an interactive table.\"\n",
              "            style=\"display:none;\">\n",
              "\n",
              "  <svg xmlns=\"http://www.w3.org/2000/svg\" height=\"24px\" viewBox=\"0 -960 960 960\">\n",
              "    <path d=\"M120-120v-720h720v720H120Zm60-500h600v-160H180v160Zm220 220h160v-160H400v160Zm0 220h160v-160H400v160ZM180-400h160v-160H180v160Zm440 0h160v-160H620v160ZM180-180h160v-160H180v160Zm440 0h160v-160H620v160Z\"/>\n",
              "  </svg>\n",
              "    </button>\n",
              "\n",
              "  <style>\n",
              "    .colab-df-container {\n",
              "      display:flex;\n",
              "      gap: 12px;\n",
              "    }\n",
              "\n",
              "    .colab-df-convert {\n",
              "      background-color: #E8F0FE;\n",
              "      border: none;\n",
              "      border-radius: 50%;\n",
              "      cursor: pointer;\n",
              "      display: none;\n",
              "      fill: #1967D2;\n",
              "      height: 32px;\n",
              "      padding: 0 0 0 0;\n",
              "      width: 32px;\n",
              "    }\n",
              "\n",
              "    .colab-df-convert:hover {\n",
              "      background-color: #E2EBFA;\n",
              "      box-shadow: 0px 1px 2px rgba(60, 64, 67, 0.3), 0px 1px 3px 1px rgba(60, 64, 67, 0.15);\n",
              "      fill: #174EA6;\n",
              "    }\n",
              "\n",
              "    .colab-df-buttons div {\n",
              "      margin-bottom: 4px;\n",
              "    }\n",
              "\n",
              "    [theme=dark] .colab-df-convert {\n",
              "      background-color: #3B4455;\n",
              "      fill: #D2E3FC;\n",
              "    }\n",
              "\n",
              "    [theme=dark] .colab-df-convert:hover {\n",
              "      background-color: #434B5C;\n",
              "      box-shadow: 0px 1px 3px 1px rgba(0, 0, 0, 0.15);\n",
              "      filter: drop-shadow(0px 1px 2px rgba(0, 0, 0, 0.3));\n",
              "      fill: #FFFFFF;\n",
              "    }\n",
              "  </style>\n",
              "\n",
              "    <script>\n",
              "      const buttonEl =\n",
              "        document.querySelector('#df-6c94bb4b-6950-4f80-8f7f-25e500848d2b button.colab-df-convert');\n",
              "      buttonEl.style.display =\n",
              "        google.colab.kernel.accessAllowed ? 'block' : 'none';\n",
              "\n",
              "      async function convertToInteractive(key) {\n",
              "        const element = document.querySelector('#df-6c94bb4b-6950-4f80-8f7f-25e500848d2b');\n",
              "        const dataTable =\n",
              "          await google.colab.kernel.invokeFunction('convertToInteractive',\n",
              "                                                    [key], {});\n",
              "        if (!dataTable) return;\n",
              "\n",
              "        const docLinkHtml = 'Like what you see? Visit the ' +\n",
              "          '<a target=\"_blank\" href=https://colab.research.google.com/notebooks/data_table.ipynb>data table notebook</a>'\n",
              "          + ' to learn more about interactive tables.';\n",
              "        element.innerHTML = '';\n",
              "        dataTable['output_type'] = 'display_data';\n",
              "        await google.colab.output.renderOutput(dataTable, element);\n",
              "        const docLink = document.createElement('div');\n",
              "        docLink.innerHTML = docLinkHtml;\n",
              "        element.appendChild(docLink);\n",
              "      }\n",
              "    </script>\n",
              "  </div>\n",
              "\n",
              "\n",
              "<div id=\"df-911fafdf-4274-40a8-89ff-46eb076f1f7b\">\n",
              "  <button class=\"colab-df-quickchart\" onclick=\"quickchart('df-911fafdf-4274-40a8-89ff-46eb076f1f7b')\"\n",
              "            title=\"Suggest charts\"\n",
              "            style=\"display:none;\">\n",
              "\n",
              "<svg xmlns=\"http://www.w3.org/2000/svg\" height=\"24px\"viewBox=\"0 0 24 24\"\n",
              "     width=\"24px\">\n",
              "    <g>\n",
              "        <path d=\"M19 3H5c-1.1 0-2 .9-2 2v14c0 1.1.9 2 2 2h14c1.1 0 2-.9 2-2V5c0-1.1-.9-2-2-2zM9 17H7v-7h2v7zm4 0h-2V7h2v10zm4 0h-2v-4h2v4z\"/>\n",
              "    </g>\n",
              "</svg>\n",
              "  </button>\n",
              "\n",
              "<style>\n",
              "  .colab-df-quickchart {\n",
              "      --bg-color: #E8F0FE;\n",
              "      --fill-color: #1967D2;\n",
              "      --hover-bg-color: #E2EBFA;\n",
              "      --hover-fill-color: #174EA6;\n",
              "      --disabled-fill-color: #AAA;\n",
              "      --disabled-bg-color: #DDD;\n",
              "  }\n",
              "\n",
              "  [theme=dark] .colab-df-quickchart {\n",
              "      --bg-color: #3B4455;\n",
              "      --fill-color: #D2E3FC;\n",
              "      --hover-bg-color: #434B5C;\n",
              "      --hover-fill-color: #FFFFFF;\n",
              "      --disabled-bg-color: #3B4455;\n",
              "      --disabled-fill-color: #666;\n",
              "  }\n",
              "\n",
              "  .colab-df-quickchart {\n",
              "    background-color: var(--bg-color);\n",
              "    border: none;\n",
              "    border-radius: 50%;\n",
              "    cursor: pointer;\n",
              "    display: none;\n",
              "    fill: var(--fill-color);\n",
              "    height: 32px;\n",
              "    padding: 0;\n",
              "    width: 32px;\n",
              "  }\n",
              "\n",
              "  .colab-df-quickchart:hover {\n",
              "    background-color: var(--hover-bg-color);\n",
              "    box-shadow: 0 1px 2px rgba(60, 64, 67, 0.3), 0 1px 3px 1px rgba(60, 64, 67, 0.15);\n",
              "    fill: var(--button-hover-fill-color);\n",
              "  }\n",
              "\n",
              "  .colab-df-quickchart-complete:disabled,\n",
              "  .colab-df-quickchart-complete:disabled:hover {\n",
              "    background-color: var(--disabled-bg-color);\n",
              "    fill: var(--disabled-fill-color);\n",
              "    box-shadow: none;\n",
              "  }\n",
              "\n",
              "  .colab-df-spinner {\n",
              "    border: 2px solid var(--fill-color);\n",
              "    border-color: transparent;\n",
              "    border-bottom-color: var(--fill-color);\n",
              "    animation:\n",
              "      spin 1s steps(1) infinite;\n",
              "  }\n",
              "\n",
              "  @keyframes spin {\n",
              "    0% {\n",
              "      border-color: transparent;\n",
              "      border-bottom-color: var(--fill-color);\n",
              "      border-left-color: var(--fill-color);\n",
              "    }\n",
              "    20% {\n",
              "      border-color: transparent;\n",
              "      border-left-color: var(--fill-color);\n",
              "      border-top-color: var(--fill-color);\n",
              "    }\n",
              "    30% {\n",
              "      border-color: transparent;\n",
              "      border-left-color: var(--fill-color);\n",
              "      border-top-color: var(--fill-color);\n",
              "      border-right-color: var(--fill-color);\n",
              "    }\n",
              "    40% {\n",
              "      border-color: transparent;\n",
              "      border-right-color: var(--fill-color);\n",
              "      border-top-color: var(--fill-color);\n",
              "    }\n",
              "    60% {\n",
              "      border-color: transparent;\n",
              "      border-right-color: var(--fill-color);\n",
              "    }\n",
              "    80% {\n",
              "      border-color: transparent;\n",
              "      border-right-color: var(--fill-color);\n",
              "      border-bottom-color: var(--fill-color);\n",
              "    }\n",
              "    90% {\n",
              "      border-color: transparent;\n",
              "      border-bottom-color: var(--fill-color);\n",
              "    }\n",
              "  }\n",
              "</style>\n",
              "\n",
              "  <script>\n",
              "    async function quickchart(key) {\n",
              "      const quickchartButtonEl =\n",
              "        document.querySelector('#' + key + ' button');\n",
              "      quickchartButtonEl.disabled = true;  // To prevent multiple clicks.\n",
              "      quickchartButtonEl.classList.add('colab-df-spinner');\n",
              "      try {\n",
              "        const charts = await google.colab.kernel.invokeFunction(\n",
              "            'suggestCharts', [key], {});\n",
              "      } catch (error) {\n",
              "        console.error('Error during call to suggestCharts:', error);\n",
              "      }\n",
              "      quickchartButtonEl.classList.remove('colab-df-spinner');\n",
              "      quickchartButtonEl.classList.add('colab-df-quickchart-complete');\n",
              "    }\n",
              "    (() => {\n",
              "      let quickchartButtonEl =\n",
              "        document.querySelector('#df-911fafdf-4274-40a8-89ff-46eb076f1f7b button');\n",
              "      quickchartButtonEl.style.display =\n",
              "        google.colab.kernel.accessAllowed ? 'block' : 'none';\n",
              "    })();\n",
              "  </script>\n",
              "</div>\n",
              "\n",
              "    </div>\n",
              "  </div>\n"
            ],
            "application/vnd.google.colaboratory.intrinsic+json": {
              "type": "dataframe",
              "variable_name": "df",
              "summary": "{\n  \"name\": \"df\",\n  \"rows\": 58356,\n  \"fields\": [\n    {\n      \"column\": \"title\",\n      \"properties\": {\n        \"dtype\": \"string\",\n        \"num_unique_values\": 53454,\n        \"samples\": [\n          \"singaporeans should avoid all travel to gaza strip, west bank amid attacks on israel: mfa\",\n          \"codere online to release financial results for the third quarter 2023 on november 15\",\n          \"delhi\\u2019s nursery primary branch to hold art exhibition and competition for students\"\n        ],\n        \"semantic_type\": \"\",\n        \"description\": \"\"\n      }\n    },\n    {\n      \"column\": \"article\",\n      \"properties\": {\n        \"dtype\": \"string\",\n        \"num_unique_values\": 54148,\n        \"samples\": [\n          \"MEXICO CITY and ROCHELLE PARK, N.J., Nov.  27, 2023  (GLOBE NEWSWIRE) --ZRG, a New Jersey-based global talent advisory firm, has established a new office in Mexico City, located in the U.S. Green Building Council LEED Platinum-certified Torre Virreyes Building in theLomas de Chapultepec. Following successful expansion in Middle East, South America, Europe, the UK, and Australia, the new office of ZRG Partners Mexico SRL de CV is positioned to deliver their tech-enabled analytic suite of talent management solutions to clients with operations in this very important market. \\u201cMexico is the biggest trading partner of the United States,\\u201d said Nate Frank, President ZRG Executive Search Division. \\u201cAs of July 2023, Mexico was the source of 15% of U.S. imports, compared to 14.6% from China, and comprises a growing share of U.S. imports in many manufacturing sectors where ZRG has strong relationships, such as the Automotive, Machinery, and Medical Devices industries.\\u201d \\u201cMexico\\u2019s own market expansion has also been driving growing demand for our Financial, Professional Services & Technology, and Education Practices,\\u201d Frank added. ZRG brings to Mexico an expanded service offering including Organizational Culture Assessment, Consulting and transformation through itsWalking the Talkdivision. Their Brimstone Consulting division further adds leadership alignment and acceleration, bringing clients an end-to-end talent solution. The company also serves clients in over two dozen industry and functional practices, including media, sports and entertainment powerhouses,TurnkeyZRGandSucherman Group. The office will be led by Managing Director Pablo Perella-Berdun and Senior Advisor Hugo Lara. Perella-Berdun has 5 years in Executive Search and Talent Development in Mexico and previously enjoyed a 27-year corporate career in Consumer, Medical Device, Hygiene & Safety Products, and Specialty Chemicals, including Kimberly-Clark where he led local, regional, and global roles for over 20 years. Prior to joining ZRG, Hugo Lara was a Senior Client Partner, Industrial and Advisory leader, as well as the Office Managing Director at Korn Ferry. Previously, he held senior management roles at Mexichem (now Orbia), Vitro, Parmalat, S.C. Johnson, and Grupo Christianson. In addition, he has participated in several associations and boards, including the Board of Regal Forest, Quality Post,Union de Cr\\u00e9dito para la Contadur\\u00eda P\\u00fablica, Grupo Prez, Cervecer\\u00eda Centro Americana, Endeavor, and theNuevo LeonState Board of Clusters. He is also the co-founder of The Morphing Group LLC, a business transformation advisory firm. About ZRGZRGis a global talent advisory firm that is changing the way companies hire and manage talent. ZRG\\u2019s data-driven approach to executive and professional search has been changing the way clients think about how to find top talent. The company\\u2019s digitalZi platformcombines talent intelligence, candidate insights, and process improvement to dramatically deliver executive searches quicker and with proven better results. Today, with the help of private equity investorRFE Investment Partners, ZRG is among the fastest growing firms in the search industry and provides a full suite of retained search, on-demand talent, and consulting and advisory solutions across the Americas, Asia, Europe, and Australia. Contact: John Mooney, Over The Moon PR, (908) 720-6057,john@overthemoonpr.com\",\n          \"CAE (NYSE:CAE\\u2013Get Free Report) (TSE:CAE)was downgraded by equities researchers atBank of Americafrom a \\u201cneutral\\u201d rating to an \\u201cunderperform\\u201d rating in a research report issued on Wednesday,MarketBeatreports. Other research analysts also recently issued research reports about the company. TD Securities raised their price target on CAE from $37.00 to $39.00 and gave the stock a \\u201cbuy\\u201d rating in a research note on Thursday, August 10th. Royal Bank of Canada lowered their target price on CAE from $37.00 to $34.00 and set an \\u201coutperform\\u201d rating on the stock in a research note on Wednesday, November 15th. The Goldman Sachs Group upped their price target on CAE from $27.00 to $30.00 and gave the stock a \\u201cbuy\\u201d rating in a research note on Thursday, August 10th. Finally,StockNews.comupgraded shares of CAE from a \\u201chold\\u201d rating to a \\u201cbuy\\u201d rating in a research note on Tuesday, November 21st. One analyst has rated the stock with a sell rating and five have assigned a buy rating to the company\\u2019s stock. According to MarketBeat, the stock presently has a consensus rating of \\u201cModerate Buy\\u201d and an average price target of $35.43. View Our Latest Research Report on CAE Want More Great Investing Ideas?10 Stocks to Sell NOW!3 Stocks to DOUBLE This YearThe 10 Best Stocks to Own in 20237 Stocks to Buy and Hold ForeverShares ofNYSE:CAEopened at $20.50 on Wednesday. The company has a market cap of $6.52 billion, a PE ratio of 29.71, a P/E/G ratio of 1.64 and a beta of 1.68. The company has a current ratio of 0.94, a quick ratio of 0.67 and a debt-to-equity ratio of 0.62. The company\\u2019s 50 day moving average is $21.91 and its two-hundred day moving average is $22.29. CAE has a 52 week low of $18.74 and a 52 week high of $25.04. Hedge funds have recently bought and sold shares of the company. Mackenzie Financial Corp boosted its holdings in shares of CAE by 29.9% during the second quarter. Mackenzie Financial Corp now owns 31,960,441 shares of the aerospace company\\u2019s stock worth $715,244,000 after purchasing an additional 7,363,625 shares during the last quarter. Beutel Goodman & Co Ltd. boosted its stake in CAE by 0.7% in the 2nd quarter. Beutel Goodman & Co Ltd. now owns 12,081,091 shares of the aerospace company\\u2019s stock worth $270,700,000 after buying an additional 80,220 shares during the last quarter. Royal Bank of Canada grew its holdings in CAE by 1.3% in the 2nd quarter. Royal Bank of Canada now owns 10,034,952 shares of the aerospace company\\u2019s stock valued at $224,583,000 after buying an additional 128,457 shares during the period. Vanguard Group Inc. increased its stake in shares of CAE by 3.1% during the 3rd quarter. Vanguard Group Inc. now owns 10,006,409 shares of the aerospace company\\u2019s stock valued at $153,398,000 after acquiring an additional 300,523 shares during the last quarter. Finally, FMR LLC lifted its holdings in shares of CAE by 2.6% during the 3rd quarter. FMR LLC now owns 9,004,271 shares of the aerospace company\\u2019s stock worth $210,216,000 after acquiring an additional 230,912 shares during the period. Institutional investors and hedge funds own 64.34% of the company\\u2019s stock. (Get Free Report) CAE Inc, together with its subsidiaries, provides simulation training and critical operations support solutions in Canada, the United States, the United Kingdom, Europe, Asia, Oceania and Africa, and Rest of Americas. It operates through three segments: Civil Aviation, Defense and Security, and Healthcare.   \",\n          \"new research emphasizes the previously underestimated significance of atmospheric on aerosol depositions on ecosystems. additionally, the ecological effects of on aerosol depositions are anticipated to increase due to global warming and the decrease in nitrogen oxide emissions from human activities.the study was led by dr. yumin li of southern university of science and technology (sustech), in collaboration with professor tzung-may fu's team at sustech and professor jian zhen yu's team at hong kong university of science and technology (hkust).  the research ispublishedin the journalnational science review.atmospheric deposition of organic nitrogen (on) plays a crucial role in theglobal nitrogen cycle. surface measurements showed that 2% to 70% of the local atmospheric deposition flux of total nitrogen was organic. however, previous models have largely neglected the spatial and chemical variations of atmospheric on, leading to inadequate assessment of its global impacts.the scientists from sustech and hkust developed a comprehensive global model of atmospheric gaseous and particulate on, incorporating the latest knowledge on emissions and secondary formations. their simulated surface concentrations of atmospheric particulate on (onp) were highly consistent with global observations, a feat that had not been achieved previously. in addition, their simulated atmospheric deposition flux aligned with global observations within an order of magnitude.the scientists estimated that the global atmospheric on deposition was 26 tg n yr-1. this majority of this deposition (23 tg n yr-1) occurred in the form of on aerosol and accounted for 19% of the global atmospheric total n deposition (124 tg n yr-1). the main sources of on aerosols were wildfires, ocean emissions, and secondary formation.\\\"our simulation showed that the deposition of on aerosol from the atmosphere is a crucial external source of nitrogen to nitrogen-limited ecosystems worldwide, such as theboreal forests, tundras, and the arctic ocean,\\\" fu says.in a future warming climate, wildfires will likely become more frequent and intense. climate warming will also lead to surface ocean stratification, making atmospheric on deposition an increasingly important source of nitrogen to these ecosystems. \\\"we need to further examine the environmental impacts of atmospheric on aerosol and how those impacts respond toclimate change.\\\"\"\n        ],\n        \"semantic_type\": \"\",\n        \"description\": \"\"\n      }\n    }\n  ]\n}"
            }
          },
          "metadata": {},
          "execution_count": 5
        }
      ],
      "source": [
        "# get titles and  news body\n",
        "df = news_data[['title','article']]\n",
        "df.head()"
      ]
    },
    {
      "cell_type": "markdown",
      "metadata": {
        "id": "eOAcuEG7Db45"
      },
      "source": [
        "## world cloud for title and article body"
      ]
    },
    {
      "cell_type": "markdown",
      "metadata": {
        "id": "pHWFIOIxXPPf"
      },
      "source": [
        "# Preprocessing"
      ]
    },
    {
      "cell_type": "code",
      "execution_count": null,
      "metadata": {
        "colab": {
          "base_uri": "https://localhost:8080/"
        },
        "id": "_PO45J_0B0aY",
        "outputId": "273e272a-e655-455f-d898-af763c565fa9"
      },
      "outputs": [
        {
          "output_type": "stream",
          "name": "stderr",
          "text": [
            "[nltk_data] Downloading package wordnet to /root/nltk_data...\n",
            "[nltk_data] Downloading package stopwords to /root/nltk_data...\n",
            "[nltk_data]   Unzipping corpora/stopwords.zip.\n",
            "[nltk_data] Downloading package punkt to /root/nltk_data...\n",
            "[nltk_data]   Unzipping tokenizers/punkt.zip.\n"
          ]
        },
        {
          "output_type": "execute_result",
          "data": {
            "text/plain": [
              "True"
            ]
          },
          "metadata": {},
          "execution_count": 6
        }
      ],
      "source": [
        "\n",
        "nltk.download('wordnet')\n",
        "\n",
        "nltk.download('stopwords')\n",
        "nltk.download('punkt')"
      ]
    },
    {
      "cell_type": "code",
      "execution_count": null,
      "metadata": {
        "id": "B0tkc-yGB0Xg"
      },
      "outputs": [],
      "source": [
        "\n",
        "#function to clean the texts\n",
        "def clean_text(text):\n",
        "    # delete dnltk.download('punkt') special characters\n",
        "    text = re.sub(r\"[^\\w\\s]\", \"\", text)\n",
        "\n",
        "    # text to lower case\n",
        "    text = text.lower()\n",
        "\n",
        "    # Tokenisation\n",
        "    tokens = word_tokenize(text)\n",
        "\n",
        "    # delete empty words\n",
        "    stop_words = set(stopwords.words(\"english\"))\n",
        "    tokens = [word for word in tokens if word not in stop_words]\n",
        "\n",
        "    # join tokens\n",
        "    cleaned_text = ' '.join(tokens)\n",
        "\n",
        "    return cleaned_text\n"
      ]
    },
    {
      "cell_type": "code",
      "execution_count": null,
      "metadata": {
        "colab": {
          "background_save": true,
          "base_uri": "https://localhost:8080/"
        },
        "id": "aEZxMZUPB0RH",
        "outputId": "c9680907-ce3d-48a6-ce8b-91e7014dd941"
      },
      "outputs": [
        {
          "output_type": "stream",
          "name": "stderr",
          "text": [
            "<ipython-input-8-368f85238361>:2: SettingWithCopyWarning: \n",
            "A value is trying to be set on a copy of a slice from a DataFrame.\n",
            "Try using .loc[row_indexer,col_indexer] = value instead\n",
            "\n",
            "See the caveats in the documentation: https://pandas.pydata.org/pandas-docs/stable/user_guide/indexing.html#returning-a-view-versus-a-copy\n",
            "  df['processed_title'] = df['title'].apply(clean_text)\n"
          ]
        }
      ],
      "source": [
        "\n",
        "# clean titles and bodies\n",
        "df['processed_title'] = df['title'].apply(clean_text)\n",
        "df['processed_body'] = df['article'].apply(clean_text)\n",
        "\n",
        "df.head()"
      ]
    },
    {
      "cell_type": "markdown",
      "metadata": {
        "id": "Jd3NQvwrG5o1"
      },
      "source": [
        "# Word Embeddings using tf-idf and cosine similarity computation"
      ]
    },
    {
      "cell_type": "code",
      "execution_count": null,
      "metadata": {
        "colab": {
          "background_save": true
        },
        "id": "0swXh8zvYIE0"
      },
      "outputs": [],
      "source": [
        "def tf_idf_similarty(title, body):\n",
        "  # cobine title and body in a list\n",
        "  title_body=[title, body]\n",
        "\n",
        "  # Create an instance of  TfidfVectorizer\n",
        "  vectorizer = TfidfVectorizer()\n",
        "  # get tf-idf scores\n",
        "  tfidf_matrix = vectorizer.fit_transform(title_body)\n",
        "  # title and body similarity score\n",
        "  similarity_scores = cosine_similarity( tfidf_matrix , tfidf_matrix)\n",
        "  return similarity_scores[0,1]\n",
        "\n"
      ]
    },
    {
      "cell_type": "code",
      "execution_count": null,
      "metadata": {
        "colab": {
          "background_save": true
        },
        "id": "vpk1KCxdfXEI"
      },
      "outputs": [],
      "source": []
    },
    {
      "cell_type": "code",
      "execution_count": null,
      "metadata": {
        "colab": {
          "background_save": true
        },
        "id": "EiNRJpRXgYhS"
      },
      "outputs": [],
      "source": [
        "similarities=[]\n",
        "for title, body in zip(df['processed_title'],df['processed_body']):\n",
        "  similarities.append(tf_idf_similarty(title, body))\n"
      ]
    },
    {
      "cell_type": "code",
      "execution_count": null,
      "metadata": {
        "colab": {
          "background_save": true
        },
        "id": "V2FCWKPLhWH4"
      },
      "outputs": [],
      "source": [
        "df['title_body_similarity_score']=similarities"
      ]
    },
    {
      "cell_type": "code",
      "execution_count": null,
      "metadata": {
        "colab": {
          "background_save": true
        },
        "id": "awPuQtM4hkaV"
      },
      "outputs": [],
      "source": [
        "df.head()"
      ]
    },
    {
      "cell_type": "code",
      "execution_count": null,
      "metadata": {
        "colab": {
          "background_save": true
        },
        "id": "_xCYSEJth9pN"
      },
      "outputs": [],
      "source": [
        "import seaborn as sns"
      ]
    },
    {
      "cell_type": "code",
      "execution_count": null,
      "metadata": {
        "colab": {
          "background_save": true
        },
        "id": "_qC_XvTuhmFe"
      },
      "outputs": [],
      "source": [
        "df['title_body_similarity_score'].describe()"
      ]
    },
    {
      "cell_type": "code",
      "execution_count": null,
      "metadata": {
        "colab": {
          "background_save": true
        },
        "id": "gmYks9Arh1Ie"
      },
      "outputs": [],
      "source": [
        "plt.figure(figsize=(12, 5))\n",
        "sns.boxplot(data=df, x='title_body_similarity_score')\n",
        "plt.xlabel('Similarity score between title and body')\n",
        "plt.show()"
      ]
    },
    {
      "cell_type": "markdown",
      "metadata": {
        "id": "5TweCH64lxbT"
      },
      "source": [
        "# Articles with similarity greater or equal 0.5"
      ]
    },
    {
      "cell_type": "code",
      "execution_count": null,
      "metadata": {
        "colab": {
          "background_save": true
        },
        "id": "ysDnPNSeiMmr"
      },
      "outputs": [],
      "source": [
        "len(df[df['title_body_similarity_score']>=0.5])/df.shape[0]*100"
      ]
    },
    {
      "cell_type": "code",
      "execution_count": null,
      "metadata": {
        "colab": {
          "background_save": true
        },
        "id": "QR9lFN2Aj5HR"
      },
      "outputs": [],
      "source": [
        "len(df[df['title_body_similarity_score']>=0.5])"
      ]
    },
    {
      "cell_type": "markdown",
      "metadata": {
        "id": "glKIa67bkEip"
      },
      "source": [
        "Only 799 (1.37%) articles have similaty between their title and body greater or equal 0.5."
      ]
    },
    {
      "cell_type": "markdown",
      "metadata": {
        "id": "OVIQbp9vnmX6"
      },
      "source": [
        "# Topic modeling"
      ]
    },
    {
      "cell_type": "markdown",
      "metadata": {
        "id": "JEB0Q9bQoRNv"
      },
      "source": [
        "## Additional libraries"
      ]
    },
    {
      "cell_type": "code",
      "execution_count": null,
      "metadata": {
        "id": "9vSR2WZxoQ2h"
      },
      "outputs": [],
      "source": [
        "\n",
        "import warnings\n",
        "import spacy\n",
        "from sklearn.datasets import fetch_20newsgroups\n",
        "from string import punctuation\n",
        "from spacy.lang.en.stop_words import STOP_WORDS\n",
        "import gensim.corpora as corpora\n",
        "import gensim\n",
        "from gensim.utils import simple_preprocess\n",
        "from gensim.models import CoherenceModel\n",
        "from gensim.models.ldamodel import LdaModel\n",
        "from wordcloud import WordCloud, STOPWORDS\n",
        "import matplotlib.colors as mcolors\n",
        "warnings.filterwarnings('ignore')"
      ]
    },
    {
      "cell_type": "code",
      "execution_count": null,
      "metadata": {
        "id": "UeAJe-FzoE73"
      },
      "outputs": [],
      "source": [
        "data=df['processed_title']"
      ]
    },
    {
      "cell_type": "markdown",
      "metadata": {
        "id": "k0njnmcRorhZ"
      },
      "source": [
        "# Load Spacy"
      ]
    },
    {
      "cell_type": "code",
      "execution_count": null,
      "metadata": {
        "id": "yMza-_uFoKNn"
      },
      "outputs": [],
      "source": [
        "nlp = spacy.load(\"en_core_web_sm\")"
      ]
    },
    {
      "cell_type": "code",
      "execution_count": null,
      "metadata": {
        "id": "nzOwABCJoKKO"
      },
      "outputs": [],
      "source": [
        "stopwords = list(STOP_WORDS)"
      ]
    },
    {
      "cell_type": "markdown",
      "metadata": {
        "id": "7G-e8po_pAOc"
      },
      "source": [
        "# Processing data"
      ]
    },
    {
      "cell_type": "code",
      "execution_count": null,
      "metadata": {
        "id": "VypTla0XoKHd"
      },
      "outputs": [],
      "source": [
        "def spacy_tokenizer(sentence):\n",
        "    mytokens = nlp(sentence)\n",
        "    mytokens = [ word.lemma_.lower().strip() if word.lemma_ != \"-PRON-\" else word.lower_ for word in mytokens ]\n",
        "    mytokens = [ word for word in mytokens if word not in stopwords and word not in punctuation ]\n",
        "    mytokens = [ word for word in mytokens if len(word) > 3]\n",
        "    mytokens = \" \".join([i for i in mytokens])\n",
        "    return mytokens"
      ]
    },
    {
      "cell_type": "code",
      "execution_count": null,
      "metadata": {
        "id": "dSvUf_HmpHBS"
      },
      "outputs": [],
      "source": [
        "# Creating a list of documents from the complaints column\n",
        "list_of_docs = data.tolist()\n",
        "\n",
        "# Implementing the function for all the complaints of list_of_docs\n",
        "doc_clean = [spacy_tokenizer(doc).split() for doc in list_of_docs]"
      ]
    },
    {
      "cell_type": "markdown",
      "metadata": {
        "id": "ZRXJRpVGplrb"
      },
      "source": [
        "# Create Corpus using Bag of words"
      ]
    },
    {
      "cell_type": "code",
      "execution_count": null,
      "metadata": {
        "id": "3SCSF7vOpG7R"
      },
      "outputs": [],
      "source": [
        "words = corpora.Dictionary(doc_clean)\n",
        "corpus = [words.doc2bow(doc) for doc in doc_clean]"
      ]
    },
    {
      "cell_type": "markdown",
      "metadata": {
        "id": "YmVsFBQfpxJW"
      },
      "source": [
        "# LDA Modeling"
      ]
    },
    {
      "cell_type": "code",
      "execution_count": null,
      "metadata": {
        "id": "qh8u6x6Sk8TZ"
      },
      "outputs": [],
      "source": [
        "lda_model = LdaModel(corpus=corpus, id2word=words, num_topics=10, random_state=2, update_every=1,\\\n",
        "                                 passes=10, alpha='auto')"
      ]
    },
    {
      "cell_type": "markdown",
      "metadata": {
        "id": "C83nRXDkp27S"
      },
      "source": [
        "#Word Could"
      ]
    },
    {
      "cell_type": "code",
      "execution_count": null,
      "metadata": {
        "colab": {
          "base_uri": "https://localhost:8080/",
          "height": 437
        },
        "id": "CrFDOhQmp2g5",
        "outputId": "f187f86d-8a30-44b4-807b-4329aa58d902"
      },
      "outputs": [
        {
          "data": {
            "image/png": "[encoded data removed]",
            "text/plain": [
              "<Figure size 1000x600 with 10 Axes>"
            ]
          },
          "metadata": {},
          "output_type": "display_data"
        }
      ],
      "source": [
        "cols = [color for name, color in mcolors.TABLEAU_COLORS.items()]  # more colors: 'mcolors.XKCD_COLORS'\n",
        "\n",
        "cloud = WordCloud(background_color='white',\n",
        "                  width=2500,\n",
        "                  height=1800,\n",
        "                  max_words=10,\n",
        "                  colormap='tab10',\n",
        "                  color_func=lambda *args, **kwargs: cols[i],\n",
        "                  prefer_horizontal=1.0)\n",
        "\n",
        "topics = lda_model.show_topics(formatted=False)\n",
        "\n",
        "fig, axes = plt.subplots(2, 5, figsize=(10,6), sharex=True, sharey=True)\n",
        "\n",
        "for i, ax in enumerate(axes.flatten()):\n",
        "    fig.add_subplot(ax)\n",
        "    topic_words = dict(topics[i][1])\n",
        "    cloud.generate_from_frequencies(topic_words, max_font_size=300)\n",
        "    plt.gca().imshow(cloud)\n",
        "    plt.gca().set_title('Topic ' + str(i), fontdict=dict(size=16))\n",
        "    plt.gca().axis('off')\n",
        "\n",
        "\n",
        "plt.subplots_adjust(wspace=0, hspace=0)\n",
        "plt.axis('off')\n",
        "plt.margins(x=1, y=1)\n",
        "plt.tight_layout()\n",
        "fig.savefig('word_cloud.png')\n",
        "plt.show()"
      ]
    },
    {
      "cell_type": "markdown",
      "metadata": {
        "id": "_y5F5afi7Q77"
      },
      "source": [
        "# categorise the title/content into a known set of topic categories"
      ]
    },
    {
      "cell_type": "code",
      "execution_count": null,
      "metadata": {
        "colab": {
          "background_save": true,
          "base_uri": "https://localhost:8080/",
          "height": 386,
          "referenced_widgets": [
            "3427c752c7524b14834ab4072a5d2751",
            "53a7bb68830c4915879c960f35aca4a2",
            "c63cf1f7bf894dda8a170fb34a2e40d6",
            "ae55c8590f7a42418d436cbc445857cd",
            "7c04688a9dc548f086835fc7c8ff7051",
            "74c13566cedd4c0c9b783c38ce71d300",
            "a7484b3e33774888a9807b51fc595326",
            "227e33bf12fc44dabe4c673744306b72",
            "67503f782cba4b62a1302928e986bfb0",
            "1a2be2a8a0b34086819f417432d3d582",
            "c4723c44cd764448b5bced3b8cddd5d9"
          ]
        },
        "id": "dNkKGv9Wx7G1",
        "outputId": "03b92d42-a842-463b-c103-26456dadab11"
      },
      "outputs": [
        {
          "name": "stderr",
          "output_type": "stream",
          "text": [
            "/usr/local/lib/python3.10/dist-packages/huggingface_hub/utils/_token.py:88: UserWarning: \n",
            "The secret `HF_TOKEN` does not exist in your Colab secrets.\n",
            "To authenticate with the Hugging Face Hub, create a token in your settings tab (https://huggingface.co/settings/tokens), set it as secret in your Google Colab and restart your session.\n",
            "You will be able to reuse this secret in all of your notebooks.\n",
            "Please note that authentication is recommended but still optional to access public models or datasets.\n",
            "  warnings.warn(\n"
          ]
        },
        {
          "data": {
            "application/vnd.jupyter.widget-view+json": {
              "model_id": "3427c752c7524b14834ab4072a5d2751",
              "version_major": 2,
              "version_minor": 0
            },
            "text/plain": [
              "modules.json:   0%|          | 0.00/349 [00:00<?, ?B/s]"
            ]
          },
          "metadata": {},
          "output_type": "display_data"
        },
        {
          "data": {
            "application/vnd.jupyter.widget-view+json": {
              "model_id": "53a7bb68830c4915879c960f35aca4a2",
              "version_major": 2,
              "version_minor": 0
            },
            "text/plain": [
              "config_sentence_transformers.json:   0%|          | 0.00/116 [00:00<?, ?B/s]"
            ]
          },
          "metadata": {},
          "output_type": "display_data"
        },
        {
          "data": {
            "application/vnd.jupyter.widget-view+json": {
              "model_id": "c63cf1f7bf894dda8a170fb34a2e40d6",
              "version_major": 2,
              "version_minor": 0
            },
            "text/plain": [
              "README.md:   0%|          | 0.00/10.7k [00:00<?, ?B/s]"
            ]
          },
          "metadata": {},
          "output_type": "display_data"
        },
        {
          "data": {
            "application/vnd.jupyter.widget-view+json": {
              "model_id": "ae55c8590f7a42418d436cbc445857cd",
              "version_major": 2,
              "version_minor": 0
            },
            "text/plain": [
              "sentence_bert_config.json:   0%|          | 0.00/53.0 [00:00<?, ?B/s]"
            ]
          },
          "metadata": {},
          "output_type": "display_data"
        },
        {
          "data": {
            "application/vnd.jupyter.widget-view+json": {
              "model_id": "7c04688a9dc548f086835fc7c8ff7051",
              "version_major": 2,
              "version_minor": 0
            },
            "text/plain": [
              "config.json:   0%|          | 0.00/612 [00:00<?, ?B/s]"
            ]
          },
          "metadata": {},
          "output_type": "display_data"
        },
        {
          "data": {
            "application/vnd.jupyter.widget-view+json": {
              "model_id": "74c13566cedd4c0c9b783c38ce71d300",
              "version_major": 2,
              "version_minor": 0
            },
            "text/plain": [
              "model.safetensors:   0%|          | 0.00/90.9M [00:00<?, ?B/s]"
            ]
          },
          "metadata": {},
          "output_type": "display_data"
        },
        {
          "data": {
            "application/vnd.jupyter.widget-view+json": {
              "model_id": "a7484b3e33774888a9807b51fc595326",
              "version_major": 2,
              "version_minor": 0
            },
            "text/plain": [
              "tokenizer_config.json:   0%|          | 0.00/350 [00:00<?, ?B/s]"
            ]
          },
          "metadata": {},
          "output_type": "display_data"
        },
        {
          "data": {
            "application/vnd.jupyter.widget-view+json": {
              "model_id": "227e33bf12fc44dabe4c673744306b72",
              "version_major": 2,
              "version_minor": 0
            },
            "text/plain": [
              "vocab.txt:   0%|          | 0.00/232k [00:00<?, ?B/s]"
            ]
          },
          "metadata": {},
          "output_type": "display_data"
        },
        {
          "data": {
            "application/vnd.jupyter.widget-view+json": {
              "model_id": "67503f782cba4b62a1302928e986bfb0",
              "version_major": 2,
              "version_minor": 0
            },
            "text/plain": [
              "tokenizer.json:   0%|          | 0.00/466k [00:00<?, ?B/s]"
            ]
          },
          "metadata": {},
          "output_type": "display_data"
        },
        {
          "data": {
            "application/vnd.jupyter.widget-view+json": {
              "model_id": "1a2be2a8a0b34086819f417432d3d582",
              "version_major": 2,
              "version_minor": 0
            },
            "text/plain": [
              "special_tokens_map.json:   0%|          | 0.00/112 [00:00<?, ?B/s]"
            ]
          },
          "metadata": {},
          "output_type": "display_data"
        },
        {
          "data": {
            "application/vnd.jupyter.widget-view+json": {
              "model_id": "c4723c44cd764448b5bced3b8cddd5d9",
              "version_major": 2,
              "version_minor": 0
            },
            "text/plain": [
              "1_Pooling/config.json:   0%|          | 0.00/190 [00:00<?, ?B/s]"
            ]
          },
          "metadata": {},
          "output_type": "display_data"
        }
      ],
      "source": [
        "# torch and KeyBERT to extract keyword\n",
        "# if you found kernel issue after import the keybert, you have to import the torch before the keybert\n",
        "import torch\n",
        "from keybert import KeyBERT\n",
        "\n",
        "import pandas as pd\n",
        "import numpy as np\n",
        "import string\n",
        "string.punctuation\n",
        "import datetime\n",
        "\n",
        "# initialize now as filename\n",
        "now = datetime.datetime.today().strftime('%d_%m_%Y')\n",
        "\n",
        "# nltk to nlp preprocessing\n",
        "import nltk\n",
        "stopwords = nltk.corpus.stopwords.words('english')\n",
        "from nltk.tokenize import sent_tokenize, word_tokenize\n",
        "\n",
        "# initialize KeyBERT model\n",
        "kw_model = KeyBERT()"
      ]
    },
    {
      "cell_type": "code",
      "execution_count": null,
      "metadata": {
        "colab": {
          "background_save": true
        },
        "id": "uP0pPbVRx64l"
      },
      "outputs": [],
      "source": [
        "# define preprocessing function\n",
        "def preprocessing(text):\n",
        "    # join title, set title as lower, replace several string from title, and tokenize title\n",
        "    title = text\n",
        "    title = \"\".join([i for i in title if i not in string.punctuation])\n",
        "    title = title.lower()\n",
        "    title = title.replace(\"alqur’an\", \"alquran\")\n",
        "    title = title.replace(\"qur’an\", \"quran\")\n",
        "    title = word_tokenize(title)\n",
        "\n",
        "    # initialize stopwords and extend several word to the stop_list\n",
        "    stopwords = nltk.corpus.stopwords.words('english')\n",
        "    stop_list = ['database', '20112020']\n",
        "    stopwords.extend(stop_list)\n",
        "\n",
        "    # remove stop words\n",
        "    title = [i for i in title if i not in stopwords]\n",
        "\n",
        "    # join title into string\n",
        "    title = \" \".join([i for i in title if i not in string.punctuation])\n",
        "    return title"
      ]
    },
    {
      "cell_type": "code",
      "execution_count": null,
      "metadata": {
        "colab": {
          "background_save": true
        },
        "id": "EGunnjDjyPtc",
        "outputId": "cd13feca-893a-4f1e-e881-435cc558b0ec"
      },
      "outputs": [
        {
          "name": "stderr",
          "output_type": "stream",
          "text": [
            "<ipython-input-42-68001f04fce2>:2: SettingWithCopyWarning: \n",
            "A value is trying to be set on a copy of a slice from a DataFrame.\n",
            "Try using .loc[row_indexer,col_indexer] = value instead\n",
            "\n",
            "See the caveats in the documentation: https://pandas.pydata.org/pandas-docs/stable/user_guide/indexing.html#returning-a-view-versus-a-copy\n",
            "  df['title']= df['processed_title'].apply(lambda x:preprocessing(x))\n"
          ]
        }
      ],
      "source": [
        "# apply function to data\n",
        "df['title']= df['processed_title'].apply(lambda x:preprocessing(x))"
      ]
    },
    {
      "cell_type": "code",
      "execution_count": null,
      "metadata": {
        "colab": {
          "background_save": true
        },
        "id": "Fxi0vJxtyVde"
      },
      "outputs": [],
      "source": [
        "# initialize model and apply lambda function to join the keywords as a string\n",
        "# parameter descriptions\n",
        "\"\"\"\n",
        "    top_n: the number of keywords(phrases) extracted for each row\n",
        "    stop_words: type of language to remove stop words\n",
        "    n_gram_range:\n",
        "    length of the word or phrase to be extracted,\n",
        "    if the value is (3, 3) then it will extract 3 phrases with each phrase consisting of 3 words\n",
        "    diversity: parameter level of similarity between words or phrases\n",
        "\"\"\"\n",
        "extract_kw = lambda x: ', '.join(k[0] for k in kw_model.extract_keywords(x, keyphrase_ngram_range=(3, 3), stop_words='english',\n",
        "                              use_mmr=True, top_n=3, diversity=0.5))\n",
        "\n",
        "# apply function to the 'topics' column\n",
        "df['topics'] = df['title'].apply(extract_kw)"
      ]
    },
    {
      "cell_type": "code",
      "execution_count": null,
      "metadata": {
        "colab": {
          "background_save": true
        },
        "id": "8Mr3eCsZzk6A"
      },
      "outputs": [],
      "source": [
        "df.head()"
      ]
    },
    {
      "cell_type": "markdown",
      "metadata": {
        "id": "8aSEYRY_7jN8"
      },
      "source": [
        "# Which websites reported the most diverse topics?"
      ]
    },
    {
      "cell_type": "code",
      "execution_count": null,
      "metadata": {
        "colab": {
          "background_save": true
        },
        "id": "I9rcTbIf7ipt"
      },
      "outputs": [],
      "source": [
        "news_data['topics']=df[\"topics\"]"
      ]
    },
    {
      "cell_type": "code",
      "execution_count": null,
      "metadata": {
        "id": "EIRGHCKFAKVK"
      },
      "outputs": [],
      "source": [
        "news_data.to_csv(\"topic_data\")"
      ]
    },
    {
      "cell_type": "code",
      "execution_count": null,
      "metadata": {
        "colab": {
          "background_save": true
        },
        "id": "L73SEoBv7ux4"
      },
      "outputs": [],
      "source": [
        "news_data.head()"
      ]
    },
    {
      "cell_type": "markdown",
      "metadata": {
        "id": "QJo--_x57vP1"
      },
      "source": [
        "# Analyse the topic trends. For example, plot a 2D scatter plot such that x-axis is date, y-axis is the topics, and the color represents the count of the topic in that particular date. What  are the observed trends?\n"
      ]
    },
    {
      "cell_type": "code",
      "execution_count": null,
      "metadata": {
        "id": "lSI1jJKX7v8K"
      },
      "outputs": [],
      "source": []
    },
    {
      "cell_type": "code",
      "execution_count": null,
      "metadata": {
        "id": "mlYcFxNj8MJ6"
      },
      "outputs": [],
      "source": []
    },
    {
      "cell_type": "code",
      "execution_count": null,
      "metadata": {
        "id": "S40-3e2d8MGI"
      },
      "outputs": [],
      "source": []
    },
    {
      "cell_type": "markdown",
      "metadata": {
        "id": "2Hi8lz_78N3l"
      },
      "source": [
        "# Model the events that the news articles are written about (this is the most challenging part of this project)."
      ]
    },
    {
      "cell_type": "code",
      "execution_count": null,
      "metadata": {
        "id": "nStIu7uJ8Otx"
      },
      "outputs": [],
      "source": []
    },
    {
      "cell_type": "markdown",
      "metadata": {
        "id": "XoXFpl_M8X8Y"
      },
      "source": [
        "# How many events are covered in the data?\n"
      ]
    },
    {
      "cell_type": "markdown",
      "metadata": {
        "id": "Qki_9Wu88ZrQ"
      },
      "source": [
        "# Analyse which news sites report events the earliest?\n"
      ]
    },
    {
      "cell_type": "markdown",
      "metadata": {
        "id": "SM_cmW-B8Zni"
      },
      "source": [
        "# Which events have the highest reporting?\n"
      ]
    },
    {
      "cell_type": "markdown",
      "metadata": {
        "id": "KJTtr-Z08jxO"
      },
      "source": [
        "# What is the correlation between news sites reporting events?\n"
      ]
    },
    {
      "cell_type": "code",
      "execution_count": null,
      "metadata": {
        "id": "barAtkYu8Y4c"
      },
      "outputs": [],
      "source": []
    }
  ],
  "metadata": {
    "accelerator": "GPU",
    "colab": {
      "gpuType": "T4",
      "provenance": [],
      "authorship_tag": "ABX9TyNJrRT3oQwPxtdWyG0eUAuq",
      "include_colab_link": true
    },
    "kernelspec": {
      "display_name": "Python 3",
      "name": "python3"
    },
    "language_info": {
      "name": "python"
    }
  },
  "nbformat": 4,
  "nbformat_minor": 0
}