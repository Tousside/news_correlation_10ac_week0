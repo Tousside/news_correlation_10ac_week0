{
  "cells": [
    {
      "cell_type": "markdown",
      "metadata": {
        "id": "zlcmgC3RWm8g"
      },
      "source": [
        "# Libraries"
      ]
    },
    {
      "cell_type": "code",
      "execution_count": 1,
      "metadata": {
        "id": "o3vS3W3KWVlN"
      },
      "outputs": [],
      "source": [
        "import numpy as np\n",
        "import pandas as pd\n",
        "import matplotlib.pyplot as plt\n",
        "import nltk\n",
        "from nltk.corpus import stopwords\n",
        "from nltk.tokenize import word_tokenize\n",
        "from sklearn.feature_extraction.text import TfidfVectorizer\n",
        "from sklearn.metrics.pairwise import cosine_similarity\n",
        "from wordcloud import WordCloud\n",
        "import re\n",
        "from nltk.stem import WordNetLemmatizer"
      ]
    },
    {
      "cell_type": "markdown",
      "metadata": {
        "id": "X3QrL73yWvnd"
      },
      "source": [
        "# Data"
      ]
    },
    {
      "cell_type": "code",
      "execution_count": 2,
      "metadata": {
        "id": "uSmm9eCqWssP",
        "colab": {
          "base_uri": "https://localhost:8080/"
        },
        "outputId": "05a561dd-45aa-4b54-deeb-1790478e3347"
      },
      "outputs": [
        {
          "output_type": "stream",
          "name": "stdout",
          "text": [
            "Mounted at /content/drive\n"
          ]
        }
      ],
      "source": [
        "\n",
        "\n",
        "from google.colab import drive\n",
        "drive.mount('/content/drive')"
      ]
    },
    {
      "cell_type": "code",
      "execution_count": 3,
      "metadata": {
        "id": "WOjrMvINW6Co"
      },
      "outputs": [],
      "source": [
        "news_data= pd.read_csv('drive/MyDrive/data.csv.zip')"
      ]
    },
    {
      "cell_type": "code",
      "execution_count": 4,
      "metadata": {
        "colab": {
          "base_uri": "https://localhost:8080/",
          "height": 484
        },
        "id": "ZJdyNDlhXak9",
        "outputId": "d2c340b7-5346-4ce6-8367-7a38b9c28469"
      },
      "outputs": [
        {
          "output_type": "execute_result",
          "data": {
            "text/plain": [
              "   article_id source_id     source_name  \\\n",
              "0       81664       NaN          Forbes   \n",
              "1       81667       NaN             CNA   \n",
              "2       81694      time            Time   \n",
              "3       81695       NaN        Phys.Org   \n",
              "4       81703       NaN  Digital Trends   \n",
              "\n",
              "                                              author  \\\n",
              "0  Elizabeth Brownfield, Contributor, \\n Elizabet...   \n",
              "1                                                NaN   \n",
              "2                              Christina Larson / AP   \n",
              "3                                       Sara Schmidt   \n",
              "4                                       Jason Struss   \n",
              "\n",
              "                                               title  \\\n",
              "0  superstar chef yannick alléno brings refined f...   \n",
              "1  nice claim top spot in ligue 1 with late win a...   \n",
              "2  amphibians are the world’s most vulnerable spe...   \n",
              "3              image: rusty red waters in madagascar   \n",
              "4  everything leaving max (formerly hbo max) in n...   \n",
              "\n",
              "                                         description  \\\n",
              "0  Now open in Mayfair at Four Seasons Hotel Lond...   \n",
              "1  Nice moved into provisional first place in the...   \n",
              "2  The world’s frogs, salamanders, newts, and oth...   \n",
              "3  Iron-rich sediment colors the red-orange water...   \n",
              "4  From Gangs of London to Fear the Walking Dead ...   \n",
              "\n",
              "                                                 url  \\\n",
              "0  https://www.forbes.com/sites/elizabethbrownfie...   \n",
              "1  https://www.channelnewsasia.com/sport/nice-cla...   \n",
              "2  https://time.com/6320467/amphibians-most-vulne...   \n",
              "3  https://phys.org/news/2023-10-image-rusty-red-...   \n",
              "4  https://www.digitaltrends.com/movies/everythin...   \n",
              "\n",
              "                                        url_to_image  \\\n",
              "0  https://imageio.forbes.com/specials-images/ima...   \n",
              "1  https://onecms-res.cloudinary.com/image/upload...   \n",
              "2  https://api.time.com/wp-content/uploads/2023/1...   \n",
              "3  https://scx2.b-cdn.net/gfx/news/2023/image-rus...   \n",
              "4  https://www.digitaltrends.com/wp-content/uploa...   \n",
              "\n",
              "                 published_at  \\\n",
              "0  2023-11-01 03:27:21.000000   \n",
              "1  2023-10-27 21:28:48.000000   \n",
              "2  2023-10-04 17:36:18.000000   \n",
              "3  2023-10-31 18:04:02.000000   \n",
              "4  2023-10-23 23:09:18.000000   \n",
              "\n",
              "                                             content    category  \\\n",
              "0  Pavyllon London, at Four Seasons Hotel London ...      Monaco   \n",
              "1  Nice moved into provisional first place in the...      Monaco   \n",
              "2  The worlds frogs, salamanders, newts and other...  Madagascar   \n",
              "3  Iron-rich sediment colors the red-orange water...  Madagascar   \n",
              "4  Everything ends. No, I’m not having an existen...  Madagascar   \n",
              "\n",
              "                                             article title_sentiment  \n",
              "0  pavyllon london, at four seasons hotel london ...         Neutral  \n",
              "1  nice moved into provisional first place in the...        Positive  \n",
              "2  the world’s frogs, salamanders, newts and othe...        Negative  \n",
              "3  iron-rich sediment colors the red-orange water...         Neutral  \n",
              "4  everything ends. no, i’m not having an existen...         Neutral  "
            ],
            "text/html": [
              "\n",
              "  <div id=\"df-6026f419-6629-4d8d-ae19-c6d0260248cb\" class=\"colab-df-container\">\n",
              "    <div>\n",
              "<style scoped>\n",
              "    .dataframe tbody tr th:only-of-type {\n",
              "        vertical-align: middle;\n",
              "    }\n",
              "\n",
              "    .dataframe tbody tr th {\n",
              "        vertical-align: top;\n",
              "    }\n",
              "\n",
              "    .dataframe thead th {\n",
              "        text-align: right;\n",
              "    }\n",
              "</style>\n",
              "<table border=\"1\" class=\"dataframe\">\n",
              "  <thead>\n",
              "    <tr style=\"text-align: right;\">\n",
              "      <th></th>\n",
              "      <th>article_id</th>\n",
              "      <th>source_id</th>\n",
              "      <th>source_name</th>\n",
              "      <th>author</th>\n",
              "      <th>title</th>\n",
              "      <th>description</th>\n",
              "      <th>url</th>\n",
              "      <th>url_to_image</th>\n",
              "      <th>published_at</th>\n",
              "      <th>content</th>\n",
              "      <th>category</th>\n",
              "      <th>article</th>\n",
              "      <th>title_sentiment</th>\n",
              "    </tr>\n",
              "  </thead>\n",
              "  <tbody>\n",
              "    <tr>\n",
              "      <th>0</th>\n",
              "      <td>81664</td>\n",
              "      <td>NaN</td>\n",
              "      <td>Forbes</td>\n",
              "      <td>Elizabeth Brownfield, Contributor, \\n Elizabet...</td>\n",
              "      <td>superstar chef yannick alléno brings refined f...</td>\n",
              "      <td>Now open in Mayfair at Four Seasons Hotel Lond...</td>\n",
              "      <td>https://www.forbes.com/sites/elizabethbrownfie...</td>\n",
              "      <td>https://imageio.forbes.com/specials-images/ima...</td>\n",
              "      <td>2023-11-01 03:27:21.000000</td>\n",
              "      <td>Pavyllon London, at Four Seasons Hotel London ...</td>\n",
              "      <td>Monaco</td>\n",
              "      <td>pavyllon london, at four seasons hotel london ...</td>\n",
              "      <td>Neutral</td>\n",
              "    </tr>\n",
              "    <tr>\n",
              "      <th>1</th>\n",
              "      <td>81667</td>\n",
              "      <td>NaN</td>\n",
              "      <td>CNA</td>\n",
              "      <td>NaN</td>\n",
              "      <td>nice claim top spot in ligue 1 with late win a...</td>\n",
              "      <td>Nice moved into provisional first place in the...</td>\n",
              "      <td>https://www.channelnewsasia.com/sport/nice-cla...</td>\n",
              "      <td>https://onecms-res.cloudinary.com/image/upload...</td>\n",
              "      <td>2023-10-27 21:28:48.000000</td>\n",
              "      <td>Nice moved into provisional first place in the...</td>\n",
              "      <td>Monaco</td>\n",
              "      <td>nice moved into provisional first place in the...</td>\n",
              "      <td>Positive</td>\n",
              "    </tr>\n",
              "    <tr>\n",
              "      <th>2</th>\n",
              "      <td>81694</td>\n",
              "      <td>time</td>\n",
              "      <td>Time</td>\n",
              "      <td>Christina Larson / AP</td>\n",
              "      <td>amphibians are the world’s most vulnerable spe...</td>\n",
              "      <td>The world’s frogs, salamanders, newts, and oth...</td>\n",
              "      <td>https://time.com/6320467/amphibians-most-vulne...</td>\n",
              "      <td>https://api.time.com/wp-content/uploads/2023/1...</td>\n",
              "      <td>2023-10-04 17:36:18.000000</td>\n",
              "      <td>The worlds frogs, salamanders, newts and other...</td>\n",
              "      <td>Madagascar</td>\n",
              "      <td>the world’s frogs, salamanders, newts and othe...</td>\n",
              "      <td>Negative</td>\n",
              "    </tr>\n",
              "    <tr>\n",
              "      <th>3</th>\n",
              "      <td>81695</td>\n",
              "      <td>NaN</td>\n",
              "      <td>Phys.Org</td>\n",
              "      <td>Sara Schmidt</td>\n",
              "      <td>image: rusty red waters in madagascar</td>\n",
              "      <td>Iron-rich sediment colors the red-orange water...</td>\n",
              "      <td>https://phys.org/news/2023-10-image-rusty-red-...</td>\n",
              "      <td>https://scx2.b-cdn.net/gfx/news/2023/image-rus...</td>\n",
              "      <td>2023-10-31 18:04:02.000000</td>\n",
              "      <td>Iron-rich sediment colors the red-orange water...</td>\n",
              "      <td>Madagascar</td>\n",
              "      <td>iron-rich sediment colors the red-orange water...</td>\n",
              "      <td>Neutral</td>\n",
              "    </tr>\n",
              "    <tr>\n",
              "      <th>4</th>\n",
              "      <td>81703</td>\n",
              "      <td>NaN</td>\n",
              "      <td>Digital Trends</td>\n",
              "      <td>Jason Struss</td>\n",
              "      <td>everything leaving max (formerly hbo max) in n...</td>\n",
              "      <td>From Gangs of London to Fear the Walking Dead ...</td>\n",
              "      <td>https://www.digitaltrends.com/movies/everythin...</td>\n",
              "      <td>https://www.digitaltrends.com/wp-content/uploa...</td>\n",
              "      <td>2023-10-23 23:09:18.000000</td>\n",
              "      <td>Everything ends. No, I’m not having an existen...</td>\n",
              "      <td>Madagascar</td>\n",
              "      <td>everything ends. no, i’m not having an existen...</td>\n",
              "      <td>Neutral</td>\n",
              "    </tr>\n",
              "  </tbody>\n",
              "</table>\n",
              "</div>\n",
              "    <div class=\"colab-df-buttons\">\n",
              "\n",
              "  <div class=\"colab-df-container\">\n",
              "    <button class=\"colab-df-convert\" onclick=\"convertToInteractive('df-6026f419-6629-4d8d-ae19-c6d0260248cb')\"\n",
              "            title=\"Convert this dataframe to an interactive table.\"\n",
              "            style=\"display:none;\">\n",
              "\n",
              "  <svg xmlns=\"http://www.w3.org/2000/svg\" height=\"24px\" viewBox=\"0 -960 960 960\">\n",
              "    <path d=\"M120-120v-720h720v720H120Zm60-500h600v-160H180v160Zm220 220h160v-160H400v160Zm0 220h160v-160H400v160ZM180-400h160v-160H180v160Zm440 0h160v-160H620v160ZM180-180h160v-160H180v160Zm440 0h160v-160H620v160Z\"/>\n",
              "  </svg>\n",
              "    </button>\n",
              "\n",
              "  <style>\n",
              "    .colab-df-container {\n",
              "      display:flex;\n",
              "      gap: 12px;\n",
              "    }\n",
              "\n",
              "    .colab-df-convert {\n",
              "      background-color: #E8F0FE;\n",
              "      border: none;\n",
              "      border-radius: 50%;\n",
              "      cursor: pointer;\n",
              "      display: none;\n",
              "      fill: #1967D2;\n",
              "      height: 32px;\n",
              "      padding: 0 0 0 0;\n",
              "      width: 32px;\n",
              "    }\n",
              "\n",
              "    .colab-df-convert:hover {\n",
              "      background-color: #E2EBFA;\n",
              "      box-shadow: 0px 1px 2px rgba(60, 64, 67, 0.3), 0px 1px 3px 1px rgba(60, 64, 67, 0.15);\n",
              "      fill: #174EA6;\n",
              "    }\n",
              "\n",
              "    .colab-df-buttons div {\n",
              "      margin-bottom: 4px;\n",
              "    }\n",
              "\n",
              "    [theme=dark] .colab-df-convert {\n",
              "      background-color: #3B4455;\n",
              "      fill: #D2E3FC;\n",
              "    }\n",
              "\n",
              "    [theme=dark] .colab-df-convert:hover {\n",
              "      background-color: #434B5C;\n",
              "      box-shadow: 0px 1px 3px 1px rgba(0, 0, 0, 0.15);\n",
              "      filter: drop-shadow(0px 1px 2px rgba(0, 0, 0, 0.3));\n",
              "      fill: #FFFFFF;\n",
              "    }\n",
              "  </style>\n",
              "\n",
              "    <script>\n",
              "      const buttonEl =\n",
              "        document.querySelector('#df-6026f419-6629-4d8d-ae19-c6d0260248cb button.colab-df-convert');\n",
              "      buttonEl.style.display =\n",
              "        google.colab.kernel.accessAllowed ? 'block' : 'none';\n",
              "\n",
              "      async function convertToInteractive(key) {\n",
              "        const element = document.querySelector('#df-6026f419-6629-4d8d-ae19-c6d0260248cb');\n",
              "        const dataTable =\n",
              "          await google.colab.kernel.invokeFunction('convertToInteractive',\n",
              "                                                    [key], {});\n",
              "        if (!dataTable) return;\n",
              "\n",
              "        const docLinkHtml = 'Like what you see? Visit the ' +\n",
              "          '<a target=\"_blank\" href=https://colab.research.google.com/notebooks/data_table.ipynb>data table notebook</a>'\n",
              "          + ' to learn more about interactive tables.';\n",
              "        element.innerHTML = '';\n",
              "        dataTable['output_type'] = 'display_data';\n",
              "        await google.colab.output.renderOutput(dataTable, element);\n",
              "        const docLink = document.createElement('div');\n",
              "        docLink.innerHTML = docLinkHtml;\n",
              "        element.appendChild(docLink);\n",
              "      }\n",
              "    </script>\n",
              "  </div>\n",
              "\n",
              "\n",
              "<div id=\"df-5b838ff5-625c-4170-b0b3-50f0c1bd2907\">\n",
              "  <button class=\"colab-df-quickchart\" onclick=\"quickchart('df-5b838ff5-625c-4170-b0b3-50f0c1bd2907')\"\n",
              "            title=\"Suggest charts\"\n",
              "            style=\"display:none;\">\n",
              "\n",
              "<svg xmlns=\"http://www.w3.org/2000/svg\" height=\"24px\"viewBox=\"0 0 24 24\"\n",
              "     width=\"24px\">\n",
              "    <g>\n",
              "        <path d=\"M19 3H5c-1.1 0-2 .9-2 2v14c0 1.1.9 2 2 2h14c1.1 0 2-.9 2-2V5c0-1.1-.9-2-2-2zM9 17H7v-7h2v7zm4 0h-2V7h2v10zm4 0h-2v-4h2v4z\"/>\n",
              "    </g>\n",
              "</svg>\n",
              "  </button>\n",
              "\n",
              "<style>\n",
              "  .colab-df-quickchart {\n",
              "      --bg-color: #E8F0FE;\n",
              "      --fill-color: #1967D2;\n",
              "      --hover-bg-color: #E2EBFA;\n",
              "      --hover-fill-color: #174EA6;\n",
              "      --disabled-fill-color: #AAA;\n",
              "      --disabled-bg-color: #DDD;\n",
              "  }\n",
              "\n",
              "  [theme=dark] .colab-df-quickchart {\n",
              "      --bg-color: #3B4455;\n",
              "      --fill-color: #D2E3FC;\n",
              "      --hover-bg-color: #434B5C;\n",
              "      --hover-fill-color: #FFFFFF;\n",
              "      --disabled-bg-color: #3B4455;\n",
              "      --disabled-fill-color: #666;\n",
              "  }\n",
              "\n",
              "  .colab-df-quickchart {\n",
              "    background-color: var(--bg-color);\n",
              "    border: none;\n",
              "    border-radius: 50%;\n",
              "    cursor: pointer;\n",
              "    display: none;\n",
              "    fill: var(--fill-color);\n",
              "    height: 32px;\n",
              "    padding: 0;\n",
              "    width: 32px;\n",
              "  }\n",
              "\n",
              "  .colab-df-quickchart:hover {\n",
              "    background-color: var(--hover-bg-color);\n",
              "    box-shadow: 0 1px 2px rgba(60, 64, 67, 0.3), 0 1px 3px 1px rgba(60, 64, 67, 0.15);\n",
              "    fill: var(--button-hover-fill-color);\n",
              "  }\n",
              "\n",
              "  .colab-df-quickchart-complete:disabled,\n",
              "  .colab-df-quickchart-complete:disabled:hover {\n",
              "    background-color: var(--disabled-bg-color);\n",
              "    fill: var(--disabled-fill-color);\n",
              "    box-shadow: none;\n",
              "  }\n",
              "\n",
              "  .colab-df-spinner {\n",
              "    border: 2px solid var(--fill-color);\n",
              "    border-color: transparent;\n",
              "    border-bottom-color: var(--fill-color);\n",
              "    animation:\n",
              "      spin 1s steps(1) infinite;\n",
              "  }\n",
              "\n",
              "  @keyframes spin {\n",
              "    0% {\n",
              "      border-color: transparent;\n",
              "      border-bottom-color: var(--fill-color);\n",
              "      border-left-color: var(--fill-color);\n",
              "    }\n",
              "    20% {\n",
              "      border-color: transparent;\n",
              "      border-left-color: var(--fill-color);\n",
              "      border-top-color: var(--fill-color);\n",
              "    }\n",
              "    30% {\n",
              "      border-color: transparent;\n",
              "      border-left-color: var(--fill-color);\n",
              "      border-top-color: var(--fill-color);\n",
              "      border-right-color: var(--fill-color);\n",
              "    }\n",
              "    40% {\n",
              "      border-color: transparent;\n",
              "      border-right-color: var(--fill-color);\n",
              "      border-top-color: var(--fill-color);\n",
              "    }\n",
              "    60% {\n",
              "      border-color: transparent;\n",
              "      border-right-color: var(--fill-color);\n",
              "    }\n",
              "    80% {\n",
              "      border-color: transparent;\n",
              "      border-right-color: var(--fill-color);\n",
              "      border-bottom-color: var(--fill-color);\n",
              "    }\n",
              "    90% {\n",
              "      border-color: transparent;\n",
              "      border-bottom-color: var(--fill-color);\n",
              "    }\n",
              "  }\n",
              "</style>\n",
              "\n",
              "  <script>\n",
              "    async function quickchart(key) {\n",
              "      const quickchartButtonEl =\n",
              "        document.querySelector('#' + key + ' button');\n",
              "      quickchartButtonEl.disabled = true;  // To prevent multiple clicks.\n",
              "      quickchartButtonEl.classList.add('colab-df-spinner');\n",
              "      try {\n",
              "        const charts = await google.colab.kernel.invokeFunction(\n",
              "            'suggestCharts', [key], {});\n",
              "      } catch (error) {\n",
              "        console.error('Error during call to suggestCharts:', error);\n",
              "      }\n",
              "      quickchartButtonEl.classList.remove('colab-df-spinner');\n",
              "      quickchartButtonEl.classList.add('colab-df-quickchart-complete');\n",
              "    }\n",
              "    (() => {\n",
              "      let quickchartButtonEl =\n",
              "        document.querySelector('#df-5b838ff5-625c-4170-b0b3-50f0c1bd2907 button');\n",
              "      quickchartButtonEl.style.display =\n",
              "        google.colab.kernel.accessAllowed ? 'block' : 'none';\n",
              "    })();\n",
              "  </script>\n",
              "</div>\n",
              "\n",
              "    </div>\n",
              "  </div>\n"
            ],
            "application/vnd.google.colaboratory.intrinsic+json": {
              "type": "dataframe",
              "variable_name": "news_data",
              "summary": "{\n  \"name\": \"news_data\",\n  \"rows\": 58356,\n  \"fields\": [\n    {\n      \"column\": \"article_id\",\n      \"properties\": {\n        \"dtype\": \"number\",\n        \"std\": 216023,\n        \"min\": 418,\n        \"max\": 781308,\n        \"num_unique_values\": 54583,\n        \"samples\": [\n          145373,\n          248908,\n          181244\n        ],\n        \"semantic_type\": \"\",\n        \"description\": \"\"\n      }\n    },\n    {\n      \"column\": \"source_id\",\n      \"properties\": {\n        \"dtype\": \"category\",\n        \"num_unique_values\": 10,\n        \"samples\": [\n          \"wired\",\n          \"al-jazeera-english\",\n          \"the-times-of-india\"\n        ],\n        \"semantic_type\": \"\",\n        \"description\": \"\"\n      }\n    },\n    {\n      \"column\": \"source_name\",\n      \"properties\": {\n        \"dtype\": \"category\",\n        \"num_unique_values\": 29,\n        \"samples\": [\n          \"ReadWrite\",\n          \"Marketscreener.com\",\n          \"The Indian Express\"\n        ],\n        \"semantic_type\": \"\",\n        \"description\": \"\"\n      }\n    },\n    {\n      \"column\": \"author\",\n      \"properties\": {\n        \"dtype\": \"category\",\n        \"num_unique_values\": 7553,\n        \"samples\": [\n          \"Diana Blaine\",\n          \"Miguel Perez\",\n          \"Beam Global\"\n        ],\n        \"semantic_type\": \"\",\n        \"description\": \"\"\n      }\n    },\n    {\n      \"column\": \"title\",\n      \"properties\": {\n        \"dtype\": \"string\",\n        \"num_unique_values\": 53454,\n        \"samples\": [\n          \"singaporeans should avoid all travel to gaza strip, west bank amid attacks on israel: mfa\",\n          \"codere online to release financial results for the third quarter 2023 on november 15\",\n          \"delhi\\u2019s nursery primary branch to hold art exhibition and competition for students\"\n        ],\n        \"semantic_type\": \"\",\n        \"description\": \"\"\n      }\n    },\n    {\n      \"column\": \"description\",\n      \"properties\": {\n        \"dtype\": \"string\",\n        \"num_unique_values\": 53165,\n        \"samples\": [\n          \"Europe News: ROME: Italy and Slovenia are committed to restore free border circulation as soon as conditions will allow to do so, Italian prime minister Giorgia Me.\",\n          \"The Senate President, GodsWill Akpabio, was on Friday elected into the Executive Committee of the Inter-Parliamentary Union. Akpabio\\u2019s election is said to come 59 years after a Nigerian was elected into the body in 1964. The Inter-Parliamentary Union is the g\\u2026\",\n          \"ClearOne (NASDAQ:CLRO \\u2013 Get Free Report) and Franklin Wireless (NASDAQ:FKWL \\u2013 Get Free Report) are both small-cap computer and technology companies, but which is the superior investment? We will contrast the two businesses based on the strength of their earni\\u2026\"\n        ],\n        \"semantic_type\": \"\",\n        \"description\": \"\"\n      }\n    },\n    {\n      \"column\": \"url\",\n      \"properties\": {\n        \"dtype\": \"string\",\n        \"num_unique_values\": 54583,\n        \"samples\": [\n          \"https://abcnews.go.com/US/wireStory/officials-average-gazan-living-pieces-bread-day-people-104623729\",\n          \"https://www.etfdailynews.com/2023/11/10/research-analysts-recent-ratings-changes-for-enerplus-erf/\",\n          \"https://economictimes.indiatimes.com/news/science/curiosity-rover-completes-4000-days-on-mars-nasa/articleshow/105044379.cms\"\n        ],\n        \"semantic_type\": \"\",\n        \"description\": \"\"\n      }\n    },\n    {\n      \"column\": \"url_to_image\",\n      \"properties\": {\n        \"dtype\": \"string\",\n        \"num_unique_values\": 34903,\n        \"samples\": [\n          \"https://img.etimg.com/thumb/msid-105598725,width-1200,height-630,imgsize-37978,overlay-economictimes/photo.jpg\",\n          \"https://ichef.bbci.co.uk/news/1024/branded_news/EC76/production/_131643506_adam_neumann_getty.jpg\",\n          \"https://img.etimg.com/thumb/msid-105306215,width-1200,height-630,imgsize-1559332,overlay-etwealth/photo.jpg\"\n        ],\n        \"semantic_type\": \"\",\n        \"description\": \"\"\n      }\n    },\n    {\n      \"column\": \"published_at\",\n      \"properties\": {\n        \"dtype\": \"string\",\n        \"num_unique_values\": 41387,\n        \"samples\": [\n          \"2023-11-19 03:24:40\",\n          \"2023-10-21 10:06:13.000000\",\n          \"2023-11-04 09:48:23\"\n        ],\n        \"semantic_type\": \"\",\n        \"description\": \"\"\n      }\n    },\n    {\n      \"column\": \"content\",\n      \"properties\": {\n        \"dtype\": \"string\",\n        \"num_unique_values\": 52174,\n        \"samples\": [\n          \"Tucker Carlson.Scott Olson/Getty Images\\n<ul>\\n<li>Tucker Carlson sent an email to his staff after his ousting from Fox News, a new book says.\\u00a0</li>\\n<li>\\\"I've never worked with better people in my lif\\u2026 [+2358 chars]\",\n          \"The ground beneath New York City is sinking and rising across different areas, new research shows. The sinking has contributed to worsening flood risks, including at sporting arenas, roadways, and a \\u2026 [+3019 chars]\",\n          \"JP Morgan chief executive Jamie Dimon has warned the world may be facing \\\"the most dangerous time in decades\\\".\\nConflicts in Ukraine and Israel could hit energy and food prices, and global trade, the\\u2026 [+873 chars]\"\n        ],\n        \"semantic_type\": \"\",\n        \"description\": \"\"\n      }\n    },\n    {\n      \"column\": \"category\",\n      \"properties\": {\n        \"dtype\": \"category\",\n        \"num_unique_values\": 256,\n        \"samples\": [\n          \"Greece\",\n          \"Nicaragua\",\n          \"Cryptocurrency\"\n        ],\n        \"semantic_type\": \"\",\n        \"description\": \"\"\n      }\n    },\n    {\n      \"column\": \"article\",\n      \"properties\": {\n        \"dtype\": \"string\",\n        \"num_unique_values\": 54148,\n        \"samples\": [\n          \"MEXICO CITY and ROCHELLE PARK, N.J., Nov.  27, 2023  (GLOBE NEWSWIRE) --ZRG, a New Jersey-based global talent advisory firm, has established a new office in Mexico City, located in the U.S. Green Building Council LEED Platinum-certified Torre Virreyes Building in theLomas de Chapultepec. Following successful expansion in Middle East, South America, Europe, the UK, and Australia, the new office of ZRG Partners Mexico SRL de CV is positioned to deliver their tech-enabled analytic suite of talent management solutions to clients with operations in this very important market. \\u201cMexico is the biggest trading partner of the United States,\\u201d said Nate Frank, President ZRG Executive Search Division. \\u201cAs of July 2023, Mexico was the source of 15% of U.S. imports, compared to 14.6% from China, and comprises a growing share of U.S. imports in many manufacturing sectors where ZRG has strong relationships, such as the Automotive, Machinery, and Medical Devices industries.\\u201d \\u201cMexico\\u2019s own market expansion has also been driving growing demand for our Financial, Professional Services & Technology, and Education Practices,\\u201d Frank added. ZRG brings to Mexico an expanded service offering including Organizational Culture Assessment, Consulting and transformation through itsWalking the Talkdivision. Their Brimstone Consulting division further adds leadership alignment and acceleration, bringing clients an end-to-end talent solution. The company also serves clients in over two dozen industry and functional practices, including media, sports and entertainment powerhouses,TurnkeyZRGandSucherman Group. The office will be led by Managing Director Pablo Perella-Berdun and Senior Advisor Hugo Lara. Perella-Berdun has 5 years in Executive Search and Talent Development in Mexico and previously enjoyed a 27-year corporate career in Consumer, Medical Device, Hygiene & Safety Products, and Specialty Chemicals, including Kimberly-Clark where he led local, regional, and global roles for over 20 years. Prior to joining ZRG, Hugo Lara was a Senior Client Partner, Industrial and Advisory leader, as well as the Office Managing Director at Korn Ferry. Previously, he held senior management roles at Mexichem (now Orbia), Vitro, Parmalat, S.C. Johnson, and Grupo Christianson. In addition, he has participated in several associations and boards, including the Board of Regal Forest, Quality Post,Union de Cr\\u00e9dito para la Contadur\\u00eda P\\u00fablica, Grupo Prez, Cervecer\\u00eda Centro Americana, Endeavor, and theNuevo LeonState Board of Clusters. He is also the co-founder of The Morphing Group LLC, a business transformation advisory firm. About ZRGZRGis a global talent advisory firm that is changing the way companies hire and manage talent. ZRG\\u2019s data-driven approach to executive and professional search has been changing the way clients think about how to find top talent. The company\\u2019s digitalZi platformcombines talent intelligence, candidate insights, and process improvement to dramatically deliver executive searches quicker and with proven better results. Today, with the help of private equity investorRFE Investment Partners, ZRG is among the fastest growing firms in the search industry and provides a full suite of retained search, on-demand talent, and consulting and advisory solutions across the Americas, Asia, Europe, and Australia. Contact: John Mooney, Over The Moon PR, (908) 720-6057,john@overthemoonpr.com\",\n          \"CAE (NYSE:CAE\\u2013Get Free Report) (TSE:CAE)was downgraded by equities researchers atBank of Americafrom a \\u201cneutral\\u201d rating to an \\u201cunderperform\\u201d rating in a research report issued on Wednesday,MarketBeatreports. Other research analysts also recently issued research reports about the company. TD Securities raised their price target on CAE from $37.00 to $39.00 and gave the stock a \\u201cbuy\\u201d rating in a research note on Thursday, August 10th. Royal Bank of Canada lowered their target price on CAE from $37.00 to $34.00 and set an \\u201coutperform\\u201d rating on the stock in a research note on Wednesday, November 15th. The Goldman Sachs Group upped their price target on CAE from $27.00 to $30.00 and gave the stock a \\u201cbuy\\u201d rating in a research note on Thursday, August 10th. Finally,StockNews.comupgraded shares of CAE from a \\u201chold\\u201d rating to a \\u201cbuy\\u201d rating in a research note on Tuesday, November 21st. One analyst has rated the stock with a sell rating and five have assigned a buy rating to the company\\u2019s stock. According to MarketBeat, the stock presently has a consensus rating of \\u201cModerate Buy\\u201d and an average price target of $35.43. View Our Latest Research Report on CAE Want More Great Investing Ideas?10 Stocks to Sell NOW!3 Stocks to DOUBLE This YearThe 10 Best Stocks to Own in 20237 Stocks to Buy and Hold ForeverShares ofNYSE:CAEopened at $20.50 on Wednesday. The company has a market cap of $6.52 billion, a PE ratio of 29.71, a P/E/G ratio of 1.64 and a beta of 1.68. The company has a current ratio of 0.94, a quick ratio of 0.67 and a debt-to-equity ratio of 0.62. The company\\u2019s 50 day moving average is $21.91 and its two-hundred day moving average is $22.29. CAE has a 52 week low of $18.74 and a 52 week high of $25.04. Hedge funds have recently bought and sold shares of the company. Mackenzie Financial Corp boosted its holdings in shares of CAE by 29.9% during the second quarter. Mackenzie Financial Corp now owns 31,960,441 shares of the aerospace company\\u2019s stock worth $715,244,000 after purchasing an additional 7,363,625 shares during the last quarter. Beutel Goodman & Co Ltd. boosted its stake in CAE by 0.7% in the 2nd quarter. Beutel Goodman & Co Ltd. now owns 12,081,091 shares of the aerospace company\\u2019s stock worth $270,700,000 after buying an additional 80,220 shares during the last quarter. Royal Bank of Canada grew its holdings in CAE by 1.3% in the 2nd quarter. Royal Bank of Canada now owns 10,034,952 shares of the aerospace company\\u2019s stock valued at $224,583,000 after buying an additional 128,457 shares during the period. Vanguard Group Inc. increased its stake in shares of CAE by 3.1% during the 3rd quarter. Vanguard Group Inc. now owns 10,006,409 shares of the aerospace company\\u2019s stock valued at $153,398,000 after acquiring an additional 300,523 shares during the last quarter. Finally, FMR LLC lifted its holdings in shares of CAE by 2.6% during the 3rd quarter. FMR LLC now owns 9,004,271 shares of the aerospace company\\u2019s stock worth $210,216,000 after acquiring an additional 230,912 shares during the period. Institutional investors and hedge funds own 64.34% of the company\\u2019s stock. (Get Free Report) CAE Inc, together with its subsidiaries, provides simulation training and critical operations support solutions in Canada, the United States, the United Kingdom, Europe, Asia, Oceania and Africa, and Rest of Americas. It operates through three segments: Civil Aviation, Defense and Security, and Healthcare.   \",\n          \"new research emphasizes the previously underestimated significance of atmospheric on aerosol depositions on ecosystems. additionally, the ecological effects of on aerosol depositions are anticipated to increase due to global warming and the decrease in nitrogen oxide emissions from human activities.the study was led by dr. yumin li of southern university of science and technology (sustech), in collaboration with professor tzung-may fu's team at sustech and professor jian zhen yu's team at hong kong university of science and technology (hkust).  the research ispublishedin the journalnational science review.atmospheric deposition of organic nitrogen (on) plays a crucial role in theglobal nitrogen cycle. surface measurements showed that 2% to 70% of the local atmospheric deposition flux of total nitrogen was organic. however, previous models have largely neglected the spatial and chemical variations of atmospheric on, leading to inadequate assessment of its global impacts.the scientists from sustech and hkust developed a comprehensive global model of atmospheric gaseous and particulate on, incorporating the latest knowledge on emissions and secondary formations. their simulated surface concentrations of atmospheric particulate on (onp) were highly consistent with global observations, a feat that had not been achieved previously. in addition, their simulated atmospheric deposition flux aligned with global observations within an order of magnitude.the scientists estimated that the global atmospheric on deposition was 26 tg n yr-1. this majority of this deposition (23 tg n yr-1) occurred in the form of on aerosol and accounted for 19% of the global atmospheric total n deposition (124 tg n yr-1). the main sources of on aerosols were wildfires, ocean emissions, and secondary formation.\\\"our simulation showed that the deposition of on aerosol from the atmosphere is a crucial external source of nitrogen to nitrogen-limited ecosystems worldwide, such as theboreal forests, tundras, and the arctic ocean,\\\" fu says.in a future warming climate, wildfires will likely become more frequent and intense. climate warming will also lead to surface ocean stratification, making atmospheric on deposition an increasingly important source of nitrogen to these ecosystems. \\\"we need to further examine the environmental impacts of atmospheric on aerosol and how those impacts respond toclimate change.\\\"\"\n        ],\n        \"semantic_type\": \"\",\n        \"description\": \"\"\n      }\n    },\n    {\n      \"column\": \"title_sentiment\",\n      \"properties\": {\n        \"dtype\": \"category\",\n        \"num_unique_values\": 3,\n        \"samples\": [\n          \"Neutral\",\n          \"Positive\",\n          \"Negative\"\n        ],\n        \"semantic_type\": \"\",\n        \"description\": \"\"\n      }\n    }\n  ]\n}"
            }
          },
          "metadata": {},
          "execution_count": 4
        }
      ],
      "source": [
        "news_data.head()"
      ]
    },
    {
      "cell_type": "code",
      "execution_count": 5,
      "metadata": {
        "colab": {
          "base_uri": "https://localhost:8080/",
          "height": 206
        },
        "id": "ZawwtA29CDJy",
        "outputId": "fa9b55dd-2ad6-497e-9580-bb2533b28619"
      },
      "outputs": [
        {
          "output_type": "execute_result",
          "data": {
            "text/plain": [
              "                                               title  \\\n",
              "0  superstar chef yannick alléno brings refined f...   \n",
              "1  nice claim top spot in ligue 1 with late win a...   \n",
              "2  amphibians are the world’s most vulnerable spe...   \n",
              "3              image: rusty red waters in madagascar   \n",
              "4  everything leaving max (formerly hbo max) in n...   \n",
              "\n",
              "                                             article  \n",
              "0  pavyllon london, at four seasons hotel london ...  \n",
              "1  nice moved into provisional first place in the...  \n",
              "2  the world’s frogs, salamanders, newts and othe...  \n",
              "3  iron-rich sediment colors the red-orange water...  \n",
              "4  everything ends. no, i’m not having an existen...  "
            ],
            "text/html": [
              "\n",
              "  <div id=\"df-1c5f15e1-25cd-4024-bf11-2636521c714f\" class=\"colab-df-container\">\n",
              "    <div>\n",
              "<style scoped>\n",
              "    .dataframe tbody tr th:only-of-type {\n",
              "        vertical-align: middle;\n",
              "    }\n",
              "\n",
              "    .dataframe tbody tr th {\n",
              "        vertical-align: top;\n",
              "    }\n",
              "\n",
              "    .dataframe thead th {\n",
              "        text-align: right;\n",
              "    }\n",
              "</style>\n",
              "<table border=\"1\" class=\"dataframe\">\n",
              "  <thead>\n",
              "    <tr style=\"text-align: right;\">\n",
              "      <th></th>\n",
              "      <th>title</th>\n",
              "      <th>article</th>\n",
              "    </tr>\n",
              "  </thead>\n",
              "  <tbody>\n",
              "    <tr>\n",
              "      <th>0</th>\n",
              "      <td>superstar chef yannick alléno brings refined f...</td>\n",
              "      <td>pavyllon london, at four seasons hotel london ...</td>\n",
              "    </tr>\n",
              "    <tr>\n",
              "      <th>1</th>\n",
              "      <td>nice claim top spot in ligue 1 with late win a...</td>\n",
              "      <td>nice moved into provisional first place in the...</td>\n",
              "    </tr>\n",
              "    <tr>\n",
              "      <th>2</th>\n",
              "      <td>amphibians are the world’s most vulnerable spe...</td>\n",
              "      <td>the world’s frogs, salamanders, newts and othe...</td>\n",
              "    </tr>\n",
              "    <tr>\n",
              "      <th>3</th>\n",
              "      <td>image: rusty red waters in madagascar</td>\n",
              "      <td>iron-rich sediment colors the red-orange water...</td>\n",
              "    </tr>\n",
              "    <tr>\n",
              "      <th>4</th>\n",
              "      <td>everything leaving max (formerly hbo max) in n...</td>\n",
              "      <td>everything ends. no, i’m not having an existen...</td>\n",
              "    </tr>\n",
              "  </tbody>\n",
              "</table>\n",
              "</div>\n",
              "    <div class=\"colab-df-buttons\">\n",
              "\n",
              "  <div class=\"colab-df-container\">\n",
              "    <button class=\"colab-df-convert\" onclick=\"convertToInteractive('df-1c5f15e1-25cd-4024-bf11-2636521c714f')\"\n",
              "            title=\"Convert this dataframe to an interactive table.\"\n",
              "            style=\"display:none;\">\n",
              "\n",
              "  <svg xmlns=\"http://www.w3.org/2000/svg\" height=\"24px\" viewBox=\"0 -960 960 960\">\n",
              "    <path d=\"M120-120v-720h720v720H120Zm60-500h600v-160H180v160Zm220 220h160v-160H400v160Zm0 220h160v-160H400v160ZM180-400h160v-160H180v160Zm440 0h160v-160H620v160ZM180-180h160v-160H180v160Zm440 0h160v-160H620v160Z\"/>\n",
              "  </svg>\n",
              "    </button>\n",
              "\n",
              "  <style>\n",
              "    .colab-df-container {\n",
              "      display:flex;\n",
              "      gap: 12px;\n",
              "    }\n",
              "\n",
              "    .colab-df-convert {\n",
              "      background-color: #E8F0FE;\n",
              "      border: none;\n",
              "      border-radius: 50%;\n",
              "      cursor: pointer;\n",
              "      display: none;\n",
              "      fill: #1967D2;\n",
              "      height: 32px;\n",
              "      padding: 0 0 0 0;\n",
              "      width: 32px;\n",
              "    }\n",
              "\n",
              "    .colab-df-convert:hover {\n",
              "      background-color: #E2EBFA;\n",
              "      box-shadow: 0px 1px 2px rgba(60, 64, 67, 0.3), 0px 1px 3px 1px rgba(60, 64, 67, 0.15);\n",
              "      fill: #174EA6;\n",
              "    }\n",
              "\n",
              "    .colab-df-buttons div {\n",
              "      margin-bottom: 4px;\n",
              "    }\n",
              "\n",
              "    [theme=dark] .colab-df-convert {\n",
              "      background-color: #3B4455;\n",
              "      fill: #D2E3FC;\n",
              "    }\n",
              "\n",
              "    [theme=dark] .colab-df-convert:hover {\n",
              "      background-color: #434B5C;\n",
              "      box-shadow: 0px 1px 3px 1px rgba(0, 0, 0, 0.15);\n",
              "      filter: drop-shadow(0px 1px 2px rgba(0, 0, 0, 0.3));\n",
              "      fill: #FFFFFF;\n",
              "    }\n",
              "  </style>\n",
              "\n",
              "    <script>\n",
              "      const buttonEl =\n",
              "        document.querySelector('#df-1c5f15e1-25cd-4024-bf11-2636521c714f button.colab-df-convert');\n",
              "      buttonEl.style.display =\n",
              "        google.colab.kernel.accessAllowed ? 'block' : 'none';\n",
              "\n",
              "      async function convertToInteractive(key) {\n",
              "        const element = document.querySelector('#df-1c5f15e1-25cd-4024-bf11-2636521c714f');\n",
              "        const dataTable =\n",
              "          await google.colab.kernel.invokeFunction('convertToInteractive',\n",
              "                                                    [key], {});\n",
              "        if (!dataTable) return;\n",
              "\n",
              "        const docLinkHtml = 'Like what you see? Visit the ' +\n",
              "          '<a target=\"_blank\" href=https://colab.research.google.com/notebooks/data_table.ipynb>data table notebook</a>'\n",
              "          + ' to learn more about interactive tables.';\n",
              "        element.innerHTML = '';\n",
              "        dataTable['output_type'] = 'display_data';\n",
              "        await google.colab.output.renderOutput(dataTable, element);\n",
              "        const docLink = document.createElement('div');\n",
              "        docLink.innerHTML = docLinkHtml;\n",
              "        element.appendChild(docLink);\n",
              "      }\n",
              "    </script>\n",
              "  </div>\n",
              "\n",
              "\n",
              "<div id=\"df-e8fa8877-0f2d-483f-9a20-599087a3862f\">\n",
              "  <button class=\"colab-df-quickchart\" onclick=\"quickchart('df-e8fa8877-0f2d-483f-9a20-599087a3862f')\"\n",
              "            title=\"Suggest charts\"\n",
              "            style=\"display:none;\">\n",
              "\n",
              "<svg xmlns=\"http://www.w3.org/2000/svg\" height=\"24px\"viewBox=\"0 0 24 24\"\n",
              "     width=\"24px\">\n",
              "    <g>\n",
              "        <path d=\"M19 3H5c-1.1 0-2 .9-2 2v14c0 1.1.9 2 2 2h14c1.1 0 2-.9 2-2V5c0-1.1-.9-2-2-2zM9 17H7v-7h2v7zm4 0h-2V7h2v10zm4 0h-2v-4h2v4z\"/>\n",
              "    </g>\n",
              "</svg>\n",
              "  </button>\n",
              "\n",
              "<style>\n",
              "  .colab-df-quickchart {\n",
              "      --bg-color: #E8F0FE;\n",
              "      --fill-color: #1967D2;\n",
              "      --hover-bg-color: #E2EBFA;\n",
              "      --hover-fill-color: #174EA6;\n",
              "      --disabled-fill-color: #AAA;\n",
              "      --disabled-bg-color: #DDD;\n",
              "  }\n",
              "\n",
              "  [theme=dark] .colab-df-quickchart {\n",
              "      --bg-color: #3B4455;\n",
              "      --fill-color: #D2E3FC;\n",
              "      --hover-bg-color: #434B5C;\n",
              "      --hover-fill-color: #FFFFFF;\n",
              "      --disabled-bg-color: #3B4455;\n",
              "      --disabled-fill-color: #666;\n",
              "  }\n",
              "\n",
              "  .colab-df-quickchart {\n",
              "    background-color: var(--bg-color);\n",
              "    border: none;\n",
              "    border-radius: 50%;\n",
              "    cursor: pointer;\n",
              "    display: none;\n",
              "    fill: var(--fill-color);\n",
              "    height: 32px;\n",
              "    padding: 0;\n",
              "    width: 32px;\n",
              "  }\n",
              "\n",
              "  .colab-df-quickchart:hover {\n",
              "    background-color: var(--hover-bg-color);\n",
              "    box-shadow: 0 1px 2px rgba(60, 64, 67, 0.3), 0 1px 3px 1px rgba(60, 64, 67, 0.15);\n",
              "    fill: var(--button-hover-fill-color);\n",
              "  }\n",
              "\n",
              "  .colab-df-quickchart-complete:disabled,\n",
              "  .colab-df-quickchart-complete:disabled:hover {\n",
              "    background-color: var(--disabled-bg-color);\n",
              "    fill: var(--disabled-fill-color);\n",
              "    box-shadow: none;\n",
              "  }\n",
              "\n",
              "  .colab-df-spinner {\n",
              "    border: 2px solid var(--fill-color);\n",
              "    border-color: transparent;\n",
              "    border-bottom-color: var(--fill-color);\n",
              "    animation:\n",
              "      spin 1s steps(1) infinite;\n",
              "  }\n",
              "\n",
              "  @keyframes spin {\n",
              "    0% {\n",
              "      border-color: transparent;\n",
              "      border-bottom-color: var(--fill-color);\n",
              "      border-left-color: var(--fill-color);\n",
              "    }\n",
              "    20% {\n",
              "      border-color: transparent;\n",
              "      border-left-color: var(--fill-color);\n",
              "      border-top-color: var(--fill-color);\n",
              "    }\n",
              "    30% {\n",
              "      border-color: transparent;\n",
              "      border-left-color: var(--fill-color);\n",
              "      border-top-color: var(--fill-color);\n",
              "      border-right-color: var(--fill-color);\n",
              "    }\n",
              "    40% {\n",
              "      border-color: transparent;\n",
              "      border-right-color: var(--fill-color);\n",
              "      border-top-color: var(--fill-color);\n",
              "    }\n",
              "    60% {\n",
              "      border-color: transparent;\n",
              "      border-right-color: var(--fill-color);\n",
              "    }\n",
              "    80% {\n",
              "      border-color: transparent;\n",
              "      border-right-color: var(--fill-color);\n",
              "      border-bottom-color: var(--fill-color);\n",
              "    }\n",
              "    90% {\n",
              "      border-color: transparent;\n",
              "      border-bottom-color: var(--fill-color);\n",
              "    }\n",
              "  }\n",
              "</style>\n",
              "\n",
              "  <script>\n",
              "    async function quickchart(key) {\n",
              "      const quickchartButtonEl =\n",
              "        document.querySelector('#' + key + ' button');\n",
              "      quickchartButtonEl.disabled = true;  // To prevent multiple clicks.\n",
              "      quickchartButtonEl.classList.add('colab-df-spinner');\n",
              "      try {\n",
              "        const charts = await google.colab.kernel.invokeFunction(\n",
              "            'suggestCharts', [key], {});\n",
              "      } catch (error) {\n",
              "        console.error('Error during call to suggestCharts:', error);\n",
              "      }\n",
              "      quickchartButtonEl.classList.remove('colab-df-spinner');\n",
              "      quickchartButtonEl.classList.add('colab-df-quickchart-complete');\n",
              "    }\n",
              "    (() => {\n",
              "      let quickchartButtonEl =\n",
              "        document.querySelector('#df-e8fa8877-0f2d-483f-9a20-599087a3862f button');\n",
              "      quickchartButtonEl.style.display =\n",
              "        google.colab.kernel.accessAllowed ? 'block' : 'none';\n",
              "    })();\n",
              "  </script>\n",
              "</div>\n",
              "\n",
              "    </div>\n",
              "  </div>\n"
            ],
            "application/vnd.google.colaboratory.intrinsic+json": {
              "type": "dataframe",
              "variable_name": "df",
              "summary": "{\n  \"name\": \"df\",\n  \"rows\": 58356,\n  \"fields\": [\n    {\n      \"column\": \"title\",\n      \"properties\": {\n        \"dtype\": \"string\",\n        \"num_unique_values\": 53454,\n        \"samples\": [\n          \"singaporeans should avoid all travel to gaza strip, west bank amid attacks on israel: mfa\",\n          \"codere online to release financial results for the third quarter 2023 on november 15\",\n          \"delhi\\u2019s nursery primary branch to hold art exhibition and competition for students\"\n        ],\n        \"semantic_type\": \"\",\n        \"description\": \"\"\n      }\n    },\n    {\n      \"column\": \"article\",\n      \"properties\": {\n        \"dtype\": \"string\",\n        \"num_unique_values\": 54148,\n        \"samples\": [\n          \"MEXICO CITY and ROCHELLE PARK, N.J., Nov.  27, 2023  (GLOBE NEWSWIRE) --ZRG, a New Jersey-based global talent advisory firm, has established a new office in Mexico City, located in the U.S. Green Building Council LEED Platinum-certified Torre Virreyes Building in theLomas de Chapultepec. Following successful expansion in Middle East, South America, Europe, the UK, and Australia, the new office of ZRG Partners Mexico SRL de CV is positioned to deliver their tech-enabled analytic suite of talent management solutions to clients with operations in this very important market. \\u201cMexico is the biggest trading partner of the United States,\\u201d said Nate Frank, President ZRG Executive Search Division. \\u201cAs of July 2023, Mexico was the source of 15% of U.S. imports, compared to 14.6% from China, and comprises a growing share of U.S. imports in many manufacturing sectors where ZRG has strong relationships, such as the Automotive, Machinery, and Medical Devices industries.\\u201d \\u201cMexico\\u2019s own market expansion has also been driving growing demand for our Financial, Professional Services & Technology, and Education Practices,\\u201d Frank added. ZRG brings to Mexico an expanded service offering including Organizational Culture Assessment, Consulting and transformation through itsWalking the Talkdivision. Their Brimstone Consulting division further adds leadership alignment and acceleration, bringing clients an end-to-end talent solution. The company also serves clients in over two dozen industry and functional practices, including media, sports and entertainment powerhouses,TurnkeyZRGandSucherman Group. The office will be led by Managing Director Pablo Perella-Berdun and Senior Advisor Hugo Lara. Perella-Berdun has 5 years in Executive Search and Talent Development in Mexico and previously enjoyed a 27-year corporate career in Consumer, Medical Device, Hygiene & Safety Products, and Specialty Chemicals, including Kimberly-Clark where he led local, regional, and global roles for over 20 years. Prior to joining ZRG, Hugo Lara was a Senior Client Partner, Industrial and Advisory leader, as well as the Office Managing Director at Korn Ferry. Previously, he held senior management roles at Mexichem (now Orbia), Vitro, Parmalat, S.C. Johnson, and Grupo Christianson. In addition, he has participated in several associations and boards, including the Board of Regal Forest, Quality Post,Union de Cr\\u00e9dito para la Contadur\\u00eda P\\u00fablica, Grupo Prez, Cervecer\\u00eda Centro Americana, Endeavor, and theNuevo LeonState Board of Clusters. He is also the co-founder of The Morphing Group LLC, a business transformation advisory firm. About ZRGZRGis a global talent advisory firm that is changing the way companies hire and manage talent. ZRG\\u2019s data-driven approach to executive and professional search has been changing the way clients think about how to find top talent. The company\\u2019s digitalZi platformcombines talent intelligence, candidate insights, and process improvement to dramatically deliver executive searches quicker and with proven better results. Today, with the help of private equity investorRFE Investment Partners, ZRG is among the fastest growing firms in the search industry and provides a full suite of retained search, on-demand talent, and consulting and advisory solutions across the Americas, Asia, Europe, and Australia. Contact: John Mooney, Over The Moon PR, (908) 720-6057,john@overthemoonpr.com\",\n          \"CAE (NYSE:CAE\\u2013Get Free Report) (TSE:CAE)was downgraded by equities researchers atBank of Americafrom a \\u201cneutral\\u201d rating to an \\u201cunderperform\\u201d rating in a research report issued on Wednesday,MarketBeatreports. Other research analysts also recently issued research reports about the company. TD Securities raised their price target on CAE from $37.00 to $39.00 and gave the stock a \\u201cbuy\\u201d rating in a research note on Thursday, August 10th. Royal Bank of Canada lowered their target price on CAE from $37.00 to $34.00 and set an \\u201coutperform\\u201d rating on the stock in a research note on Wednesday, November 15th. The Goldman Sachs Group upped their price target on CAE from $27.00 to $30.00 and gave the stock a \\u201cbuy\\u201d rating in a research note on Thursday, August 10th. Finally,StockNews.comupgraded shares of CAE from a \\u201chold\\u201d rating to a \\u201cbuy\\u201d rating in a research note on Tuesday, November 21st. One analyst has rated the stock with a sell rating and five have assigned a buy rating to the company\\u2019s stock. According to MarketBeat, the stock presently has a consensus rating of \\u201cModerate Buy\\u201d and an average price target of $35.43. View Our Latest Research Report on CAE Want More Great Investing Ideas?10 Stocks to Sell NOW!3 Stocks to DOUBLE This YearThe 10 Best Stocks to Own in 20237 Stocks to Buy and Hold ForeverShares ofNYSE:CAEopened at $20.50 on Wednesday. The company has a market cap of $6.52 billion, a PE ratio of 29.71, a P/E/G ratio of 1.64 and a beta of 1.68. The company has a current ratio of 0.94, a quick ratio of 0.67 and a debt-to-equity ratio of 0.62. The company\\u2019s 50 day moving average is $21.91 and its two-hundred day moving average is $22.29. CAE has a 52 week low of $18.74 and a 52 week high of $25.04. Hedge funds have recently bought and sold shares of the company. Mackenzie Financial Corp boosted its holdings in shares of CAE by 29.9% during the second quarter. Mackenzie Financial Corp now owns 31,960,441 shares of the aerospace company\\u2019s stock worth $715,244,000 after purchasing an additional 7,363,625 shares during the last quarter. Beutel Goodman & Co Ltd. boosted its stake in CAE by 0.7% in the 2nd quarter. Beutel Goodman & Co Ltd. now owns 12,081,091 shares of the aerospace company\\u2019s stock worth $270,700,000 after buying an additional 80,220 shares during the last quarter. Royal Bank of Canada grew its holdings in CAE by 1.3% in the 2nd quarter. Royal Bank of Canada now owns 10,034,952 shares of the aerospace company\\u2019s stock valued at $224,583,000 after buying an additional 128,457 shares during the period. Vanguard Group Inc. increased its stake in shares of CAE by 3.1% during the 3rd quarter. Vanguard Group Inc. now owns 10,006,409 shares of the aerospace company\\u2019s stock valued at $153,398,000 after acquiring an additional 300,523 shares during the last quarter. Finally, FMR LLC lifted its holdings in shares of CAE by 2.6% during the 3rd quarter. FMR LLC now owns 9,004,271 shares of the aerospace company\\u2019s stock worth $210,216,000 after acquiring an additional 230,912 shares during the period. Institutional investors and hedge funds own 64.34% of the company\\u2019s stock. (Get Free Report) CAE Inc, together with its subsidiaries, provides simulation training and critical operations support solutions in Canada, the United States, the United Kingdom, Europe, Asia, Oceania and Africa, and Rest of Americas. It operates through three segments: Civil Aviation, Defense and Security, and Healthcare.   \",\n          \"new research emphasizes the previously underestimated significance of atmospheric on aerosol depositions on ecosystems. additionally, the ecological effects of on aerosol depositions are anticipated to increase due to global warming and the decrease in nitrogen oxide emissions from human activities.the study was led by dr. yumin li of southern university of science and technology (sustech), in collaboration with professor tzung-may fu's team at sustech and professor jian zhen yu's team at hong kong university of science and technology (hkust).  the research ispublishedin the journalnational science review.atmospheric deposition of organic nitrogen (on) plays a crucial role in theglobal nitrogen cycle. surface measurements showed that 2% to 70% of the local atmospheric deposition flux of total nitrogen was organic. however, previous models have largely neglected the spatial and chemical variations of atmospheric on, leading to inadequate assessment of its global impacts.the scientists from sustech and hkust developed a comprehensive global model of atmospheric gaseous and particulate on, incorporating the latest knowledge on emissions and secondary formations. their simulated surface concentrations of atmospheric particulate on (onp) were highly consistent with global observations, a feat that had not been achieved previously. in addition, their simulated atmospheric deposition flux aligned with global observations within an order of magnitude.the scientists estimated that the global atmospheric on deposition was 26 tg n yr-1. this majority of this deposition (23 tg n yr-1) occurred in the form of on aerosol and accounted for 19% of the global atmospheric total n deposition (124 tg n yr-1). the main sources of on aerosols were wildfires, ocean emissions, and secondary formation.\\\"our simulation showed that the deposition of on aerosol from the atmosphere is a crucial external source of nitrogen to nitrogen-limited ecosystems worldwide, such as theboreal forests, tundras, and the arctic ocean,\\\" fu says.in a future warming climate, wildfires will likely become more frequent and intense. climate warming will also lead to surface ocean stratification, making atmospheric on deposition an increasingly important source of nitrogen to these ecosystems. \\\"we need to further examine the environmental impacts of atmospheric on aerosol and how those impacts respond toclimate change.\\\"\"\n        ],\n        \"semantic_type\": \"\",\n        \"description\": \"\"\n      }\n    }\n  ]\n}"
            }
          },
          "metadata": {},
          "execution_count": 5
        }
      ],
      "source": [
        "# get titles and  news body\n",
        "df = news_data[['title','article']]\n",
        "df.head()"
      ]
    },
    {
      "cell_type": "markdown",
      "metadata": {
        "id": "eOAcuEG7Db45"
      },
      "source": [
        "## world cloud for title and article body"
      ]
    },
    {
      "cell_type": "markdown",
      "metadata": {
        "id": "pHWFIOIxXPPf"
      },
      "source": [
        "# Preprocessing"
      ]
    },
    {
      "cell_type": "code",
      "execution_count": 6,
      "metadata": {
        "colab": {
          "base_uri": "https://localhost:8080/"
        },
        "id": "_PO45J_0B0aY",
        "outputId": "6438dc10-a0d2-4d8e-bb61-56d438c8f640"
      },
      "outputs": [
        {
          "output_type": "stream",
          "name": "stderr",
          "text": [
            "[nltk_data] Downloading package wordnet to /root/nltk_data...\n",
            "[nltk_data] Downloading package stopwords to /root/nltk_data...\n",
            "[nltk_data]   Unzipping corpora/stopwords.zip.\n",
            "[nltk_data] Downloading package punkt to /root/nltk_data...\n",
            "[nltk_data]   Unzipping tokenizers/punkt.zip.\n"
          ]
        },
        {
          "output_type": "execute_result",
          "data": {
            "text/plain": [
              "True"
            ]
          },
          "metadata": {},
          "execution_count": 6
        }
      ],
      "source": [
        "\n",
        "nltk.download('wordnet')\n",
        "\n",
        "nltk.download('stopwords')\n",
        "nltk.download('punkt')"
      ]
    },
    {
      "cell_type": "code",
      "execution_count": 7,
      "metadata": {
        "id": "B0tkc-yGB0Xg"
      },
      "outputs": [],
      "source": [
        "\n",
        "#function to clean the texts\n",
        "def clean_text(text):\n",
        "    # delete dnltk.download('punkt') special characters\n",
        "    text = re.sub(r\"[^\\w\\s]\", \"\", text)\n",
        "\n",
        "    # text to lower case\n",
        "    text = text.lower()\n",
        "\n",
        "    # Tokenisation\n",
        "    tokens = word_tokenize(text)\n",
        "\n",
        "    # delete empty words\n",
        "    stop_words = set(stopwords.words(\"english\"))\n",
        "    tokens = [word for word in tokens if word not in stop_words]\n",
        "\n",
        "    # join tokens\n",
        "    cleaned_text = ' '.join(tokens)\n",
        "\n",
        "    return cleaned_text\n"
      ]
    },
    {
      "cell_type": "code",
      "execution_count": 8,
      "metadata": {
        "colab": {
          "base_uri": "https://localhost:8080/",
          "height": 415
        },
        "id": "aEZxMZUPB0RH",
        "outputId": "db03dc27-fa4e-4096-f335-1b215719a9ff"
      },
      "outputs": [
        {
          "output_type": "stream",
          "name": "stderr",
          "text": [
            "<ipython-input-8-368f85238361>:2: SettingWithCopyWarning: \n",
            "A value is trying to be set on a copy of a slice from a DataFrame.\n",
            "Try using .loc[row_indexer,col_indexer] = value instead\n",
            "\n",
            "See the caveats in the documentation: https://pandas.pydata.org/pandas-docs/stable/user_guide/indexing.html#returning-a-view-versus-a-copy\n",
            "  df['processed_title'] = df['title'].apply(clean_text)\n",
            "<ipython-input-8-368f85238361>:3: SettingWithCopyWarning: \n",
            "A value is trying to be set on a copy of a slice from a DataFrame.\n",
            "Try using .loc[row_indexer,col_indexer] = value instead\n",
            "\n",
            "See the caveats in the documentation: https://pandas.pydata.org/pandas-docs/stable/user_guide/indexing.html#returning-a-view-versus-a-copy\n",
            "  df['processed_body'] = df['article'].apply(clean_text)\n"
          ]
        },
        {
          "output_type": "execute_result",
          "data": {
            "text/plain": [
              "                                               title  \\\n",
              "0  superstar chef yannick alléno brings refined f...   \n",
              "1  nice claim top spot in ligue 1 with late win a...   \n",
              "2  amphibians are the world’s most vulnerable spe...   \n",
              "3              image: rusty red waters in madagascar   \n",
              "4  everything leaving max (formerly hbo max) in n...   \n",
              "\n",
              "                                             article  \\\n",
              "0  pavyllon london, at four seasons hotel london ...   \n",
              "1  nice moved into provisional first place in the...   \n",
              "2  the world’s frogs, salamanders, newts and othe...   \n",
              "3  iron-rich sediment colors the red-orange water...   \n",
              "4  everything ends. no, i’m not having an existen...   \n",
              "\n",
              "                                     processed_title  \\\n",
              "0  superstar chef yannick alléno brings refined f...   \n",
              "1      nice claim top spot ligue 1 late win clermont   \n",
              "2  amphibians worlds vulnerable species threats i...   \n",
              "3                  image rusty red waters madagascar   \n",
              "4  everything leaving max formerly hbo max novemb...   \n",
              "\n",
              "                                      processed_body  \n",
              "0  pavyllon london four seasons hotel london park...  \n",
              "1  nice moved provisional first place ligue 1 sta...  \n",
              "2  worlds frogs salamanders newts amphibians rema...  \n",
              "3  ironrich sediment colors redorange waters bets...  \n",
              "4  everything ends im existential crisis im looki...  "
            ],
            "text/html": [
              "\n",
              "  <div id=\"df-c52067af-6218-43c1-b946-dbfb746eb53e\" class=\"colab-df-container\">\n",
              "    <div>\n",
              "<style scoped>\n",
              "    .dataframe tbody tr th:only-of-type {\n",
              "        vertical-align: middle;\n",
              "    }\n",
              "\n",
              "    .dataframe tbody tr th {\n",
              "        vertical-align: top;\n",
              "    }\n",
              "\n",
              "    .dataframe thead th {\n",
              "        text-align: right;\n",
              "    }\n",
              "</style>\n",
              "<table border=\"1\" class=\"dataframe\">\n",
              "  <thead>\n",
              "    <tr style=\"text-align: right;\">\n",
              "      <th></th>\n",
              "      <th>title</th>\n",
              "      <th>article</th>\n",
              "      <th>processed_title</th>\n",
              "      <th>processed_body</th>\n",
              "    </tr>\n",
              "  </thead>\n",
              "  <tbody>\n",
              "    <tr>\n",
              "      <th>0</th>\n",
              "      <td>superstar chef yannick alléno brings refined f...</td>\n",
              "      <td>pavyllon london, at four seasons hotel london ...</td>\n",
              "      <td>superstar chef yannick alléno brings refined f...</td>\n",
              "      <td>pavyllon london four seasons hotel london park...</td>\n",
              "    </tr>\n",
              "    <tr>\n",
              "      <th>1</th>\n",
              "      <td>nice claim top spot in ligue 1 with late win a...</td>\n",
              "      <td>nice moved into provisional first place in the...</td>\n",
              "      <td>nice claim top spot ligue 1 late win clermont</td>\n",
              "      <td>nice moved provisional first place ligue 1 sta...</td>\n",
              "    </tr>\n",
              "    <tr>\n",
              "      <th>2</th>\n",
              "      <td>amphibians are the world’s most vulnerable spe...</td>\n",
              "      <td>the world’s frogs, salamanders, newts and othe...</td>\n",
              "      <td>amphibians worlds vulnerable species threats i...</td>\n",
              "      <td>worlds frogs salamanders newts amphibians rema...</td>\n",
              "    </tr>\n",
              "    <tr>\n",
              "      <th>3</th>\n",
              "      <td>image: rusty red waters in madagascar</td>\n",
              "      <td>iron-rich sediment colors the red-orange water...</td>\n",
              "      <td>image rusty red waters madagascar</td>\n",
              "      <td>ironrich sediment colors redorange waters bets...</td>\n",
              "    </tr>\n",
              "    <tr>\n",
              "      <th>4</th>\n",
              "      <td>everything leaving max (formerly hbo max) in n...</td>\n",
              "      <td>everything ends. no, i’m not having an existen...</td>\n",
              "      <td>everything leaving max formerly hbo max novemb...</td>\n",
              "      <td>everything ends im existential crisis im looki...</td>\n",
              "    </tr>\n",
              "  </tbody>\n",
              "</table>\n",
              "</div>\n",
              "    <div class=\"colab-df-buttons\">\n",
              "\n",
              "  <div class=\"colab-df-container\">\n",
              "    <button class=\"colab-df-convert\" onclick=\"convertToInteractive('df-c52067af-6218-43c1-b946-dbfb746eb53e')\"\n",
              "            title=\"Convert this dataframe to an interactive table.\"\n",
              "            style=\"display:none;\">\n",
              "\n",
              "  <svg xmlns=\"http://www.w3.org/2000/svg\" height=\"24px\" viewBox=\"0 -960 960 960\">\n",
              "    <path d=\"M120-120v-720h720v720H120Zm60-500h600v-160H180v160Zm220 220h160v-160H400v160Zm0 220h160v-160H400v160ZM180-400h160v-160H180v160Zm440 0h160v-160H620v160ZM180-180h160v-160H180v160Zm440 0h160v-160H620v160Z\"/>\n",
              "  </svg>\n",
              "    </button>\n",
              "\n",
              "  <style>\n",
              "    .colab-df-container {\n",
              "      display:flex;\n",
              "      gap: 12px;\n",
              "    }\n",
              "\n",
              "    .colab-df-convert {\n",
              "      background-color: #E8F0FE;\n",
              "      border: none;\n",
              "      border-radius: 50%;\n",
              "      cursor: pointer;\n",
              "      display: none;\n",
              "      fill: #1967D2;\n",
              "      height: 32px;\n",
              "      padding: 0 0 0 0;\n",
              "      width: 32px;\n",
              "    }\n",
              "\n",
              "    .colab-df-convert:hover {\n",
              "      background-color: #E2EBFA;\n",
              "      box-shadow: 0px 1px 2px rgba(60, 64, 67, 0.3), 0px 1px 3px 1px rgba(60, 64, 67, 0.15);\n",
              "      fill: #174EA6;\n",
              "    }\n",
              "\n",
              "    .colab-df-buttons div {\n",
              "      margin-bottom: 4px;\n",
              "    }\n",
              "\n",
              "    [theme=dark] .colab-df-convert {\n",
              "      background-color: #3B4455;\n",
              "      fill: #D2E3FC;\n",
              "    }\n",
              "\n",
              "    [theme=dark] .colab-df-convert:hover {\n",
              "      background-color: #434B5C;\n",
              "      box-shadow: 0px 1px 3px 1px rgba(0, 0, 0, 0.15);\n",
              "      filter: drop-shadow(0px 1px 2px rgba(0, 0, 0, 0.3));\n",
              "      fill: #FFFFFF;\n",
              "    }\n",
              "  </style>\n",
              "\n",
              "    <script>\n",
              "      const buttonEl =\n",
              "        document.querySelector('#df-c52067af-6218-43c1-b946-dbfb746eb53e button.colab-df-convert');\n",
              "      buttonEl.style.display =\n",
              "        google.colab.kernel.accessAllowed ? 'block' : 'none';\n",
              "\n",
              "      async function convertToInteractive(key) {\n",
              "        const element = document.querySelector('#df-c52067af-6218-43c1-b946-dbfb746eb53e');\n",
              "        const dataTable =\n",
              "          await google.colab.kernel.invokeFunction('convertToInteractive',\n",
              "                                                    [key], {});\n",
              "        if (!dataTable) return;\n",
              "\n",
              "        const docLinkHtml = 'Like what you see? Visit the ' +\n",
              "          '<a target=\"_blank\" href=https://colab.research.google.com/notebooks/data_table.ipynb>data table notebook</a>'\n",
              "          + ' to learn more about interactive tables.';\n",
              "        element.innerHTML = '';\n",
              "        dataTable['output_type'] = 'display_data';\n",
              "        await google.colab.output.renderOutput(dataTable, element);\n",
              "        const docLink = document.createElement('div');\n",
              "        docLink.innerHTML = docLinkHtml;\n",
              "        element.appendChild(docLink);\n",
              "      }\n",
              "    </script>\n",
              "  </div>\n",
              "\n",
              "\n",
              "<div id=\"df-a65c8ecf-6639-4829-bf39-d974f5fe7988\">\n",
              "  <button class=\"colab-df-quickchart\" onclick=\"quickchart('df-a65c8ecf-6639-4829-bf39-d974f5fe7988')\"\n",
              "            title=\"Suggest charts\"\n",
              "            style=\"display:none;\">\n",
              "\n",
              "<svg xmlns=\"http://www.w3.org/2000/svg\" height=\"24px\"viewBox=\"0 0 24 24\"\n",
              "     width=\"24px\">\n",
              "    <g>\n",
              "        <path d=\"M19 3H5c-1.1 0-2 .9-2 2v14c0 1.1.9 2 2 2h14c1.1 0 2-.9 2-2V5c0-1.1-.9-2-2-2zM9 17H7v-7h2v7zm4 0h-2V7h2v10zm4 0h-2v-4h2v4z\"/>\n",
              "    </g>\n",
              "</svg>\n",
              "  </button>\n",
              "\n",
              "<style>\n",
              "  .colab-df-quickchart {\n",
              "      --bg-color: #E8F0FE;\n",
              "      --fill-color: #1967D2;\n",
              "      --hover-bg-color: #E2EBFA;\n",
              "      --hover-fill-color: #174EA6;\n",
              "      --disabled-fill-color: #AAA;\n",
              "      --disabled-bg-color: #DDD;\n",
              "  }\n",
              "\n",
              "  [theme=dark] .colab-df-quickchart {\n",
              "      --bg-color: #3B4455;\n",
              "      --fill-color: #D2E3FC;\n",
              "      --hover-bg-color: #434B5C;\n",
              "      --hover-fill-color: #FFFFFF;\n",
              "      --disabled-bg-color: #3B4455;\n",
              "      --disabled-fill-color: #666;\n",
              "  }\n",
              "\n",
              "  .colab-df-quickchart {\n",
              "    background-color: var(--bg-color);\n",
              "    border: none;\n",
              "    border-radius: 50%;\n",
              "    cursor: pointer;\n",
              "    display: none;\n",
              "    fill: var(--fill-color);\n",
              "    height: 32px;\n",
              "    padding: 0;\n",
              "    width: 32px;\n",
              "  }\n",
              "\n",
              "  .colab-df-quickchart:hover {\n",
              "    background-color: var(--hover-bg-color);\n",
              "    box-shadow: 0 1px 2px rgba(60, 64, 67, 0.3), 0 1px 3px 1px rgba(60, 64, 67, 0.15);\n",
              "    fill: var(--button-hover-fill-color);\n",
              "  }\n",
              "\n",
              "  .colab-df-quickchart-complete:disabled,\n",
              "  .colab-df-quickchart-complete:disabled:hover {\n",
              "    background-color: var(--disabled-bg-color);\n",
              "    fill: var(--disabled-fill-color);\n",
              "    box-shadow: none;\n",
              "  }\n",
              "\n",
              "  .colab-df-spinner {\n",
              "    border: 2px solid var(--fill-color);\n",
              "    border-color: transparent;\n",
              "    border-bottom-color: var(--fill-color);\n",
              "    animation:\n",
              "      spin 1s steps(1) infinite;\n",
              "  }\n",
              "\n",
              "  @keyframes spin {\n",
              "    0% {\n",
              "      border-color: transparent;\n",
              "      border-bottom-color: var(--fill-color);\n",
              "      border-left-color: var(--fill-color);\n",
              "    }\n",
              "    20% {\n",
              "      border-color: transparent;\n",
              "      border-left-color: var(--fill-color);\n",
              "      border-top-color: var(--fill-color);\n",
              "    }\n",
              "    30% {\n",
              "      border-color: transparent;\n",
              "      border-left-color: var(--fill-color);\n",
              "      border-top-color: var(--fill-color);\n",
              "      border-right-color: var(--fill-color);\n",
              "    }\n",
              "    40% {\n",
              "      border-color: transparent;\n",
              "      border-right-color: var(--fill-color);\n",
              "      border-top-color: var(--fill-color);\n",
              "    }\n",
              "    60% {\n",
              "      border-color: transparent;\n",
              "      border-right-color: var(--fill-color);\n",
              "    }\n",
              "    80% {\n",
              "      border-color: transparent;\n",
              "      border-right-color: var(--fill-color);\n",
              "      border-bottom-color: var(--fill-color);\n",
              "    }\n",
              "    90% {\n",
              "      border-color: transparent;\n",
              "      border-bottom-color: var(--fill-color);\n",
              "    }\n",
              "  }\n",
              "</style>\n",
              "\n",
              "  <script>\n",
              "    async function quickchart(key) {\n",
              "      const quickchartButtonEl =\n",
              "        document.querySelector('#' + key + ' button');\n",
              "      quickchartButtonEl.disabled = true;  // To prevent multiple clicks.\n",
              "      quickchartButtonEl.classList.add('colab-df-spinner');\n",
              "      try {\n",
              "        const charts = await google.colab.kernel.invokeFunction(\n",
              "            'suggestCharts', [key], {});\n",
              "      } catch (error) {\n",
              "        console.error('Error during call to suggestCharts:', error);\n",
              "      }\n",
              "      quickchartButtonEl.classList.remove('colab-df-spinner');\n",
              "      quickchartButtonEl.classList.add('colab-df-quickchart-complete');\n",
              "    }\n",
              "    (() => {\n",
              "      let quickchartButtonEl =\n",
              "        document.querySelector('#df-a65c8ecf-6639-4829-bf39-d974f5fe7988 button');\n",
              "      quickchartButtonEl.style.display =\n",
              "        google.colab.kernel.accessAllowed ? 'block' : 'none';\n",
              "    })();\n",
              "  </script>\n",
              "</div>\n",
              "\n",
              "    </div>\n",
              "  </div>\n"
            ],
            "application/vnd.google.colaboratory.intrinsic+json": {
              "type": "dataframe",
              "variable_name": "df",
              "summary": "{\n  \"name\": \"df\",\n  \"rows\": 58356,\n  \"fields\": [\n    {\n      \"column\": \"title\",\n      \"properties\": {\n        \"dtype\": \"string\",\n        \"num_unique_values\": 53454,\n        \"samples\": [\n          \"singaporeans should avoid all travel to gaza strip, west bank amid attacks on israel: mfa\",\n          \"codere online to release financial results for the third quarter 2023 on november 15\",\n          \"delhi\\u2019s nursery primary branch to hold art exhibition and competition for students\"\n        ],\n        \"semantic_type\": \"\",\n        \"description\": \"\"\n      }\n    },\n    {\n      \"column\": \"article\",\n      \"properties\": {\n        \"dtype\": \"string\",\n        \"num_unique_values\": 54148,\n        \"samples\": [\n          \"MEXICO CITY and ROCHELLE PARK, N.J., Nov.  27, 2023  (GLOBE NEWSWIRE) --ZRG, a New Jersey-based global talent advisory firm, has established a new office in Mexico City, located in the U.S. Green Building Council LEED Platinum-certified Torre Virreyes Building in theLomas de Chapultepec. Following successful expansion in Middle East, South America, Europe, the UK, and Australia, the new office of ZRG Partners Mexico SRL de CV is positioned to deliver their tech-enabled analytic suite of talent management solutions to clients with operations in this very important market. \\u201cMexico is the biggest trading partner of the United States,\\u201d said Nate Frank, President ZRG Executive Search Division. \\u201cAs of July 2023, Mexico was the source of 15% of U.S. imports, compared to 14.6% from China, and comprises a growing share of U.S. imports in many manufacturing sectors where ZRG has strong relationships, such as the Automotive, Machinery, and Medical Devices industries.\\u201d \\u201cMexico\\u2019s own market expansion has also been driving growing demand for our Financial, Professional Services & Technology, and Education Practices,\\u201d Frank added. ZRG brings to Mexico an expanded service offering including Organizational Culture Assessment, Consulting and transformation through itsWalking the Talkdivision. Their Brimstone Consulting division further adds leadership alignment and acceleration, bringing clients an end-to-end talent solution. The company also serves clients in over two dozen industry and functional practices, including media, sports and entertainment powerhouses,TurnkeyZRGandSucherman Group. The office will be led by Managing Director Pablo Perella-Berdun and Senior Advisor Hugo Lara. Perella-Berdun has 5 years in Executive Search and Talent Development in Mexico and previously enjoyed a 27-year corporate career in Consumer, Medical Device, Hygiene & Safety Products, and Specialty Chemicals, including Kimberly-Clark where he led local, regional, and global roles for over 20 years. Prior to joining ZRG, Hugo Lara was a Senior Client Partner, Industrial and Advisory leader, as well as the Office Managing Director at Korn Ferry. Previously, he held senior management roles at Mexichem (now Orbia), Vitro, Parmalat, S.C. Johnson, and Grupo Christianson. In addition, he has participated in several associations and boards, including the Board of Regal Forest, Quality Post,Union de Cr\\u00e9dito para la Contadur\\u00eda P\\u00fablica, Grupo Prez, Cervecer\\u00eda Centro Americana, Endeavor, and theNuevo LeonState Board of Clusters. He is also the co-founder of The Morphing Group LLC, a business transformation advisory firm. About ZRGZRGis a global talent advisory firm that is changing the way companies hire and manage talent. ZRG\\u2019s data-driven approach to executive and professional search has been changing the way clients think about how to find top talent. The company\\u2019s digitalZi platformcombines talent intelligence, candidate insights, and process improvement to dramatically deliver executive searches quicker and with proven better results. Today, with the help of private equity investorRFE Investment Partners, ZRG is among the fastest growing firms in the search industry and provides a full suite of retained search, on-demand talent, and consulting and advisory solutions across the Americas, Asia, Europe, and Australia. Contact: John Mooney, Over The Moon PR, (908) 720-6057,john@overthemoonpr.com\",\n          \"CAE (NYSE:CAE\\u2013Get Free Report) (TSE:CAE)was downgraded by equities researchers atBank of Americafrom a \\u201cneutral\\u201d rating to an \\u201cunderperform\\u201d rating in a research report issued on Wednesday,MarketBeatreports. Other research analysts also recently issued research reports about the company. TD Securities raised their price target on CAE from $37.00 to $39.00 and gave the stock a \\u201cbuy\\u201d rating in a research note on Thursday, August 10th. Royal Bank of Canada lowered their target price on CAE from $37.00 to $34.00 and set an \\u201coutperform\\u201d rating on the stock in a research note on Wednesday, November 15th. The Goldman Sachs Group upped their price target on CAE from $27.00 to $30.00 and gave the stock a \\u201cbuy\\u201d rating in a research note on Thursday, August 10th. Finally,StockNews.comupgraded shares of CAE from a \\u201chold\\u201d rating to a \\u201cbuy\\u201d rating in a research note on Tuesday, November 21st. One analyst has rated the stock with a sell rating and five have assigned a buy rating to the company\\u2019s stock. According to MarketBeat, the stock presently has a consensus rating of \\u201cModerate Buy\\u201d and an average price target of $35.43. View Our Latest Research Report on CAE Want More Great Investing Ideas?10 Stocks to Sell NOW!3 Stocks to DOUBLE This YearThe 10 Best Stocks to Own in 20237 Stocks to Buy and Hold ForeverShares ofNYSE:CAEopened at $20.50 on Wednesday. The company has a market cap of $6.52 billion, a PE ratio of 29.71, a P/E/G ratio of 1.64 and a beta of 1.68. The company has a current ratio of 0.94, a quick ratio of 0.67 and a debt-to-equity ratio of 0.62. The company\\u2019s 50 day moving average is $21.91 and its two-hundred day moving average is $22.29. CAE has a 52 week low of $18.74 and a 52 week high of $25.04. Hedge funds have recently bought and sold shares of the company. Mackenzie Financial Corp boosted its holdings in shares of CAE by 29.9% during the second quarter. Mackenzie Financial Corp now owns 31,960,441 shares of the aerospace company\\u2019s stock worth $715,244,000 after purchasing an additional 7,363,625 shares during the last quarter. Beutel Goodman & Co Ltd. boosted its stake in CAE by 0.7% in the 2nd quarter. Beutel Goodman & Co Ltd. now owns 12,081,091 shares of the aerospace company\\u2019s stock worth $270,700,000 after buying an additional 80,220 shares during the last quarter. Royal Bank of Canada grew its holdings in CAE by 1.3% in the 2nd quarter. Royal Bank of Canada now owns 10,034,952 shares of the aerospace company\\u2019s stock valued at $224,583,000 after buying an additional 128,457 shares during the period. Vanguard Group Inc. increased its stake in shares of CAE by 3.1% during the 3rd quarter. Vanguard Group Inc. now owns 10,006,409 shares of the aerospace company\\u2019s stock valued at $153,398,000 after acquiring an additional 300,523 shares during the last quarter. Finally, FMR LLC lifted its holdings in shares of CAE by 2.6% during the 3rd quarter. FMR LLC now owns 9,004,271 shares of the aerospace company\\u2019s stock worth $210,216,000 after acquiring an additional 230,912 shares during the period. Institutional investors and hedge funds own 64.34% of the company\\u2019s stock. (Get Free Report) CAE Inc, together with its subsidiaries, provides simulation training and critical operations support solutions in Canada, the United States, the United Kingdom, Europe, Asia, Oceania and Africa, and Rest of Americas. It operates through three segments: Civil Aviation, Defense and Security, and Healthcare.   \",\n          \"new research emphasizes the previously underestimated significance of atmospheric on aerosol depositions on ecosystems. additionally, the ecological effects of on aerosol depositions are anticipated to increase due to global warming and the decrease in nitrogen oxide emissions from human activities.the study was led by dr. yumin li of southern university of science and technology (sustech), in collaboration with professor tzung-may fu's team at sustech and professor jian zhen yu's team at hong kong university of science and technology (hkust).  the research ispublishedin the journalnational science review.atmospheric deposition of organic nitrogen (on) plays a crucial role in theglobal nitrogen cycle. surface measurements showed that 2% to 70% of the local atmospheric deposition flux of total nitrogen was organic. however, previous models have largely neglected the spatial and chemical variations of atmospheric on, leading to inadequate assessment of its global impacts.the scientists from sustech and hkust developed a comprehensive global model of atmospheric gaseous and particulate on, incorporating the latest knowledge on emissions and secondary formations. their simulated surface concentrations of atmospheric particulate on (onp) were highly consistent with global observations, a feat that had not been achieved previously. in addition, their simulated atmospheric deposition flux aligned with global observations within an order of magnitude.the scientists estimated that the global atmospheric on deposition was 26 tg n yr-1. this majority of this deposition (23 tg n yr-1) occurred in the form of on aerosol and accounted for 19% of the global atmospheric total n deposition (124 tg n yr-1). the main sources of on aerosols were wildfires, ocean emissions, and secondary formation.\\\"our simulation showed that the deposition of on aerosol from the atmosphere is a crucial external source of nitrogen to nitrogen-limited ecosystems worldwide, such as theboreal forests, tundras, and the arctic ocean,\\\" fu says.in a future warming climate, wildfires will likely become more frequent and intense. climate warming will also lead to surface ocean stratification, making atmospheric on deposition an increasingly important source of nitrogen to these ecosystems. \\\"we need to further examine the environmental impacts of atmospheric on aerosol and how those impacts respond toclimate change.\\\"\"\n        ],\n        \"semantic_type\": \"\",\n        \"description\": \"\"\n      }\n    },\n    {\n      \"column\": \"processed_title\",\n      \"properties\": {\n        \"dtype\": \"string\",\n        \"num_unique_values\": 53256,\n        \"samples\": [\n          \"johnny kitagawa hundreds seek compensation jpop agency abuse\",\n          \"theres fantastic blackstone deal walmarts black friday sale\",\n          \"12 uniquely delicious ways celebrate national pickle day\"\n        ],\n        \"semantic_type\": \"\",\n        \"description\": \"\"\n      }\n    },\n    {\n      \"column\": \"processed_body\",\n      \"properties\": {\n        \"dtype\": \"string\",\n        \"num_unique_values\": 54132,\n        \"samples\": [\n          \"governor bayelsa state winner state governorship election douye diri attributed victory collective people united towards progress better futurehe added would continue governor residents state regardless political partyhe made declaration address shortly independent national electoral commission returning officer state prof kuta farouq monday declared winner governorship election held last saturday mondaydiri polled total 175 196 votes defeat closest rival timipre sylva progressives congress polled total 110 108 votesthe governor expressed appreciation every electorate voted entrusted responsibility leading staterelated newsgovernorship election live updatesbreaking pdp appoints koshoedo acting national secretarykogi election results irev portal altered inecreview imo election pdp lp candidates tell ineche added also immensely grateful leadership great party peoples democratic party levels dedicated campaign team supporters worked tirelessly spread message progress unity throughout bayelsa state unwavering belief vision prosperity relentless efforts brought us sweet victorydiri urged residents state celebrate temperance victory exclusive preserve one political partyaccording collective people united towards progress better future even cast votes differently enriched democratic practice participation dissent reaffirm continue governor bayelsa statehe thanked president bola tinubu ensuring conducive environment conduct free fair credible governorship polli want place record gratitude president federal republic nigeria bola ahmed tinubu allowing conducive environment free fair credible election stated added would continue governor residents state regardless political partyhe made declaration address shortly independent national electoral commission returning officer state prof kuta farouq monday declared winner governorship election held last saturday mondaydiri polled total 175 196 votes defeat closest rival timipre sylva progressives congress polled total 110 108 votesthe governor expressed appreciation every electorate voted entrusted responsibility leading staterelated newsgovernorship election live updatesbreaking pdp appoints koshoedo acting national secretarykogi election results irev portal altered inecreview imo election pdp lp candidates tell ineche added also immensely grateful leadership great party peoples democratic party levels dedicated campaign team supporters worked tirelessly spread message progress unity throughout bayelsa state unwavering belief vision prosperity relentless efforts brought us sweet victorydiri urged residents state celebrate temperance victory exclusive preserve one political partyaccording collective people united towards progress better future even cast votes differently enriched democratic practice participation dissent reaffirm continue governor bayelsa statehe thanked president bola tinubu ensuring conducive environment conduct free fair credible governorship polli want place record gratitude president federal republic nigeria bola ahmed tinubu allowing conducive environment free fair credible election stated made declaration address shortly independent national electoral commission returning officer state prof kuta farouq monday declared winner governorship election held last saturday mondaydiri polled total 175 196 votes defeat closest rival timipre sylva progressives congress polled total 110 108 votesthe governor expressed appreciation every electorate voted entrusted responsibility leading staterelated newsgovernorship election live updatesbreaking pdp appoints koshoedo acting national secretarykogi election results irev portal altered inecreview imo election pdp lp candidates tell ineche added also immensely grateful leadership great party peoples democratic party levels dedicated campaign team supporters worked tirelessly spread message progress unity throughout bayelsa state unwavering belief vision prosperity relentless efforts brought us sweet victorydiri urged residents state celebrate temperance victory exclusive preserve one political partyaccording collective people united towards progress better future even cast votes differently enriched democratic practice participation dissent reaffirm continue governor bayelsa statehe thanked president bola tinubu ensuring conducive environment conduct free fair credible governorship polli want place record gratitude president federal republic nigeria bola ahmed tinubu allowing conducive environment free fair credible election stated diri polled total 175 196 votes defeat closest rival timipre sylva progressives congress polled total 110 108 votesthe governor expressed appreciation every electorate voted entrusted responsibility leading staterelated newsgovernorship election live updatesbreaking pdp appoints koshoedo acting national secretarykogi election results irev portal altered inecreview imo election pdp lp candidates tell ineche added also immensely grateful leadership great party peoples democratic party levels dedicated campaign team supporters worked tirelessly spread message progress unity throughout bayelsa state unwavering belief vision prosperity relentless efforts brought us sweet victorydiri urged residents state celebrate temperance victory exclusive preserve one political partyaccording collective people united towards progress better future even cast votes differently enriched democratic practice participation dissent reaffirm continue governor bayelsa statehe thanked president bola tinubu ensuring conducive environment conduct free fair credible governorship polli want place record gratitude president federal republic nigeria bola ahmed tinubu allowing conducive environment free fair credible election stated governor expressed appreciation every electorate voted entrusted responsibility leading staterelated newsgovernorship election live updatesbreaking pdp appoints koshoedo acting national secretarykogi election results irev portal altered inecreview imo election pdp lp candidates tell ineche added also immensely grateful leadership great party peoples democratic party levels dedicated campaign team supporters worked tirelessly spread message progress unity throughout bayelsa state unwavering belief vision prosperity relentless efforts brought us sweet victorydiri urged residents state celebrate temperance victory exclusive preserve one political partyaccording collective people united towards progress better future even cast votes differently enriched democratic practice participation dissent reaffirm continue governor bayelsa statehe thanked president bola tinubu ensuring conducive environment conduct free fair credible governorship polli want place record gratitude president federal republic nigeria bola ahmed tinubu allowing conducive environment free fair credible election stated added also immensely grateful leadership great party peoples democratic party levels dedicated campaign team supporters worked tirelessly spread message progress unity throughout bayelsa state unwavering belief vision prosperity relentless efforts brought us sweet victorydiri urged residents state celebrate temperance victory exclusive preserve one political partyaccording collective people united towards progress better future even cast votes differently enriched democratic practice participation dissent reaffirm continue governor bayelsa statehe thanked president bola tinubu ensuring conducive environment conduct free fair credible governorship polli want place record gratitude president federal republic nigeria bola ahmed tinubu allowing conducive environment free fair credible election stated diri urged residents state celebrate temperance victory exclusive preserve one political partyaccording collective people united towards progress better future even cast votes differently enriched democratic practice participation dissent reaffirm continue governor bayelsa statehe thanked president bola tinubu ensuring conducive environment conduct free fair credible governorship polli want place record gratitude president federal republic nigeria bola ahmed tinubu allowing conducive environment free fair credible election stated according collective people united towards progress better future even cast votes differently enriched democratic practice participation dissent reaffirm continue governor bayelsa statehe thanked president bola tinubu ensuring conducive environment conduct free fair credible governorship polli want place record gratitude president federal republic nigeria bola ahmed tinubu allowing conducive environment free fair credible election stated thanked president bola tinubu ensuring conducive environment conduct free fair credible governorship polli want place record gratitude president federal republic nigeria bola ahmed tinubu allowing conducive environment free fair credible election stated want place record gratitude president federal republic nigeria bola ahmed tinubu allowing conducive environment free fair credible election stated\",\n          \"jeremy rennerhas shared update recovery since snowplow accident last january left lifethreatening injuries exploring every type therapy since jan 14th wrote instagram everyday countless hours physical therapy peptide injections iv drips pushes stem cell exosomes red light ir therapy hyperbaric chamber 20 atmospheres cold plunge list goes greatest therapy mind push recover better exceptional feel duty squander life spared give back family friends empowered endure thank accident took place renner plowing snow driveway lake tahoe home new years day trying stop snowremoval tractor sliding hitting nephew pulled crushed thehawkeyeactor airlifted hospital treated blunt chest trauma orthopedic injuries first reports renner critical condition surgery reappeared social media thanking supporters comments process renner since kept fans updated recovery social media renner mostrecently announced recorded collection songsmarking various milestones recovery accident collection ofmusicwe wrote different milestones journey recovery since jan 1st year love titanium painful deeply healing ultimately cathartic create hope get courage share collections titlelove titanium references comment rennermade abc newslast spring ive lost lot flesh bone experience said ive refueled refilled love titanium post shared jeremy renner jeremyrenner\",\n          \"ians googleowned youtube said viewers adblockers installed might experience suboptimal viewing matter browser using statement comes number users reddit online forums complained experiencing delay five seconds try load video mozilla firefox microsoft edge fivesecond delay longer appears loading video chrome reports android authority elevate tech prowess highvalue skill courses offering college course website indian school business isb professional certificate product management visit iim lucknow iiml executive programme fintech banking applied risk management visit iim kozhikode iimk advanced data science managers visit youtube however clarified platforms ad blocker detection doesnt target specific browsers delays reported across browsers users ad blockers continue substandard viewing experience company recommends trying youtube premium adfree experience allowing ads support diverse ecosystem creators globally allow billions access favourite content youtube weve launched effort urge viewers ad blockers enabled allow ads youtube try youtube premium adfree experience youtube spokesperson quoted saying users ad blockers installed may experience suboptimal viewing regardless browser using added discover stories interest blockchain 5 stories cybersafety 7 stories fintech 9 stories ecomm 9 stories ml 8 stories edtech 6 stories company started cracking ad blockers earlier year went earlier month blocked people watching videos unless disable addons extensions apps meanwhile youtubes effort crack users ad blockers resulted record number uninstalls multiple adblocking companies reporting thousands people uninstalling products videosharing platform began showing warnings people trying watch videos website using ad blockers experience economic times newspaper digital way wednesday 22 nov 2023 read complete epaper digital view print view wealth edition finds 10kcr evasion social media sellers income tax department said detected tax evasion nearly 10000 crore threeyear period etailers selling goods via social media platforms instagram facebook department sent intimation notices 45 panindia brands follow cos take ten mas gst sums first 20000 notices issued goods services tax gst department since 2022 india inc going back drawing board account tax liabilities inking deals finalizing business transactions gautam singhania kicked punched nawaz modi raymond managing director gautam singhanias estranged wife nawaz modi alleged industrialist assaulted one daughters two months ago fit rage read news youtube youtube premium mozilla firefox microsoft edge chrome stay top technology startup news matters subscribe daily newsletter latest mustread tech news delivered straight inbox less prime exclusives investment ideas stock report plus epaper wealth edition cop28 india push clean energy transition wont budge coal phasedown target narayana hrudayalayas shares growth beat whats driving hospital chains optimism tax troubles swiggy zomato grapple freshly served gst notice delivery fee 3 insights kickstart day featuring byjus whole lotta trouble jlr tatas biggest mistake moneyspinner focus highprofit cars trick stock radar specialty chemical stock breaks falling trendline resistance time buy 1 2 3 view stories\"\n        ],\n        \"semantic_type\": \"\",\n        \"description\": \"\"\n      }\n    }\n  ]\n}"
            }
          },
          "metadata": {},
          "execution_count": 8
        }
      ],
      "source": [
        "\n",
        "# clean titles and bodies\n",
        "df['processed_title'] = df['title'].apply(clean_text)\n",
        "df['processed_body'] = df['article'].apply(clean_text)\n",
        "\n",
        "df.head()"
      ]
    },
    {
      "cell_type": "markdown",
      "metadata": {
        "id": "Jd3NQvwrG5o1"
      },
      "source": [
        "# Word Embeddings using tf-idf and cosine similarity computation"
      ]
    },
    {
      "cell_type": "code",
      "execution_count": 9,
      "metadata": {
        "id": "0swXh8zvYIE0"
      },
      "outputs": [],
      "source": [
        "def tf_idf_similarty(title, body):\n",
        "  # cobine title and body in a list\n",
        "  title_body=[title, body]\n",
        "\n",
        "  # Create an instance of  TfidfVectorizer\n",
        "  vectorizer = TfidfVectorizer()\n",
        "  # get tf-idf scores\n",
        "  tfidf_matrix = vectorizer.fit_transform(title_body)\n",
        "  # title and body similarity score\n",
        "  similarity_scores = cosine_similarity( tfidf_matrix , tfidf_matrix)\n",
        "  return similarity_scores[0,1]\n",
        "\n"
      ]
    },
    {
      "cell_type": "code",
      "execution_count": 13,
      "metadata": {
        "id": "EiNRJpRXgYhS"
      },
      "outputs": [],
      "source": [
        "similarities=[]\n",
        "for title, body in zip(df['processed_title'],df['processed_body']):\n",
        "  similarities.append(tf_idf_similarty(title, body))\n"
      ]
    },
    {
      "cell_type": "code",
      "execution_count": 14,
      "metadata": {
        "colab": {
          "base_uri": "https://localhost:8080/"
        },
        "id": "V2FCWKPLhWH4",
        "outputId": "ab027aa2-fc99-4fac-a967-de16b9859e35"
      },
      "outputs": [
        {
          "output_type": "stream",
          "name": "stderr",
          "text": [
            "<ipython-input-14-0aa089a78021>:1: SettingWithCopyWarning: \n",
            "A value is trying to be set on a copy of a slice from a DataFrame.\n",
            "Try using .loc[row_indexer,col_indexer] = value instead\n",
            "\n",
            "See the caveats in the documentation: https://pandas.pydata.org/pandas-docs/stable/user_guide/indexing.html#returning-a-view-versus-a-copy\n",
            "  df['title_body_similarity_score']=similarities\n"
          ]
        }
      ],
      "source": [
        "df['title_body_similarity_score']=similarities"
      ]
    },
    {
      "cell_type": "code",
      "execution_count": 15,
      "metadata": {
        "colab": {
          "base_uri": "https://localhost:8080/",
          "height": 206
        },
        "id": "awPuQtM4hkaV",
        "outputId": "8a8e4a75-a06b-4139-fd03-054fd37e0ebe"
      },
      "outputs": [
        {
          "output_type": "execute_result",
          "data": {
            "text/plain": [
              "                                               title  \\\n",
              "0  superstar chef yannick alléno brings refined f...   \n",
              "1  nice claim top spot in ligue 1 with late win a...   \n",
              "2  amphibians are the world’s most vulnerable spe...   \n",
              "3              image: rusty red waters in madagascar   \n",
              "4  everything leaving max (formerly hbo max) in n...   \n",
              "\n",
              "                                             article  \\\n",
              "0  pavyllon london, at four seasons hotel london ...   \n",
              "1  nice moved into provisional first place in the...   \n",
              "2  the world’s frogs, salamanders, newts and othe...   \n",
              "3  iron-rich sediment colors the red-orange water...   \n",
              "4  everything ends. no, i’m not having an existen...   \n",
              "\n",
              "                                     processed_title  \\\n",
              "0  superstar chef yannick alléno brings refined f...   \n",
              "1      nice claim top spot ligue 1 late win clermont   \n",
              "2  amphibians worlds vulnerable species threats i...   \n",
              "3                  image rusty red waters madagascar   \n",
              "4  everything leaving max formerly hbo max novemb...   \n",
              "\n",
              "                                      processed_body  \\\n",
              "0  pavyllon london four seasons hotel london park...   \n",
              "1  nice moved provisional first place ligue 1 sta...   \n",
              "2  worlds frogs salamanders newts amphibians rema...   \n",
              "3  ironrich sediment colors redorange waters bets...   \n",
              "4  everything ends im existential crisis im looki...   \n",
              "\n",
              "   title_body_similarity_score  \n",
              "0                     0.392167  \n",
              "1                     0.185012  \n",
              "2                     0.161449  \n",
              "3                     0.280109  \n",
              "4                     0.161061  "
            ],
            "text/html": [
              "\n",
              "  <div id=\"df-2faedc71-9ce7-496d-9b87-cea81fe52e6a\" class=\"colab-df-container\">\n",
              "    <div>\n",
              "<style scoped>\n",
              "    .dataframe tbody tr th:only-of-type {\n",
              "        vertical-align: middle;\n",
              "    }\n",
              "\n",
              "    .dataframe tbody tr th {\n",
              "        vertical-align: top;\n",
              "    }\n",
              "\n",
              "    .dataframe thead th {\n",
              "        text-align: right;\n",
              "    }\n",
              "</style>\n",
              "<table border=\"1\" class=\"dataframe\">\n",
              "  <thead>\n",
              "    <tr style=\"text-align: right;\">\n",
              "      <th></th>\n",
              "      <th>title</th>\n",
              "      <th>article</th>\n",
              "      <th>processed_title</th>\n",
              "      <th>processed_body</th>\n",
              "      <th>title_body_similarity_score</th>\n",
              "    </tr>\n",
              "  </thead>\n",
              "  <tbody>\n",
              "    <tr>\n",
              "      <th>0</th>\n",
              "      <td>superstar chef yannick alléno brings refined f...</td>\n",
              "      <td>pavyllon london, at four seasons hotel london ...</td>\n",
              "      <td>superstar chef yannick alléno brings refined f...</td>\n",
              "      <td>pavyllon london four seasons hotel london park...</td>\n",
              "      <td>0.392167</td>\n",
              "    </tr>\n",
              "    <tr>\n",
              "      <th>1</th>\n",
              "      <td>nice claim top spot in ligue 1 with late win a...</td>\n",
              "      <td>nice moved into provisional first place in the...</td>\n",
              "      <td>nice claim top spot ligue 1 late win clermont</td>\n",
              "      <td>nice moved provisional first place ligue 1 sta...</td>\n",
              "      <td>0.185012</td>\n",
              "    </tr>\n",
              "    <tr>\n",
              "      <th>2</th>\n",
              "      <td>amphibians are the world’s most vulnerable spe...</td>\n",
              "      <td>the world’s frogs, salamanders, newts and othe...</td>\n",
              "      <td>amphibians worlds vulnerable species threats i...</td>\n",
              "      <td>worlds frogs salamanders newts amphibians rema...</td>\n",
              "      <td>0.161449</td>\n",
              "    </tr>\n",
              "    <tr>\n",
              "      <th>3</th>\n",
              "      <td>image: rusty red waters in madagascar</td>\n",
              "      <td>iron-rich sediment colors the red-orange water...</td>\n",
              "      <td>image rusty red waters madagascar</td>\n",
              "      <td>ironrich sediment colors redorange waters bets...</td>\n",
              "      <td>0.280109</td>\n",
              "    </tr>\n",
              "    <tr>\n",
              "      <th>4</th>\n",
              "      <td>everything leaving max (formerly hbo max) in n...</td>\n",
              "      <td>everything ends. no, i’m not having an existen...</td>\n",
              "      <td>everything leaving max formerly hbo max novemb...</td>\n",
              "      <td>everything ends im existential crisis im looki...</td>\n",
              "      <td>0.161061</td>\n",
              "    </tr>\n",
              "  </tbody>\n",
              "</table>\n",
              "</div>\n",
              "    <div class=\"colab-df-buttons\">\n",
              "\n",
              "  <div class=\"colab-df-container\">\n",
              "    <button class=\"colab-df-convert\" onclick=\"convertToInteractive('df-2faedc71-9ce7-496d-9b87-cea81fe52e6a')\"\n",
              "            title=\"Convert this dataframe to an interactive table.\"\n",
              "            style=\"display:none;\">\n",
              "\n",
              "  <svg xmlns=\"http://www.w3.org/2000/svg\" height=\"24px\" viewBox=\"0 -960 960 960\">\n",
              "    <path d=\"M120-120v-720h720v720H120Zm60-500h600v-160H180v160Zm220 220h160v-160H400v160Zm0 220h160v-160H400v160ZM180-400h160v-160H180v160Zm440 0h160v-160H620v160ZM180-180h160v-160H180v160Zm440 0h160v-160H620v160Z\"/>\n",
              "  </svg>\n",
              "    </button>\n",
              "\n",
              "  <style>\n",
              "    .colab-df-container {\n",
              "      display:flex;\n",
              "      gap: 12px;\n",
              "    }\n",
              "\n",
              "    .colab-df-convert {\n",
              "      background-color: #E8F0FE;\n",
              "      border: none;\n",
              "      border-radius: 50%;\n",
              "      cursor: pointer;\n",
              "      display: none;\n",
              "      fill: #1967D2;\n",
              "      height: 32px;\n",
              "      padding: 0 0 0 0;\n",
              "      width: 32px;\n",
              "    }\n",
              "\n",
              "    .colab-df-convert:hover {\n",
              "      background-color: #E2EBFA;\n",
              "      box-shadow: 0px 1px 2px rgba(60, 64, 67, 0.3), 0px 1px 3px 1px rgba(60, 64, 67, 0.15);\n",
              "      fill: #174EA6;\n",
              "    }\n",
              "\n",
              "    .colab-df-buttons div {\n",
              "      margin-bottom: 4px;\n",
              "    }\n",
              "\n",
              "    [theme=dark] .colab-df-convert {\n",
              "      background-color: #3B4455;\n",
              "      fill: #D2E3FC;\n",
              "    }\n",
              "\n",
              "    [theme=dark] .colab-df-convert:hover {\n",
              "      background-color: #434B5C;\n",
              "      box-shadow: 0px 1px 3px 1px rgba(0, 0, 0, 0.15);\n",
              "      filter: drop-shadow(0px 1px 2px rgba(0, 0, 0, 0.3));\n",
              "      fill: #FFFFFF;\n",
              "    }\n",
              "  </style>\n",
              "\n",
              "    <script>\n",
              "      const buttonEl =\n",
              "        document.querySelector('#df-2faedc71-9ce7-496d-9b87-cea81fe52e6a button.colab-df-convert');\n",
              "      buttonEl.style.display =\n",
              "        google.colab.kernel.accessAllowed ? 'block' : 'none';\n",
              "\n",
              "      async function convertToInteractive(key) {\n",
              "        const element = document.querySelector('#df-2faedc71-9ce7-496d-9b87-cea81fe52e6a');\n",
              "        const dataTable =\n",
              "          await google.colab.kernel.invokeFunction('convertToInteractive',\n",
              "                                                    [key], {});\n",
              "        if (!dataTable) return;\n",
              "\n",
              "        const docLinkHtml = 'Like what you see? Visit the ' +\n",
              "          '<a target=\"_blank\" href=https://colab.research.google.com/notebooks/data_table.ipynb>data table notebook</a>'\n",
              "          + ' to learn more about interactive tables.';\n",
              "        element.innerHTML = '';\n",
              "        dataTable['output_type'] = 'display_data';\n",
              "        await google.colab.output.renderOutput(dataTable, element);\n",
              "        const docLink = document.createElement('div');\n",
              "        docLink.innerHTML = docLinkHtml;\n",
              "        element.appendChild(docLink);\n",
              "      }\n",
              "    </script>\n",
              "  </div>\n",
              "\n",
              "\n",
              "<div id=\"df-7c689fbf-39a0-4c7b-9021-af7b9c2312a3\">\n",
              "  <button class=\"colab-df-quickchart\" onclick=\"quickchart('df-7c689fbf-39a0-4c7b-9021-af7b9c2312a3')\"\n",
              "            title=\"Suggest charts\"\n",
              "            style=\"display:none;\">\n",
              "\n",
              "<svg xmlns=\"http://www.w3.org/2000/svg\" height=\"24px\"viewBox=\"0 0 24 24\"\n",
              "     width=\"24px\">\n",
              "    <g>\n",
              "        <path d=\"M19 3H5c-1.1 0-2 .9-2 2v14c0 1.1.9 2 2 2h14c1.1 0 2-.9 2-2V5c0-1.1-.9-2-2-2zM9 17H7v-7h2v7zm4 0h-2V7h2v10zm4 0h-2v-4h2v4z\"/>\n",
              "    </g>\n",
              "</svg>\n",
              "  </button>\n",
              "\n",
              "<style>\n",
              "  .colab-df-quickchart {\n",
              "      --bg-color: #E8F0FE;\n",
              "      --fill-color: #1967D2;\n",
              "      --hover-bg-color: #E2EBFA;\n",
              "      --hover-fill-color: #174EA6;\n",
              "      --disabled-fill-color: #AAA;\n",
              "      --disabled-bg-color: #DDD;\n",
              "  }\n",
              "\n",
              "  [theme=dark] .colab-df-quickchart {\n",
              "      --bg-color: #3B4455;\n",
              "      --fill-color: #D2E3FC;\n",
              "      --hover-bg-color: #434B5C;\n",
              "      --hover-fill-color: #FFFFFF;\n",
              "      --disabled-bg-color: #3B4455;\n",
              "      --disabled-fill-color: #666;\n",
              "  }\n",
              "\n",
              "  .colab-df-quickchart {\n",
              "    background-color: var(--bg-color);\n",
              "    border: none;\n",
              "    border-radius: 50%;\n",
              "    cursor: pointer;\n",
              "    display: none;\n",
              "    fill: var(--fill-color);\n",
              "    height: 32px;\n",
              "    padding: 0;\n",
              "    width: 32px;\n",
              "  }\n",
              "\n",
              "  .colab-df-quickchart:hover {\n",
              "    background-color: var(--hover-bg-color);\n",
              "    box-shadow: 0 1px 2px rgba(60, 64, 67, 0.3), 0 1px 3px 1px rgba(60, 64, 67, 0.15);\n",
              "    fill: var(--button-hover-fill-color);\n",
              "  }\n",
              "\n",
              "  .colab-df-quickchart-complete:disabled,\n",
              "  .colab-df-quickchart-complete:disabled:hover {\n",
              "    background-color: var(--disabled-bg-color);\n",
              "    fill: var(--disabled-fill-color);\n",
              "    box-shadow: none;\n",
              "  }\n",
              "\n",
              "  .colab-df-spinner {\n",
              "    border: 2px solid var(--fill-color);\n",
              "    border-color: transparent;\n",
              "    border-bottom-color: var(--fill-color);\n",
              "    animation:\n",
              "      spin 1s steps(1) infinite;\n",
              "  }\n",
              "\n",
              "  @keyframes spin {\n",
              "    0% {\n",
              "      border-color: transparent;\n",
              "      border-bottom-color: var(--fill-color);\n",
              "      border-left-color: var(--fill-color);\n",
              "    }\n",
              "    20% {\n",
              "      border-color: transparent;\n",
              "      border-left-color: var(--fill-color);\n",
              "      border-top-color: var(--fill-color);\n",
              "    }\n",
              "    30% {\n",
              "      border-color: transparent;\n",
              "      border-left-color: var(--fill-color);\n",
              "      border-top-color: var(--fill-color);\n",
              "      border-right-color: var(--fill-color);\n",
              "    }\n",
              "    40% {\n",
              "      border-color: transparent;\n",
              "      border-right-color: var(--fill-color);\n",
              "      border-top-color: var(--fill-color);\n",
              "    }\n",
              "    60% {\n",
              "      border-color: transparent;\n",
              "      border-right-color: var(--fill-color);\n",
              "    }\n",
              "    80% {\n",
              "      border-color: transparent;\n",
              "      border-right-color: var(--fill-color);\n",
              "      border-bottom-color: var(--fill-color);\n",
              "    }\n",
              "    90% {\n",
              "      border-color: transparent;\n",
              "      border-bottom-color: var(--fill-color);\n",
              "    }\n",
              "  }\n",
              "</style>\n",
              "\n",
              "  <script>\n",
              "    async function quickchart(key) {\n",
              "      const quickchartButtonEl =\n",
              "        document.querySelector('#' + key + ' button');\n",
              "      quickchartButtonEl.disabled = true;  // To prevent multiple clicks.\n",
              "      quickchartButtonEl.classList.add('colab-df-spinner');\n",
              "      try {\n",
              "        const charts = await google.colab.kernel.invokeFunction(\n",
              "            'suggestCharts', [key], {});\n",
              "      } catch (error) {\n",
              "        console.error('Error during call to suggestCharts:', error);\n",
              "      }\n",
              "      quickchartButtonEl.classList.remove('colab-df-spinner');\n",
              "      quickchartButtonEl.classList.add('colab-df-quickchart-complete');\n",
              "    }\n",
              "    (() => {\n",
              "      let quickchartButtonEl =\n",
              "        document.querySelector('#df-7c689fbf-39a0-4c7b-9021-af7b9c2312a3 button');\n",
              "      quickchartButtonEl.style.display =\n",
              "        google.colab.kernel.accessAllowed ? 'block' : 'none';\n",
              "    })();\n",
              "  </script>\n",
              "</div>\n",
              "\n",
              "    </div>\n",
              "  </div>\n"
            ],
            "application/vnd.google.colaboratory.intrinsic+json": {
              "type": "dataframe",
              "variable_name": "df",
              "summary": "{\n  \"name\": \"df\",\n  \"rows\": 58356,\n  \"fields\": [\n    {\n      \"column\": \"title\",\n      \"properties\": {\n        \"dtype\": \"string\",\n        \"num_unique_values\": 53454,\n        \"samples\": [\n          \"singaporeans should avoid all travel to gaza strip, west bank amid attacks on israel: mfa\",\n          \"codere online to release financial results for the third quarter 2023 on november 15\",\n          \"delhi\\u2019s nursery primary branch to hold art exhibition and competition for students\"\n        ],\n        \"semantic_type\": \"\",\n        \"description\": \"\"\n      }\n    },\n    {\n      \"column\": \"article\",\n      \"properties\": {\n        \"dtype\": \"string\",\n        \"num_unique_values\": 54148,\n        \"samples\": [\n          \"MEXICO CITY and ROCHELLE PARK, N.J., Nov.  27, 2023  (GLOBE NEWSWIRE) --ZRG, a New Jersey-based global talent advisory firm, has established a new office in Mexico City, located in the U.S. Green Building Council LEED Platinum-certified Torre Virreyes Building in theLomas de Chapultepec. Following successful expansion in Middle East, South America, Europe, the UK, and Australia, the new office of ZRG Partners Mexico SRL de CV is positioned to deliver their tech-enabled analytic suite of talent management solutions to clients with operations in this very important market. \\u201cMexico is the biggest trading partner of the United States,\\u201d said Nate Frank, President ZRG Executive Search Division. \\u201cAs of July 2023, Mexico was the source of 15% of U.S. imports, compared to 14.6% from China, and comprises a growing share of U.S. imports in many manufacturing sectors where ZRG has strong relationships, such as the Automotive, Machinery, and Medical Devices industries.\\u201d \\u201cMexico\\u2019s own market expansion has also been driving growing demand for our Financial, Professional Services & Technology, and Education Practices,\\u201d Frank added. ZRG brings to Mexico an expanded service offering including Organizational Culture Assessment, Consulting and transformation through itsWalking the Talkdivision. Their Brimstone Consulting division further adds leadership alignment and acceleration, bringing clients an end-to-end talent solution. The company also serves clients in over two dozen industry and functional practices, including media, sports and entertainment powerhouses,TurnkeyZRGandSucherman Group. The office will be led by Managing Director Pablo Perella-Berdun and Senior Advisor Hugo Lara. Perella-Berdun has 5 years in Executive Search and Talent Development in Mexico and previously enjoyed a 27-year corporate career in Consumer, Medical Device, Hygiene & Safety Products, and Specialty Chemicals, including Kimberly-Clark where he led local, regional, and global roles for over 20 years. Prior to joining ZRG, Hugo Lara was a Senior Client Partner, Industrial and Advisory leader, as well as the Office Managing Director at Korn Ferry. Previously, he held senior management roles at Mexichem (now Orbia), Vitro, Parmalat, S.C. Johnson, and Grupo Christianson. In addition, he has participated in several associations and boards, including the Board of Regal Forest, Quality Post,Union de Cr\\u00e9dito para la Contadur\\u00eda P\\u00fablica, Grupo Prez, Cervecer\\u00eda Centro Americana, Endeavor, and theNuevo LeonState Board of Clusters. He is also the co-founder of The Morphing Group LLC, a business transformation advisory firm. About ZRGZRGis a global talent advisory firm that is changing the way companies hire and manage talent. ZRG\\u2019s data-driven approach to executive and professional search has been changing the way clients think about how to find top talent. The company\\u2019s digitalZi platformcombines talent intelligence, candidate insights, and process improvement to dramatically deliver executive searches quicker and with proven better results. Today, with the help of private equity investorRFE Investment Partners, ZRG is among the fastest growing firms in the search industry and provides a full suite of retained search, on-demand talent, and consulting and advisory solutions across the Americas, Asia, Europe, and Australia. Contact: John Mooney, Over The Moon PR, (908) 720-6057,john@overthemoonpr.com\",\n          \"CAE (NYSE:CAE\\u2013Get Free Report) (TSE:CAE)was downgraded by equities researchers atBank of Americafrom a \\u201cneutral\\u201d rating to an \\u201cunderperform\\u201d rating in a research report issued on Wednesday,MarketBeatreports. Other research analysts also recently issued research reports about the company. TD Securities raised their price target on CAE from $37.00 to $39.00 and gave the stock a \\u201cbuy\\u201d rating in a research note on Thursday, August 10th. Royal Bank of Canada lowered their target price on CAE from $37.00 to $34.00 and set an \\u201coutperform\\u201d rating on the stock in a research note on Wednesday, November 15th. The Goldman Sachs Group upped their price target on CAE from $27.00 to $30.00 and gave the stock a \\u201cbuy\\u201d rating in a research note on Thursday, August 10th. Finally,StockNews.comupgraded shares of CAE from a \\u201chold\\u201d rating to a \\u201cbuy\\u201d rating in a research note on Tuesday, November 21st. One analyst has rated the stock with a sell rating and five have assigned a buy rating to the company\\u2019s stock. According to MarketBeat, the stock presently has a consensus rating of \\u201cModerate Buy\\u201d and an average price target of $35.43. View Our Latest Research Report on CAE Want More Great Investing Ideas?10 Stocks to Sell NOW!3 Stocks to DOUBLE This YearThe 10 Best Stocks to Own in 20237 Stocks to Buy and Hold ForeverShares ofNYSE:CAEopened at $20.50 on Wednesday. The company has a market cap of $6.52 billion, a PE ratio of 29.71, a P/E/G ratio of 1.64 and a beta of 1.68. The company has a current ratio of 0.94, a quick ratio of 0.67 and a debt-to-equity ratio of 0.62. The company\\u2019s 50 day moving average is $21.91 and its two-hundred day moving average is $22.29. CAE has a 52 week low of $18.74 and a 52 week high of $25.04. Hedge funds have recently bought and sold shares of the company. Mackenzie Financial Corp boosted its holdings in shares of CAE by 29.9% during the second quarter. Mackenzie Financial Corp now owns 31,960,441 shares of the aerospace company\\u2019s stock worth $715,244,000 after purchasing an additional 7,363,625 shares during the last quarter. Beutel Goodman & Co Ltd. boosted its stake in CAE by 0.7% in the 2nd quarter. Beutel Goodman & Co Ltd. now owns 12,081,091 shares of the aerospace company\\u2019s stock worth $270,700,000 after buying an additional 80,220 shares during the last quarter. Royal Bank of Canada grew its holdings in CAE by 1.3% in the 2nd quarter. Royal Bank of Canada now owns 10,034,952 shares of the aerospace company\\u2019s stock valued at $224,583,000 after buying an additional 128,457 shares during the period. Vanguard Group Inc. increased its stake in shares of CAE by 3.1% during the 3rd quarter. Vanguard Group Inc. now owns 10,006,409 shares of the aerospace company\\u2019s stock valued at $153,398,000 after acquiring an additional 300,523 shares during the last quarter. Finally, FMR LLC lifted its holdings in shares of CAE by 2.6% during the 3rd quarter. FMR LLC now owns 9,004,271 shares of the aerospace company\\u2019s stock worth $210,216,000 after acquiring an additional 230,912 shares during the period. Institutional investors and hedge funds own 64.34% of the company\\u2019s stock. (Get Free Report) CAE Inc, together with its subsidiaries, provides simulation training and critical operations support solutions in Canada, the United States, the United Kingdom, Europe, Asia, Oceania and Africa, and Rest of Americas. It operates through three segments: Civil Aviation, Defense and Security, and Healthcare.   \",\n          \"new research emphasizes the previously underestimated significance of atmospheric on aerosol depositions on ecosystems. additionally, the ecological effects of on aerosol depositions are anticipated to increase due to global warming and the decrease in nitrogen oxide emissions from human activities.the study was led by dr. yumin li of southern university of science and technology (sustech), in collaboration with professor tzung-may fu's team at sustech and professor jian zhen yu's team at hong kong university of science and technology (hkust).  the research ispublishedin the journalnational science review.atmospheric deposition of organic nitrogen (on) plays a crucial role in theglobal nitrogen cycle. surface measurements showed that 2% to 70% of the local atmospheric deposition flux of total nitrogen was organic. however, previous models have largely neglected the spatial and chemical variations of atmospheric on, leading to inadequate assessment of its global impacts.the scientists from sustech and hkust developed a comprehensive global model of atmospheric gaseous and particulate on, incorporating the latest knowledge on emissions and secondary formations. their simulated surface concentrations of atmospheric particulate on (onp) were highly consistent with global observations, a feat that had not been achieved previously. in addition, their simulated atmospheric deposition flux aligned with global observations within an order of magnitude.the scientists estimated that the global atmospheric on deposition was 26 tg n yr-1. this majority of this deposition (23 tg n yr-1) occurred in the form of on aerosol and accounted for 19% of the global atmospheric total n deposition (124 tg n yr-1). the main sources of on aerosols were wildfires, ocean emissions, and secondary formation.\\\"our simulation showed that the deposition of on aerosol from the atmosphere is a crucial external source of nitrogen to nitrogen-limited ecosystems worldwide, such as theboreal forests, tundras, and the arctic ocean,\\\" fu says.in a future warming climate, wildfires will likely become more frequent and intense. climate warming will also lead to surface ocean stratification, making atmospheric on deposition an increasingly important source of nitrogen to these ecosystems. \\\"we need to further examine the environmental impacts of atmospheric on aerosol and how those impacts respond toclimate change.\\\"\"\n        ],\n        \"semantic_type\": \"\",\n        \"description\": \"\"\n      }\n    },\n    {\n      \"column\": \"processed_title\",\n      \"properties\": {\n        \"dtype\": \"string\",\n        \"num_unique_values\": 53256,\n        \"samples\": [\n          \"johnny kitagawa hundreds seek compensation jpop agency abuse\",\n          \"theres fantastic blackstone deal walmarts black friday sale\",\n          \"12 uniquely delicious ways celebrate national pickle day\"\n        ],\n        \"semantic_type\": \"\",\n        \"description\": \"\"\n      }\n    },\n    {\n      \"column\": \"processed_body\",\n      \"properties\": {\n        \"dtype\": \"string\",\n        \"num_unique_values\": 54132,\n        \"samples\": [\n          \"governor bayelsa state winner state governorship election douye diri attributed victory collective people united towards progress better futurehe added would continue governor residents state regardless political partyhe made declaration address shortly independent national electoral commission returning officer state prof kuta farouq monday declared winner governorship election held last saturday mondaydiri polled total 175 196 votes defeat closest rival timipre sylva progressives congress polled total 110 108 votesthe governor expressed appreciation every electorate voted entrusted responsibility leading staterelated newsgovernorship election live updatesbreaking pdp appoints koshoedo acting national secretarykogi election results irev portal altered inecreview imo election pdp lp candidates tell ineche added also immensely grateful leadership great party peoples democratic party levels dedicated campaign team supporters worked tirelessly spread message progress unity throughout bayelsa state unwavering belief vision prosperity relentless efforts brought us sweet victorydiri urged residents state celebrate temperance victory exclusive preserve one political partyaccording collective people united towards progress better future even cast votes differently enriched democratic practice participation dissent reaffirm continue governor bayelsa statehe thanked president bola tinubu ensuring conducive environment conduct free fair credible governorship polli want place record gratitude president federal republic nigeria bola ahmed tinubu allowing conducive environment free fair credible election stated added would continue governor residents state regardless political partyhe made declaration address shortly independent national electoral commission returning officer state prof kuta farouq monday declared winner governorship election held last saturday mondaydiri polled total 175 196 votes defeat closest rival timipre sylva progressives congress polled total 110 108 votesthe governor expressed appreciation every electorate voted entrusted responsibility leading staterelated newsgovernorship election live updatesbreaking pdp appoints koshoedo acting national secretarykogi election results irev portal altered inecreview imo election pdp lp candidates tell ineche added also immensely grateful leadership great party peoples democratic party levels dedicated campaign team supporters worked tirelessly spread message progress unity throughout bayelsa state unwavering belief vision prosperity relentless efforts brought us sweet victorydiri urged residents state celebrate temperance victory exclusive preserve one political partyaccording collective people united towards progress better future even cast votes differently enriched democratic practice participation dissent reaffirm continue governor bayelsa statehe thanked president bola tinubu ensuring conducive environment conduct free fair credible governorship polli want place record gratitude president federal republic nigeria bola ahmed tinubu allowing conducive environment free fair credible election stated made declaration address shortly independent national electoral commission returning officer state prof kuta farouq monday declared winner governorship election held last saturday mondaydiri polled total 175 196 votes defeat closest rival timipre sylva progressives congress polled total 110 108 votesthe governor expressed appreciation every electorate voted entrusted responsibility leading staterelated newsgovernorship election live updatesbreaking pdp appoints koshoedo acting national secretarykogi election results irev portal altered inecreview imo election pdp lp candidates tell ineche added also immensely grateful leadership great party peoples democratic party levels dedicated campaign team supporters worked tirelessly spread message progress unity throughout bayelsa state unwavering belief vision prosperity relentless efforts brought us sweet victorydiri urged residents state celebrate temperance victory exclusive preserve one political partyaccording collective people united towards progress better future even cast votes differently enriched democratic practice participation dissent reaffirm continue governor bayelsa statehe thanked president bola tinubu ensuring conducive environment conduct free fair credible governorship polli want place record gratitude president federal republic nigeria bola ahmed tinubu allowing conducive environment free fair credible election stated diri polled total 175 196 votes defeat closest rival timipre sylva progressives congress polled total 110 108 votesthe governor expressed appreciation every electorate voted entrusted responsibility leading staterelated newsgovernorship election live updatesbreaking pdp appoints koshoedo acting national secretarykogi election results irev portal altered inecreview imo election pdp lp candidates tell ineche added also immensely grateful leadership great party peoples democratic party levels dedicated campaign team supporters worked tirelessly spread message progress unity throughout bayelsa state unwavering belief vision prosperity relentless efforts brought us sweet victorydiri urged residents state celebrate temperance victory exclusive preserve one political partyaccording collective people united towards progress better future even cast votes differently enriched democratic practice participation dissent reaffirm continue governor bayelsa statehe thanked president bola tinubu ensuring conducive environment conduct free fair credible governorship polli want place record gratitude president federal republic nigeria bola ahmed tinubu allowing conducive environment free fair credible election stated governor expressed appreciation every electorate voted entrusted responsibility leading staterelated newsgovernorship election live updatesbreaking pdp appoints koshoedo acting national secretarykogi election results irev portal altered inecreview imo election pdp lp candidates tell ineche added also immensely grateful leadership great party peoples democratic party levels dedicated campaign team supporters worked tirelessly spread message progress unity throughout bayelsa state unwavering belief vision prosperity relentless efforts brought us sweet victorydiri urged residents state celebrate temperance victory exclusive preserve one political partyaccording collective people united towards progress better future even cast votes differently enriched democratic practice participation dissent reaffirm continue governor bayelsa statehe thanked president bola tinubu ensuring conducive environment conduct free fair credible governorship polli want place record gratitude president federal republic nigeria bola ahmed tinubu allowing conducive environment free fair credible election stated added also immensely grateful leadership great party peoples democratic party levels dedicated campaign team supporters worked tirelessly spread message progress unity throughout bayelsa state unwavering belief vision prosperity relentless efforts brought us sweet victorydiri urged residents state celebrate temperance victory exclusive preserve one political partyaccording collective people united towards progress better future even cast votes differently enriched democratic practice participation dissent reaffirm continue governor bayelsa statehe thanked president bola tinubu ensuring conducive environment conduct free fair credible governorship polli want place record gratitude president federal republic nigeria bola ahmed tinubu allowing conducive environment free fair credible election stated diri urged residents state celebrate temperance victory exclusive preserve one political partyaccording collective people united towards progress better future even cast votes differently enriched democratic practice participation dissent reaffirm continue governor bayelsa statehe thanked president bola tinubu ensuring conducive environment conduct free fair credible governorship polli want place record gratitude president federal republic nigeria bola ahmed tinubu allowing conducive environment free fair credible election stated according collective people united towards progress better future even cast votes differently enriched democratic practice participation dissent reaffirm continue governor bayelsa statehe thanked president bola tinubu ensuring conducive environment conduct free fair credible governorship polli want place record gratitude president federal republic nigeria bola ahmed tinubu allowing conducive environment free fair credible election stated thanked president bola tinubu ensuring conducive environment conduct free fair credible governorship polli want place record gratitude president federal republic nigeria bola ahmed tinubu allowing conducive environment free fair credible election stated want place record gratitude president federal republic nigeria bola ahmed tinubu allowing conducive environment free fair credible election stated\",\n          \"jeremy rennerhas shared update recovery since snowplow accident last january left lifethreatening injuries exploring every type therapy since jan 14th wrote instagram everyday countless hours physical therapy peptide injections iv drips pushes stem cell exosomes red light ir therapy hyperbaric chamber 20 atmospheres cold plunge list goes greatest therapy mind push recover better exceptional feel duty squander life spared give back family friends empowered endure thank accident took place renner plowing snow driveway lake tahoe home new years day trying stop snowremoval tractor sliding hitting nephew pulled crushed thehawkeyeactor airlifted hospital treated blunt chest trauma orthopedic injuries first reports renner critical condition surgery reappeared social media thanking supporters comments process renner since kept fans updated recovery social media renner mostrecently announced recorded collection songsmarking various milestones recovery accident collection ofmusicwe wrote different milestones journey recovery since jan 1st year love titanium painful deeply healing ultimately cathartic create hope get courage share collections titlelove titanium references comment rennermade abc newslast spring ive lost lot flesh bone experience said ive refueled refilled love titanium post shared jeremy renner jeremyrenner\",\n          \"ians googleowned youtube said viewers adblockers installed might experience suboptimal viewing matter browser using statement comes number users reddit online forums complained experiencing delay five seconds try load video mozilla firefox microsoft edge fivesecond delay longer appears loading video chrome reports android authority elevate tech prowess highvalue skill courses offering college course website indian school business isb professional certificate product management visit iim lucknow iiml executive programme fintech banking applied risk management visit iim kozhikode iimk advanced data science managers visit youtube however clarified platforms ad blocker detection doesnt target specific browsers delays reported across browsers users ad blockers continue substandard viewing experience company recommends trying youtube premium adfree experience allowing ads support diverse ecosystem creators globally allow billions access favourite content youtube weve launched effort urge viewers ad blockers enabled allow ads youtube try youtube premium adfree experience youtube spokesperson quoted saying users ad blockers installed may experience suboptimal viewing regardless browser using added discover stories interest blockchain 5 stories cybersafety 7 stories fintech 9 stories ecomm 9 stories ml 8 stories edtech 6 stories company started cracking ad blockers earlier year went earlier month blocked people watching videos unless disable addons extensions apps meanwhile youtubes effort crack users ad blockers resulted record number uninstalls multiple adblocking companies reporting thousands people uninstalling products videosharing platform began showing warnings people trying watch videos website using ad blockers experience economic times newspaper digital way wednesday 22 nov 2023 read complete epaper digital view print view wealth edition finds 10kcr evasion social media sellers income tax department said detected tax evasion nearly 10000 crore threeyear period etailers selling goods via social media platforms instagram facebook department sent intimation notices 45 panindia brands follow cos take ten mas gst sums first 20000 notices issued goods services tax gst department since 2022 india inc going back drawing board account tax liabilities inking deals finalizing business transactions gautam singhania kicked punched nawaz modi raymond managing director gautam singhanias estranged wife nawaz modi alleged industrialist assaulted one daughters two months ago fit rage read news youtube youtube premium mozilla firefox microsoft edge chrome stay top technology startup news matters subscribe daily newsletter latest mustread tech news delivered straight inbox less prime exclusives investment ideas stock report plus epaper wealth edition cop28 india push clean energy transition wont budge coal phasedown target narayana hrudayalayas shares growth beat whats driving hospital chains optimism tax troubles swiggy zomato grapple freshly served gst notice delivery fee 3 insights kickstart day featuring byjus whole lotta trouble jlr tatas biggest mistake moneyspinner focus highprofit cars trick stock radar specialty chemical stock breaks falling trendline resistance time buy 1 2 3 view stories\"\n        ],\n        \"semantic_type\": \"\",\n        \"description\": \"\"\n      }\n    },\n    {\n      \"column\": \"title_body_similarity_score\",\n      \"properties\": {\n        \"dtype\": \"number\",\n        \"std\": 0.10509105537268972,\n        \"min\": 0.0,\n        \"max\": 1.0000000000000002,\n        \"num_unique_values\": 53835,\n        \"samples\": [\n          0.2044295715860918,\n          0.2699815135449656,\n          0.29884197341337165\n        ],\n        \"semantic_type\": \"\",\n        \"description\": \"\"\n      }\n    }\n  ]\n}"
            }
          },
          "metadata": {},
          "execution_count": 15
        }
      ],
      "source": [
        "df.head()"
      ]
    },
    {
      "cell_type": "code",
      "execution_count": 16,
      "metadata": {
        "id": "_xCYSEJth9pN"
      },
      "outputs": [],
      "source": [
        "import seaborn as sns"
      ]
    },
    {
      "cell_type": "code",
      "execution_count": 17,
      "metadata": {
        "colab": {
          "base_uri": "https://localhost:8080/"
        },
        "id": "_qC_XvTuhmFe",
        "outputId": "deed9400-027a-4e06-dda2-9796320d4d7e"
      },
      "outputs": [
        {
          "output_type": "execute_result",
          "data": {
            "text/plain": [
              "count    58356.000000\n",
              "mean         0.237513\n",
              "std          0.105091\n",
              "min          0.000000\n",
              "25%          0.162379\n",
              "50%          0.230131\n",
              "75%          0.302284\n",
              "max          1.000000\n",
              "Name: title_body_similarity_score, dtype: float64"
            ]
          },
          "metadata": {},
          "execution_count": 17
        }
      ],
      "source": [
        "df['title_body_similarity_score'].describe()"
      ]
    },
    {
      "cell_type": "code",
      "execution_count": 18,
      "metadata": {
        "colab": {
          "base_uri": "https://localhost:8080/",
          "height": 465
        },
        "id": "gmYks9Arh1Ie",
        "outputId": "bbdebf0d-bb17-46ca-992d-0f20a08436fa"
      },
      "outputs": [
        {
          "output_type": "display_data",
          "data": {
            "text/plain": [
              "<Figure size 1200x500 with 1 Axes>"
            ],
            "image/png": "[encoded data removed]"
          },
          "metadata": {}
        }
      ],
      "source": [
        "plt.figure(figsize=(12, 5))\n",
        "sns.boxplot(data=df, x='title_body_similarity_score')\n",
        "plt.xlabel('Similarity score between title and body')\n",
        "plt.show()"
      ]
    },
    {
      "cell_type": "markdown",
      "metadata": {
        "id": "5TweCH64lxbT"
      },
      "source": [
        "# Articles with similarity greater or equal 0.5"
      ]
    },
    {
      "cell_type": "code",
      "execution_count": 19,
      "metadata": {
        "colab": {
          "base_uri": "https://localhost:8080/"
        },
        "id": "ysDnPNSeiMmr",
        "outputId": "5daa7ef5-91a4-4b5e-d82c-a87ce697007f"
      },
      "outputs": [
        {
          "output_type": "execute_result",
          "data": {
            "text/plain": [
              "1.369182260607307"
            ]
          },
          "metadata": {},
          "execution_count": 19
        }
      ],
      "source": [
        "len(df[df['title_body_similarity_score']>=0.5])/df.shape[0]*100"
      ]
    },
    {
      "cell_type": "code",
      "execution_count": 20,
      "metadata": {
        "colab": {
          "base_uri": "https://localhost:8080/"
        },
        "id": "QR9lFN2Aj5HR",
        "outputId": "b126278d-aacf-462b-e514-d2ce1135bd69"
      },
      "outputs": [
        {
          "output_type": "execute_result",
          "data": {
            "text/plain": [
              "799"
            ]
          },
          "metadata": {},
          "execution_count": 20
        }
      ],
      "source": [
        "len(df[df['title_body_similarity_score']>=0.5])"
      ]
    },
    {
      "cell_type": "markdown",
      "metadata": {
        "id": "glKIa67bkEip"
      },
      "source": [
        "Only 799 (1.37%) articles have similaty between their title and body greater or equal 0.5."
      ]
    },
    {
      "cell_type": "markdown",
      "metadata": {
        "id": "OVIQbp9vnmX6"
      },
      "source": [
        "# Topic modeling"
      ]
    },
    {
      "cell_type": "markdown",
      "metadata": {
        "id": "JEB0Q9bQoRNv"
      },
      "source": [
        "## Additional libraries"
      ]
    },
    {
      "cell_type": "code",
      "execution_count": 21,
      "metadata": {
        "id": "9vSR2WZxoQ2h"
      },
      "outputs": [],
      "source": [
        "\n",
        "import warnings\n",
        "import spacy\n",
        "from sklearn.datasets import fetch_20newsgroups\n",
        "from string import punctuation\n",
        "from spacy.lang.en.stop_words import STOP_WORDS\n",
        "import gensim.corpora as corpora\n",
        "import gensim\n",
        "from gensim.utils import simple_preprocess\n",
        "from gensim.models import CoherenceModel\n",
        "from gensim.models.ldamodel import LdaModel\n",
        "from wordcloud import WordCloud, STOPWORDS\n",
        "import matplotlib.colors as mcolors\n",
        "warnings.filterwarnings('ignore')"
      ]
    },
    {
      "cell_type": "code",
      "execution_count": 22,
      "metadata": {
        "id": "UeAJe-FzoE73"
      },
      "outputs": [],
      "source": [
        "data=df['processed_title']"
      ]
    },
    {
      "cell_type": "markdown",
      "metadata": {
        "id": "k0njnmcRorhZ"
      },
      "source": [
        "# Load Spacy"
      ]
    },
    {
      "cell_type": "code",
      "execution_count": 23,
      "metadata": {
        "id": "yMza-_uFoKNn"
      },
      "outputs": [],
      "source": [
        "nlp = spacy.load(\"en_core_web_sm\")"
      ]
    },
    {
      "cell_type": "code",
      "execution_count": 24,
      "metadata": {
        "id": "nzOwABCJoKKO"
      },
      "outputs": [],
      "source": [
        "stopwords = list(STOP_WORDS)"
      ]
    },
    {
      "cell_type": "markdown",
      "metadata": {
        "id": "7G-e8po_pAOc"
      },
      "source": [
        "## lemmatization"
      ]
    },
    {
      "cell_type": "code",
      "execution_count": 25,
      "metadata": {
        "id": "VypTla0XoKHd"
      },
      "outputs": [],
      "source": [
        "def spacy_tokenizer(sentence):\n",
        "    mytokens = nlp(sentence)\n",
        "    mytokens = [ word.lemma_.lower().strip() if word.lemma_ != \"-PRON-\" else word.lower_ for word in mytokens ]\n",
        "    mytokens = [ word for word in mytokens if word not in stopwords and word not in punctuation ]\n",
        "    mytokens = [ word for word in mytokens if len(word) > 3]\n",
        "    mytokens = \" \".join([i for i in mytokens])\n",
        "    return mytokens"
      ]
    },
    {
      "cell_type": "code",
      "execution_count": 26,
      "metadata": {
        "id": "dSvUf_HmpHBS"
      },
      "outputs": [],
      "source": [
        "# Creating a list of documents\n",
        "list_of_docs = data.tolist()\n",
        "\n",
        "# Implementing the function for all the complaints of list_of_docs\n",
        "doc_clean = [spacy_tokenizer(doc).split() for doc in list_of_docs]"
      ]
    },
    {
      "cell_type": "markdown",
      "metadata": {
        "id": "ZRXJRpVGplrb"
      },
      "source": [
        "# Create Corpus using Bag of words"
      ]
    },
    {
      "cell_type": "code",
      "execution_count": 27,
      "metadata": {
        "id": "3SCSF7vOpG7R"
      },
      "outputs": [],
      "source": [
        "words = corpora.Dictionary(doc_clean)\n",
        "corpus = [words.doc2bow(doc) for doc in doc_clean]"
      ]
    },
    {
      "cell_type": "markdown",
      "metadata": {
        "id": "YmVsFBQfpxJW"
      },
      "source": [
        "# LDA Modeling"
      ]
    },
    {
      "cell_type": "code",
      "execution_count": 28,
      "metadata": {
        "id": "qh8u6x6Sk8TZ"
      },
      "outputs": [],
      "source": [
        "lda_model = LdaModel(corpus=corpus, id2word=words, num_topics=4, random_state=2, update_every=1,\\\n",
        "                                 passes=10, alpha='auto')"
      ]
    },
    {
      "cell_type": "code",
      "source": [
        "# lda_model.save('models/model.model')"
      ],
      "metadata": {
        "colab": {
          "base_uri": "https://localhost:8080/"
        },
        "id": "Eata0fqvDGgt",
        "outputId": "7deb3d63-b3b7-4f4d-ed92-6697c58f61db"
      },
      "execution_count": 41,
      "outputs": [
        {
          "output_type": "stream",
          "name": "stderr",
          "text": [
            "/usr/local/lib/python3.10/dist-packages/ipykernel/ipkernel.py:283: DeprecationWarning: `should_run_async` will not call `transform_cell` automatically in the future. Please pass the result to `transformed_cell` argument and any exception that happen during thetransform in `preprocessing_exc_tuple` in IPython 7.17 and above.\n",
            "  and should_run_async(code)\n"
          ]
        }
      ]
    },
    {
      "cell_type": "markdown",
      "source": [
        "# Visualization"
      ],
      "metadata": {
        "id": "cSUG6Tca_6LM"
      }
    },
    {
      "cell_type": "code",
      "source": [
        "pip install pyLDAvis"
      ],
      "metadata": {
        "colab": {
          "base_uri": "https://localhost:8080/"
        },
        "id": "QeR1xZpA__18",
        "outputId": "14bf23bc-177f-484d-e370-fad51746b6d8"
      },
      "execution_count": 30,
      "outputs": [
        {
          "output_type": "stream",
          "name": "stdout",
          "text": [
            "Collecting pyLDAvis\n",
            "  Downloading pyLDAvis-3.4.1-py3-none-any.whl (2.6 MB)\n",
            "\u001b[2K     \u001b[90m━━━━━━━━━━━━━━━━━━━━━━━━━━━━━━━━━━━━━━━━\u001b[0m \u001b[32m2.6/2.6 MB\u001b[0m \u001b[31m23.2 MB/s\u001b[0m eta \u001b[36m0:00:00\u001b[0m\n",
            "\u001b[?25hRequirement already satisfied: numpy>=1.24.2 in /usr/local/lib/python3.10/dist-packages (from pyLDAvis) (1.25.2)\n",
            "Requirement already satisfied: scipy in /usr/local/lib/python3.10/dist-packages (from pyLDAvis) (1.11.4)\n",
            "Requirement already satisfied: pandas>=2.0.0 in /usr/local/lib/python3.10/dist-packages (from pyLDAvis) (2.0.3)\n",
            "Requirement already satisfied: joblib>=1.2.0 in /usr/local/lib/python3.10/dist-packages (from pyLDAvis) (1.4.0)\n",
            "Requirement already satisfied: jinja2 in /usr/local/lib/python3.10/dist-packages (from pyLDAvis) (3.1.3)\n",
            "Requirement already satisfied: numexpr in /usr/local/lib/python3.10/dist-packages (from pyLDAvis) (2.10.0)\n",
            "Collecting funcy (from pyLDAvis)\n",
            "  Downloading funcy-2.0-py2.py3-none-any.whl (30 kB)\n",
            "Requirement already satisfied: scikit-learn>=1.0.0 in /usr/local/lib/python3.10/dist-packages (from pyLDAvis) (1.2.2)\n",
            "Requirement already satisfied: gensim in /usr/local/lib/python3.10/dist-packages (from pyLDAvis) (4.3.2)\n",
            "Requirement already satisfied: setuptools in /usr/local/lib/python3.10/dist-packages (from pyLDAvis) (67.7.2)\n",
            "Requirement already satisfied: python-dateutil>=2.8.2 in /usr/local/lib/python3.10/dist-packages (from pandas>=2.0.0->pyLDAvis) (2.8.2)\n",
            "Requirement already satisfied: pytz>=2020.1 in /usr/local/lib/python3.10/dist-packages (from pandas>=2.0.0->pyLDAvis) (2023.4)\n",
            "Requirement already satisfied: tzdata>=2022.1 in /usr/local/lib/python3.10/dist-packages (from pandas>=2.0.0->pyLDAvis) (2024.1)\n",
            "Requirement already satisfied: threadpoolctl>=2.0.0 in /usr/local/lib/python3.10/dist-packages (from scikit-learn>=1.0.0->pyLDAvis) (3.4.0)\n",
            "Requirement already satisfied: smart-open>=1.8.1 in /usr/local/lib/python3.10/dist-packages (from gensim->pyLDAvis) (6.4.0)\n",
            "Requirement already satisfied: MarkupSafe>=2.0 in /usr/local/lib/python3.10/dist-packages (from jinja2->pyLDAvis) (2.1.5)\n",
            "Requirement already satisfied: six>=1.5 in /usr/local/lib/python3.10/dist-packages (from python-dateutil>=2.8.2->pandas>=2.0.0->pyLDAvis) (1.16.0)\n",
            "Installing collected packages: funcy, pyLDAvis\n",
            "Successfully installed funcy-2.0 pyLDAvis-3.4.1\n"
          ]
        }
      ]
    },
    {
      "cell_type": "code",
      "source": [
        "import pyLDAvis\n",
        "import pyLDAvis.gensim"
      ],
      "metadata": {
        "id": "RHYvWS9J_9Pt"
      },
      "execution_count": 31,
      "outputs": []
    },
    {
      "cell_type": "code",
      "source": [
        "pyLDAvis.enable_notebook()\n",
        "vis = pyLDAvis.gensim.prepare(lda_model, corpus, words, mds=\"mmds\", R=30)\n",
        "vis"
      ],
      "metadata": {
        "colab": {
          "base_uri": "https://localhost:8080/",
          "height": 916
        },
        "id": "l3euQaYG_nWx",
        "outputId": "b61a4ab1-6aa0-405a-92a1-1fdc66d7d646"
      },
      "execution_count": 32,
      "outputs": [
        {
          "output_type": "stream",
          "name": "stderr",
          "text": [
            "/usr/local/lib/python3.10/dist-packages/ipykernel/ipkernel.py:283: DeprecationWarning: `should_run_async` will not call `transform_cell` automatically in the future. Please pass the result to `transformed_cell` argument and any exception that happen during thetransform in `preprocessing_exc_tuple` in IPython 7.17 and above.\n",
            "  and should_run_async(code)\n"
          ]
        },
        {
          "output_type": "execute_result",
          "data": {
            "text/plain": [
              "PreparedData(topic_coordinates=              x         y  topics  cluster       Freq\n",
              "topic                                                \n",
              "3     -0.339037  0.094978       1        1  32.679786\n",
              "0      0.118953  0.317164       2        1  28.273694\n",
              "2      0.308421 -0.106222       3        1  21.131278\n",
              "1     -0.088337 -0.305919       4        1  17.915243, topic_info=          Term         Freq        Total Category  logprob  loglift\n",
              "302      share  4841.000000  4841.000000  Default  30.0000  30.0000\n",
              "109     market  4715.000000  4715.000000  Default  29.0000  29.0000\n",
              "2390     stock  4055.000000  4055.000000  Default  28.0000  28.0000\n",
              "1025     price  1542.000000  1542.000000  Default  27.0000  27.0000\n",
              "1221     group  2274.000000  2274.000000  Default  26.0000  26.0000\n",
              "...        ...          ...          ...      ...      ...      ...\n",
              "576       hold   391.569406   797.941011   Topic4  -5.2980   1.0076\n",
              "95        list   227.020964   333.680508   Topic4  -5.8431   1.3344\n",
              "366       plan   257.619730   602.029300   Topic4  -5.7167   0.8707\n",
              "28    november   251.541913   598.748128   Topic4  -5.7406   0.8523\n",
              "26        2023   210.055103  1628.912616   Topic4  -5.9208  -0.3288\n",
              "\n",
              "[175 rows x 6 columns], token_table=      Topic      Freq     Term\n",
              "term                          \n",
              "26        1  0.638463     2023\n",
              "26        3  0.232057     2023\n",
              "26        4  0.128920     2023\n",
              "244       3  0.998332     2024\n",
              "2386      1  0.999540  acquire\n",
              "...     ...       ...      ...\n",
              "229       1  0.999370   update\n",
              "55        3  0.997816    watch\n",
              "21        2  0.003249    world\n",
              "21        4  0.996331    world\n",
              "395       3  0.999312     year\n",
              "\n",
              "[168 rows x 3 columns], R=30, lambda_step=0.01, plot_opts={'xlab': 'PC1', 'ylab': 'PC2'}, topic_order=[4, 1, 3, 2])"
            ],
            "text/html": [
              "\n",
              "<link rel=\"stylesheet\" type=\"text/css\" href=\"https://cdn.jsdelivr.net/gh/bmabey/pyLDAvis@3.4.0/pyLDAvis/js/ldavis.v1.0.0.css\">\n",
              "\n",
              "\n",
              "<div id=\"ldavis_el1391341901259670408014801437\" style=\"background-color:white;\"></div>\n",
              "<script type=\"text/javascript\">\n",
              "\n",
              "var ldavis_el1391341901259670408014801437_data = {\"mdsDat\": {\"x\": [-0.3390368465592091, 0.11895302543449701, 0.3084211916341476, -0.08833737050943549], \"y\": [0.09497757754615097, 0.317164286215557, -0.1062223817104218, -0.30591948205128616], \"topics\": [1, 2, 3, 4], \"cluster\": [1, 1, 1, 1], \"Freq\": [32.679785932841824, 28.273693542201624, 21.131277903501307, 17.91524262145525]}, \"tinfo\": {\"Term\": [\"share\", \"market\", \"stock\", \"price\", \"group\", \"sell\", \"investment\", \"management\", \"global\", \"million\", \"billion\", \"target\", \"position\", \"stocknewscom\", \"report\", \"world\", \"india\", \"analyst\", \"holding\", \"capital\", \"gaza\", \"bank\", \"good\", \"ukraine\", \"company\", \"israel\", \"year\", \"research\", \"reach\", \"increase\", \"share\", \"market\", \"stock\", \"group\", \"sell\", \"investment\", \"management\", \"million\", \"global\", \"billion\", \"position\", \"holding\", \"capital\", \"company\", \"research\", \"reach\", \"financial\", \"cagr\", \"announce\", \"update\", \"size\", \"holdings\", \"growth\", \"interest\", \"grow\", \"purchase\", \"energy\", \"short\", \"acquire\", \"investor\", \"bank\", \"report\", \"high\", \"2023\", \"gaza\", \"ukraine\", \"israel\", \"minister\", \"china\", \"hamas\", \"russia\", \"kill\", \"president\", \"attack\", \"leader\", \"receive\", \"climate\", \"change\", \"foreign\", \"state\", \"israeli\", \"meet\", \"court\", \"indian\", \"support\", \"military\", \"russian\", \"truce\", \"hostage\", \"south\", \"ceasefire\", \"talk\", \"force\", \"secretary\", \"general\", \"monday\", \"return\", \"rating\", \"india\", \"hold\", \"security\", \"good\", \"year\", \"black\", \"2024\", \"lower\", \"friday\", \"future\", \"head\", \"forecast\", \"sale\", \"study\", \"time\", \"review\", \"cyber\", \"watch\", \"analysis\", \"find\", \"know\", \"tech\", \"healthcare\", \"insider\", \"award\", \"holiday\", \"film\", \"reveal\", \"live\", \"save\", \"news\", \"trend\", \"property\", \"finance\", \"insight\", \"deal\", \"power\", \"home\", \"life\", \"2023\", \"price\", \"target\", \"stocknewscom\", \"analyst\", \"increase\", \"dividend\", \"coverage\", \"issue\", \"quarterly\", \"start\", \"begin\", \"case\", \"loss\", \"game\", \"record\", \"final\", \"trial\", \"december\", \"amazon\", \"school\", \"office\", \"world\", \"declare\", \"apple\", \"break\", \"october\", \"retirement\", \"cover\", \"govt\", \"cricket\", \"trim\", \"release\", \"hold\", \"list\", \"plan\", \"november\", \"2023\"], \"Freq\": [4841.0, 4715.0, 4055.0, 1542.0, 2274.0, 2122.0, 2064.0, 1907.0, 1735.0, 1734.0, 1688.0, 1073.0, 1603.0, 944.0, 1620.0, 923.0, 1519.0, 863.0, 1298.0, 1264.0, 1061.0, 1208.0, 834.0, 1025.0, 1124.0, 982.0, 792.0, 1100.0, 1093.0, 698.0, 4840.567059871426, 4714.784719844738, 4054.841339405174, 2274.20070717966, 2121.5250688383308, 2064.1303723644396, 1907.2817713047168, 1734.2688084595843, 1734.6110246531916, 1688.106065088661, 1602.777456425747, 1297.811887850924, 1264.111240441372, 1124.0534443353024, 1099.634463532426, 1092.508373237368, 1068.9390807954942, 1020.7014938100069, 924.261432577125, 881.8314126704793, 844.5360986986956, 825.8701538283805, 838.5436577336847, 804.3983154763574, 794.0048119981468, 757.7231788345937, 776.0218364842923, 740.9283172956685, 713.6152621574653, 718.9024557977182, 1206.1623213173598, 1584.2076060754011, 889.9524303795592, 1040.2445921186584, 1060.6912631975554, 1025.0217002960294, 982.0009716534844, 619.2436572568239, 593.3209134612014, 564.7578188185663, 528.9296311913813, 511.19973652874904, 490.7313358569807, 486.4642329268051, 493.3263489151579, 502.34667022965937, 480.82790575969403, 474.2801336917756, 477.4267948709603, 474.81308285165176, 446.6439897038706, 449.99133388744355, 449.43318428148876, 446.85917159504373, 389.0607690409175, 379.0113144410111, 371.5407630250765, 374.4323703744295, 361.84538044610053, 356.05500260689956, 350.8773178048919, 352.9875962552793, 342.91636455756304, 339.3863746751855, 416.88721091787465, 389.3333135913151, 388.8423076396382, 688.4649099545059, 1428.3361983576276, 405.8761694336964, 379.3116485244132, 833.4794151710552, 791.8074353531993, 578.1116431928122, 590.208306460972, 568.1893623712517, 509.66146800127575, 487.77522462409354, 475.449495673597, 449.99392133564214, 407.2593467972642, 405.1135169343088, 365.30747425811506, 362.75674811866594, 402.40089248549276, 354.04330800704497, 358.94087161825047, 349.07122387256385, 309.7924794748858, 302.87350904405906, 307.76174146452547, 303.6824630799063, 284.84809958626795, 271.47375120091846, 268.54167176621826, 238.85792850016938, 240.62528612676547, 234.45969109570186, 233.4755514788823, 222.49766357963435, 228.9426998227619, 255.50926637053297, 400.37636810214536, 638.7948276191196, 406.01920144742587, 288.4353834140156, 322.2433409832197, 378.37488236929164, 1542.277037157501, 1073.2724375224159, 943.8899877201936, 862.4492157018614, 697.5267672016842, 611.290077495809, 499.70245387868385, 432.51137438203256, 371.87388694860437, 368.89342709525835, 372.02736856396984, 352.3444633147928, 350.18354424848127, 310.02659253040133, 283.8307076929458, 277.0313992193751, 266.45496652196584, 265.6594323011352, 270.0652660731411, 244.12508671078612, 223.73458017575734, 920.2426632830593, 199.86392358286795, 207.03634549882764, 201.7516198543205, 196.64142941968555, 211.80340791355295, 193.5923585449339, 199.80212991587405, 183.94215640828054, 305.7714332278266, 627.7266096131423, 391.56940612626516, 227.0209642512742, 257.61972988903864, 251.54191260522796, 210.05510284313362], \"Total\": [4841.0, 4715.0, 4055.0, 1542.0, 2274.0, 2122.0, 2064.0, 1907.0, 1735.0, 1734.0, 1688.0, 1073.0, 1603.0, 944.0, 1620.0, 923.0, 1519.0, 863.0, 1298.0, 1264.0, 1061.0, 1208.0, 834.0, 1025.0, 1124.0, 982.0, 792.0, 1100.0, 1093.0, 698.0, 4841.287825689082, 4715.50905792479, 4055.561216014662, 2274.938677418298, 2122.2441630523513, 2064.8503566653717, 1907.9950552651958, 1734.9954058643746, 1735.3481258135162, 1688.8288781157826, 1603.4920188326073, 1298.5253799988716, 1264.8286696863913, 1124.7882978344364, 1100.3717746861746, 1093.2409762284833, 1069.6657061222634, 1021.4154593094562, 925.006511213916, 882.5562221453139, 845.2499275838355, 826.5853448957075, 839.2779423816048, 805.12903863739, 794.7333769105927, 758.4418235139058, 776.7639449403873, 741.6535551260441, 714.3285774012953, 719.6302160114947, 1208.0847302731627, 1620.4371679105875, 894.772798797528, 1628.9126158929007, 1061.4100081246957, 1025.745579454717, 982.7229010715392, 619.9675203894569, 594.0530201829664, 565.4824600584946, 529.654504491911, 511.9345376870273, 491.45838324367236, 487.1894602336573, 494.06837748138577, 503.1057612548327, 481.56409670875786, 475.02170040881964, 478.1789590465422, 475.56768179677215, 447.3656154803082, 450.72281842345086, 450.17392144435706, 447.6307941107195, 389.7919377053426, 379.73686718871136, 372.2681746728876, 375.17738239876167, 362.57379331221665, 356.78399468885704, 351.60342309666, 353.72212830409916, 343.64103135975046, 340.107271322319, 418.2350322755422, 390.46316205656353, 390.336429337064, 700.8695336176531, 1519.811434377436, 797.9410110678268, 528.1452353266153, 834.2032306784683, 792.5451042272557, 578.8340061867242, 590.9860486902843, 568.9865208366537, 510.38169569545346, 488.51839747372907, 476.1954008676097, 450.7539757264735, 407.98975660063263, 405.84514312890605, 366.03766055007725, 363.48397941252176, 403.21397486109896, 354.7747661631248, 359.69018214968685, 349.8005120828417, 310.52514281743044, 303.61197492800926, 308.5189067079952, 304.4336259459623, 285.5857865737366, 272.19903431610686, 269.26361940126134, 239.58912394967817, 241.36435601590648, 235.189206673525, 234.20718717465417, 223.2289733509658, 229.69807018366936, 263.5935211042933, 486.34697116261054, 961.1855199233185, 526.0376939172154, 441.0854525031727, 699.6793840920194, 1628.9126158929007, 1542.9920178248622, 1073.984840047415, 944.6006452140917, 863.1660164969804, 698.2723886686894, 611.9966934406475, 500.40730604298005, 433.22586770159137, 372.5862921894197, 369.62277490876886, 372.76554333296457, 353.0776731970541, 350.9774596044186, 310.7651438511809, 284.55501243936015, 277.7515737078975, 267.1838661374443, 266.4232810007439, 270.85588470414336, 244.84549026746447, 224.468662511396, 923.3875024684515, 200.57176495880123, 207.77364420222216, 202.475878196915, 197.35694073189478, 212.57615945882267, 194.30288363209522, 200.54427504759727, 184.65406203936737, 309.1245365711884, 737.306382895022, 797.9410110678268, 333.68050754477224, 602.0292998076661, 598.7481278960737, 1628.9126158929007], \"Category\": [\"Default\", \"Default\", \"Default\", \"Default\", \"Default\", \"Default\", \"Default\", \"Default\", \"Default\", \"Default\", \"Default\", \"Default\", \"Default\", \"Default\", \"Default\", \"Default\", \"Default\", \"Default\", \"Default\", \"Default\", \"Default\", \"Default\", \"Default\", \"Default\", \"Default\", \"Default\", \"Default\", \"Default\", \"Default\", \"Default\", \"Topic1\", \"Topic1\", \"Topic1\", \"Topic1\", \"Topic1\", \"Topic1\", \"Topic1\", \"Topic1\", \"Topic1\", \"Topic1\", \"Topic1\", \"Topic1\", \"Topic1\", \"Topic1\", \"Topic1\", \"Topic1\", \"Topic1\", \"Topic1\", \"Topic1\", \"Topic1\", \"Topic1\", \"Topic1\", \"Topic1\", \"Topic1\", \"Topic1\", \"Topic1\", \"Topic1\", \"Topic1\", \"Topic1\", \"Topic1\", \"Topic1\", \"Topic1\", \"Topic1\", \"Topic1\", \"Topic2\", \"Topic2\", \"Topic2\", \"Topic2\", \"Topic2\", \"Topic2\", \"Topic2\", \"Topic2\", \"Topic2\", \"Topic2\", \"Topic2\", \"Topic2\", \"Topic2\", \"Topic2\", \"Topic2\", \"Topic2\", \"Topic2\", \"Topic2\", \"Topic2\", \"Topic2\", \"Topic2\", \"Topic2\", \"Topic2\", \"Topic2\", \"Topic2\", \"Topic2\", \"Topic2\", \"Topic2\", \"Topic2\", \"Topic2\", \"Topic2\", \"Topic2\", \"Topic2\", \"Topic2\", \"Topic2\", \"Topic2\", \"Topic2\", \"Topic3\", \"Topic3\", \"Topic3\", \"Topic3\", \"Topic3\", \"Topic3\", \"Topic3\", \"Topic3\", \"Topic3\", \"Topic3\", \"Topic3\", \"Topic3\", \"Topic3\", \"Topic3\", \"Topic3\", \"Topic3\", \"Topic3\", \"Topic3\", \"Topic3\", \"Topic3\", \"Topic3\", \"Topic3\", \"Topic3\", \"Topic3\", \"Topic3\", \"Topic3\", \"Topic3\", \"Topic3\", \"Topic3\", \"Topic3\", \"Topic3\", \"Topic3\", \"Topic3\", \"Topic3\", \"Topic3\", \"Topic3\", \"Topic3\", \"Topic4\", \"Topic4\", \"Topic4\", \"Topic4\", \"Topic4\", \"Topic4\", \"Topic4\", \"Topic4\", \"Topic4\", \"Topic4\", \"Topic4\", \"Topic4\", \"Topic4\", \"Topic4\", \"Topic4\", \"Topic4\", \"Topic4\", \"Topic4\", \"Topic4\", \"Topic4\", \"Topic4\", \"Topic4\", \"Topic4\", \"Topic4\", \"Topic4\", \"Topic4\", \"Topic4\", \"Topic4\", \"Topic4\", \"Topic4\", \"Topic4\", \"Topic4\", \"Topic4\", \"Topic4\", \"Topic4\", \"Topic4\", \"Topic4\"], \"logprob\": [30.0, 29.0, 28.0, 27.0, 26.0, 25.0, 24.0, 23.0, 22.0, 21.0, 20.0, 19.0, 18.0, 17.0, 16.0, 15.0, 14.0, 13.0, 12.0, 11.0, 10.0, 9.0, 8.0, 7.0, 6.0, 5.0, 4.0, 3.0, 2.0, 1.0, -3.3845, -3.4108, -3.5616, -4.1399, -4.2094, -4.2368, -4.3158, -4.4109, -4.4107, -4.4379, -4.4898, -4.7008, -4.7272, -4.8446, -4.8665, -4.873, -4.8949, -4.941, -5.0403, -5.0873, -5.1305, -5.1528, -5.1376, -5.1792, -5.1922, -5.239, -5.2151, -5.2614, -5.2989, -5.2915, -4.7741, -4.5014, -5.0781, -4.9221, -4.7578, -4.792, -4.8349, -5.296, -5.3387, -5.3881, -5.4536, -5.4877, -5.5286, -5.5373, -5.5233, -5.5052, -5.5489, -5.5627, -5.556, -5.5615, -5.6227, -5.6152, -5.6165, -5.6222, -5.7607, -5.7869, -5.8068, -5.799, -5.8332, -5.8494, -5.864, -5.858, -5.887, -5.8973, -5.6916, -5.76, -5.7613, -5.19, -4.4602, -5.7184, -5.7861, -4.7077, -4.759, -5.0735, -5.0528, -5.0908, -5.1995, -5.2434, -5.269, -5.324, -5.4238, -5.4291, -5.5325, -5.5395, -5.4358, -5.5639, -5.5501, -5.578, -5.6974, -5.72, -5.7039, -5.7173, -5.7813, -5.8294, -5.8403, -5.9574, -5.95, -5.976, -5.9802, -6.0284, -5.9998, -5.89, -5.4409, -4.9737, -5.4269, -5.7688, -5.658, -5.4974, -3.9272, -4.2897, -4.4182, -4.5084, -4.7206, -4.8526, -5.0542, -5.1986, -5.3496, -5.3577, -5.3492, -5.4036, -5.4097, -5.5315, -5.6198, -5.644, -5.683, -5.686, -5.6695, -5.7705, -5.8577, -4.4435, -5.9705, -5.9353, -5.9611, -5.9868, -5.9125, -6.0024, -5.9708, -6.0535, -5.5453, -4.8261, -5.298, -5.8431, -5.7167, -5.7406, -5.9208], \"loglift\": [30.0, 29.0, 28.0, 27.0, 26.0, 25.0, 24.0, 23.0, 22.0, 21.0, 20.0, 19.0, 18.0, 17.0, 16.0, 15.0, 14.0, 13.0, 12.0, 11.0, 10.0, 9.0, 8.0, 7.0, 6.0, 5.0, 4.0, 3.0, 2.0, 1.0, 1.1183, 1.1183, 1.1182, 1.1181, 1.1181, 1.1181, 1.118, 1.118, 1.118, 1.118, 1.118, 1.1179, 1.1178, 1.1178, 1.1177, 1.1177, 1.1177, 1.1177, 1.1176, 1.1176, 1.1176, 1.1175, 1.1175, 1.1175, 1.1175, 1.1175, 1.1175, 1.1174, 1.1174, 1.1174, 1.1168, 1.0958, 1.113, 0.67, 1.2626, 1.2625, 1.2625, 1.2621, 1.262, 1.262, 1.2619, 1.2618, 1.2618, 1.2617, 1.2617, 1.2617, 1.2617, 1.2617, 1.2617, 1.2617, 1.2616, 1.2616, 1.2616, 1.2615, 1.2614, 1.2613, 1.2613, 1.2613, 1.2612, 1.2612, 1.2612, 1.2612, 1.2611, 1.2611, 1.26, 1.2603, 1.2594, 1.2454, 1.2012, 0.5873, 0.9322, 1.5535, 1.5535, 1.5532, 1.5531, 1.553, 1.553, 1.5529, 1.5528, 1.5527, 1.5526, 1.5526, 1.5524, 1.5524, 1.5524, 1.5524, 1.5523, 1.5523, 1.5521, 1.552, 1.552, 1.5519, 1.5518, 1.5517, 1.5517, 1.5514, 1.5513, 1.5513, 1.5513, 1.5511, 1.5511, 1.5233, 1.3599, 1.1458, 1.2954, 1.1296, 0.7791, 0.0946, 1.7191, 1.7189, 1.7188, 1.7187, 1.7184, 1.7184, 1.7181, 1.7179, 1.7176, 1.7175, 1.7175, 1.7174, 1.7173, 1.7171, 1.717, 1.7169, 1.7168, 1.7166, 1.7166, 1.7166, 1.7162, 1.7161, 1.716, 1.716, 1.7159, 1.7159, 1.7159, 1.7159, 1.7158, 1.7157, 1.7086, 1.5586, 1.0076, 1.3344, 0.8707, 0.8523, -0.3288]}, \"token.table\": {\"Topic\": [1, 3, 4, 3, 1, 4, 3, 4, 1, 4, 2, 3, 1, 3, 4, 1, 3, 4, 1, 1, 4, 2, 2, 2, 2, 1, 2, 4, 4, 4, 3, 2, 3, 4, 4, 4, 1, 3, 4, 3, 4, 1, 3, 2, 3, 2, 3, 3, 4, 2, 1, 2, 1, 3, 4, 1, 1, 1, 2, 3, 3, 1, 3, 2, 4, 1, 1, 3, 2, 3, 2, 4, 2, 4, 2, 3, 1, 3, 1, 1, 1, 2, 2, 4, 2, 3, 2, 1, 3, 3, 4, 3, 4, 3, 1, 1, 2, 2, 1, 2, 2, 3, 3, 1, 4, 4, 4, 1, 2, 4, 1, 1, 3, 2, 4, 3, 1, 4, 2, 3, 1, 2, 4, 1, 4, 1, 2, 1, 4, 2, 3, 3, 3, 2, 2, 3, 3, 4, 2, 1, 2, 4, 1, 1, 1, 1, 2, 4, 2, 1, 4, 3, 2, 2, 4, 3, 3, 3, 4, 1, 4, 2, 2, 1, 3, 2, 4, 3], \"Freq\": [0.6384627326554999, 0.23205664706132592, 0.1289203594785144, 0.9983315195130756, 0.9995400192408783, 0.9968400734395036, 0.9980811760121948, 0.9986491399398316, 0.9989118874281272, 0.9962765046298693, 0.9975585263419147, 0.9979488244819028, 0.9982743509449943, 0.0008277565099046387, 0.9979463141198092, 0.9995091994656632, 0.9985591617323617, 0.9976497042454994, 0.9995932513986648, 0.999344836414408, 0.9969477730288184, 0.9982837962971308, 0.99784915003264, 0.9982273969709942, 0.9988286155205233, 0.9992991589297701, 0.9973922935371499, 0.9984411778845819, 0.9991860509667597, 0.9964579060317236, 0.9969892540021283, 0.33500296594739437, 0.6648040224856677, 0.9984112461975773, 0.9971493247869725, 0.9983714071475712, 0.9990165030890485, 0.9990209616811676, 0.9972940793894911, 0.9711923074873724, 0.030349759608980387, 0.9993776503084532, 0.9977115182648671, 0.9981345901645855, 0.9983273009954968, 0.9975344815487218, 0.9992521367857181, 0.9989388373571807, 0.9975378710697771, 0.9996137137189613, 0.0023910000904495696, 0.9970470377174704, 0.9997993913680271, 0.9985576288436455, 0.9972860105457108, 0.9995873834193354, 0.9990772038372874, 0.9996688315424851, 0.999146816934968, 0.9974896841392594, 0.998318071610158, 0.9946659098220888, 0.004470408583470062, 0.5088095415182127, 0.4912643849141363, 0.999595402595156, 0.9992918518343906, 0.9955950089274953, 0.34460442786629125, 0.6529347054308676, 0.9984174440546988, 0.9996099105834492, 0.9395902463287856, 0.05987584903075594, 0.9985908160943828, 0.9985756305841218, 0.17477234369694505, 0.8224580879856238, 0.9985976923161277, 0.9995881751611555, 0.9991242502086869, 0.9992643897168255, 0.9991827367422602, 0.999478637545838, 0.9981744976784539, 0.998308855725286, 0.9978375918595883, 0.5388182195610015, 0.46021078699905166, 0.3176691404000494, 0.6802914610453888, 0.9984904315536861, 0.9972150359583768, 0.9982661788978708, 0.9994784812138533, 0.9998920460296997, 0.9983963127804819, 0.9980595321329567, 0.9994262775215369, 0.9984394014885665, 0.9962527526313697, 0.0025610610607490225, 0.9948456441955646, 0.5795425218602599, 0.4208781426766153, 0.9981913950906866, 0.9979121249881721, 0.21427528534111612, 0.35712547556852686, 0.42855057068223223, 0.9996931579160803, 0.228120534683366, 0.7718078090120549, 0.9990672999804237, 0.9993570816871362, 0.9969609227316922, 0.9994174589266995, 0.9984264257657617, 0.9816377613801746, 0.017121588861282115, 0.9997795762931292, 0.9978021296117247, 0.99804954256612, 0.14783542164929211, 0.8517490348234444, 0.9775139890443453, 0.02221622702373512, 0.999662137202419, 0.9972896327589629, 0.9965762116046055, 0.002561892574819037, 0.9975411072924917, 0.9986684986411121, 0.9987642803254569, 0.9992796196636383, 0.9975740650724193, 0.9949436171398129, 0.9965468415753099, 0.996744346811481, 0.0814169988173953, 0.7176056407393678, 0.20070236917776516, 0.9998849505365113, 0.9999405477014701, 0.9991187864987271, 0.999704315166817, 0.9978026068979334, 0.9983151067763003, 0.9988063070336753, 0.999861618162131, 0.999364127880777, 0.9979175723962339, 0.9979683066047886, 0.9979584870543402, 0.9990830037718489, 0.997984351809067, 0.9971651535841479, 0.9944945616488879, 0.9955690957146519, 0.00970482651838648, 0.9898923048754208, 0.9968617980347486, 0.9992731341283349, 0.9993697600998588, 0.9978161745506765, 0.0032489068695214425, 0.9963314399865757, 0.9993122104668262], \"Term\": [\"2023\", \"2023\", \"2023\", \"2024\", \"acquire\", \"amazon\", \"analysis\", \"analyst\", \"announce\", \"apple\", \"attack\", \"award\", \"bank\", \"bank\", \"begin\", \"billion\", \"black\", \"break\", \"cagr\", \"capital\", \"case\", \"ceasefire\", \"change\", \"china\", \"climate\", \"company\", \"court\", \"cover\", \"coverage\", \"cricket\", \"cyber\", \"deal\", \"deal\", \"december\", \"declare\", \"dividend\", \"energy\", \"film\", \"final\", \"finance\", \"finance\", \"financial\", \"find\", \"force\", \"forecast\", \"foreign\", \"friday\", \"future\", \"game\", \"gaza\", \"general\", \"general\", \"global\", \"good\", \"govt\", \"group\", \"grow\", \"growth\", \"hamas\", \"head\", \"healthcare\", \"high\", \"high\", \"hold\", \"hold\", \"holding\", \"holdings\", \"holiday\", \"home\", \"home\", \"hostage\", \"increase\", \"india\", \"india\", \"indian\", \"insider\", \"insight\", \"insight\", \"interest\", \"investment\", \"investor\", \"israel\", \"israeli\", \"issue\", \"kill\", \"know\", \"leader\", \"life\", \"life\", \"list\", \"list\", \"live\", \"loss\", \"lower\", \"management\", \"market\", \"meet\", \"military\", \"million\", \"minister\", \"monday\", \"monday\", \"news\", \"november\", \"november\", \"october\", \"office\", \"plan\", \"plan\", \"plan\", \"position\", \"power\", \"power\", \"president\", \"price\", \"property\", \"purchase\", \"quarterly\", \"rating\", \"rating\", \"reach\", \"receive\", \"record\", \"release\", \"release\", \"report\", \"report\", \"research\", \"retirement\", \"return\", \"return\", \"reveal\", \"review\", \"russia\", \"russian\", \"sale\", \"save\", \"school\", \"secretary\", \"security\", \"security\", \"security\", \"sell\", \"share\", \"short\", \"size\", \"south\", \"start\", \"state\", \"stock\", \"stocknewscom\", \"study\", \"support\", \"talk\", \"target\", \"tech\", \"time\", \"trend\", \"trial\", \"trim\", \"trim\", \"truce\", \"ukraine\", \"update\", \"watch\", \"world\", \"world\", \"year\"]}, \"R\": 30, \"lambda.step\": 0.01, \"plot.opts\": {\"xlab\": \"PC1\", \"ylab\": \"PC2\"}, \"topic.order\": [4, 1, 3, 2]};\n",
              "\n",
              "function LDAvis_load_lib(url, callback){\n",
              "  var s = document.createElement('script');\n",
              "  s.src = url;\n",
              "  s.async = true;\n",
              "  s.onreadystatechange = s.onload = callback;\n",
              "  s.onerror = function(){console.warn(\"failed to load library \" + url);};\n",
              "  document.getElementsByTagName(\"head\")[0].appendChild(s);\n",
              "}\n",
              "\n",
              "if(typeof(LDAvis) !== \"undefined\"){\n",
              "   // already loaded: just create the visualization\n",
              "   !function(LDAvis){\n",
              "       new LDAvis(\"#\" + \"ldavis_el1391341901259670408014801437\", ldavis_el1391341901259670408014801437_data);\n",
              "   }(LDAvis);\n",
              "}else if(typeof define === \"function\" && define.amd){\n",
              "   // require.js is available: use it to load d3/LDAvis\n",
              "   require.config({paths: {d3: \"https://d3js.org/d3.v5\"}});\n",
              "   require([\"d3\"], function(d3){\n",
              "      window.d3 = d3;\n",
              "      LDAvis_load_lib(\"https://cdn.jsdelivr.net/gh/bmabey/pyLDAvis@3.4.0/pyLDAvis/js/ldavis.v3.0.0.js\", function(){\n",
              "        new LDAvis(\"#\" + \"ldavis_el1391341901259670408014801437\", ldavis_el1391341901259670408014801437_data);\n",
              "      });\n",
              "    });\n",
              "}else{\n",
              "    // require.js not available: dynamically load d3 & LDAvis\n",
              "    LDAvis_load_lib(\"https://d3js.org/d3.v5.js\", function(){\n",
              "         LDAvis_load_lib(\"https://cdn.jsdelivr.net/gh/bmabey/pyLDAvis@3.4.0/pyLDAvis/js/ldavis.v3.0.0.js\", function(){\n",
              "                 new LDAvis(\"#\" + \"ldavis_el1391341901259670408014801437\", ldavis_el1391341901259670408014801437_data);\n",
              "            })\n",
              "         });\n",
              "}\n",
              "</script>"
            ]
          },
          "metadata": {},
          "execution_count": 32
        }
      ]
    },
    {
      "cell_type": "markdown",
      "metadata": {
        "id": "C83nRXDkp27S"
      },
      "source": [
        "# categorise the title/content into a known set of topic categories"
      ]
    },
    {
      "cell_type": "code",
      "execution_count": 33,
      "metadata": {
        "colab": {
          "base_uri": "https://localhost:8080/",
          "height": 662
        },
        "id": "CrFDOhQmp2g5",
        "outputId": "86580cd0-79e1-4680-e6a6-773ab7dbb6d7"
      },
      "outputs": [
        {
          "output_type": "stream",
          "name": "stderr",
          "text": [
            "/usr/local/lib/python3.10/dist-packages/ipykernel/ipkernel.py:283: DeprecationWarning: `should_run_async` will not call `transform_cell` automatically in the future. Please pass the result to `transformed_cell` argument and any exception that happen during thetransform in `preprocessing_exc_tuple` in IPython 7.17 and above.\n",
            "  and should_run_async(code)\n"
          ]
        },
        {
          "output_type": "display_data",
          "data": {
            "text/plain": [
              "<Figure size 1000x600 with 4 Axes>"
            ],
            "image/png": "[encoded data removed]"
          },
          "metadata": {}
        }
      ],
      "source": [
        "cols = [color for name, color in mcolors.TABLEAU_COLORS.items()]  # more colors: 'mcolors.XKCD_COLORS'\n",
        "\n",
        "cloud = WordCloud(background_color='white',\n",
        "                  width=2500,\n",
        "                  height=1800,\n",
        "                  max_words=10,\n",
        "                  colormap='tab10',\n",
        "                  color_func=lambda *args, **kwargs: cols[i],\n",
        "                  prefer_horizontal=1.0)\n",
        "\n",
        "topics = lda_model.show_topics(formatted=False)\n",
        "\n",
        "fig, axes = plt.subplots(2, 2, figsize=(10,6), sharex=True, sharey=True)\n",
        "topic_labels = [\"Crime\",\"Finance\", \"World News\",\"Business\"]\n",
        "\n",
        "for i, ax in enumerate(axes.flatten()):\n",
        "    fig.add_subplot(ax)\n",
        "    topic_words = dict(topics[i][1])\n",
        "    cloud.generate_from_frequencies(topic_words, max_font_size=300)\n",
        "    plt.gca().imshow(cloud)\n",
        "    plt.gca().set_title('Topic : ' + str(topic_labels[i]), fontdict=dict(size=16))\n",
        "    plt.gca().axis('off')\n",
        "\n",
        "\n",
        "plt.subplots_adjust(wspace=0, hspace=0)\n",
        "plt.axis('off')\n",
        "plt.margins(x=1, y=1)\n",
        "plt.tight_layout()\n",
        "fig.savefig('word_cloud.png')\n",
        "plt.show()"
      ]
    },
    {
      "cell_type": "code",
      "source": [
        "\n",
        "def assign_label_to_title(doc):\n",
        "    # Map topics to labels\n",
        "    topic_labels = {\n",
        "        0: \"Crime\",\n",
        "        1: \"Finance\",\n",
        "        2: \"World News\",\n",
        "        3: \"Business\"\n",
        "\n",
        "    }\n",
        "\n",
        "    # Get the topic distribution for the document\n",
        "    doc_topics = lda_model.get_document_topics(doc)\n",
        "\n",
        "    # Sort the topics by their probability\n",
        "    sorted_topics = sorted(doc_topics, key=lambda x: x[1], reverse=True)\n",
        "\n",
        "    # Get the dominant topic\n",
        "    dominant_topic, _ = sorted_topics[0]\n",
        "\n",
        "    # Assign a label based on the dominant topic\n",
        "    label = topic_labels.get(dominant_topic, \"Other\")\n",
        "\n",
        "    return label\n",
        "\n"
      ],
      "metadata": {
        "colab": {
          "base_uri": "https://localhost:8080/"
        },
        "id": "_5AmKcGTd-42",
        "outputId": "36e2d9dc-3dfe-4174-dae8-c17cb93edf5f"
      },
      "execution_count": 34,
      "outputs": [
        {
          "output_type": "stream",
          "name": "stderr",
          "text": [
            "/usr/local/lib/python3.10/dist-packages/ipykernel/ipkernel.py:283: DeprecationWarning: `should_run_async` will not call `transform_cell` automatically in the future. Please pass the result to `transformed_cell` argument and any exception that happen during thetransform in `preprocessing_exc_tuple` in IPython 7.17 and above.\n",
            "  and should_run_async(code)\n"
          ]
        }
      ]
    },
    {
      "cell_type": "code",
      "source": [
        "news_data['Title_topic']= pd.Series(corpus).apply(assign_label_to_title)"
      ],
      "metadata": {
        "colab": {
          "base_uri": "https://localhost:8080/"
        },
        "id": "_wfxg27FkhjT",
        "outputId": "7f9e0acf-ea59-4df9-eb31-9a684db54610"
      },
      "execution_count": 35,
      "outputs": [
        {
          "output_type": "stream",
          "name": "stderr",
          "text": [
            "/usr/local/lib/python3.10/dist-packages/ipykernel/ipkernel.py:283: DeprecationWarning: `should_run_async` will not call `transform_cell` automatically in the future. Please pass the result to `transformed_cell` argument and any exception that happen during thetransform in `preprocessing_exc_tuple` in IPython 7.17 and above.\n",
            "  and should_run_async(code)\n"
          ]
        }
      ]
    },
    {
      "cell_type": "markdown",
      "source": [
        "\n",
        "\n",
        "# Which websites reported the most diverse topics?"
      ],
      "metadata": {
        "id": "US81XIcb0V6t"
      }
    },
    {
      "cell_type": "code",
      "source": [
        "news_data.groupby('source_name')['Title_topic'].value_counts().sort_values(ascending=False)"
      ],
      "metadata": {
        "colab": {
          "base_uri": "https://localhost:8080/"
        },
        "id": "ZoFCnnYg0fEq",
        "outputId": "a9ea4501-0753-4bbf-94ed-28aff29aa5a1"
      },
      "execution_count": 36,
      "outputs": [
        {
          "output_type": "stream",
          "name": "stderr",
          "text": [
            "/usr/local/lib/python3.10/dist-packages/ipykernel/ipkernel.py:283: DeprecationWarning: `should_run_async` will not call `transform_cell` automatically in the future. Please pass the result to `transformed_cell` argument and any exception that happen during thetransform in `preprocessing_exc_tuple` in IPython 7.17 and above.\n",
            "  and should_run_async(code)\n"
          ]
        },
        {
          "output_type": "execute_result",
          "data": {
            "text/plain": [
              "source_name                  Title_topic\n",
              "ETF Daily News               Business       12396\n",
              "GlobeNewswire                Business        3600\n",
              "The Times of India           Crime           3326\n",
              "ETF Daily News               Finance         2907\n",
              "Globalsecurity.org           Crime           2776\n",
              "                                            ...  \n",
              "Euronews                     Finance           17\n",
              "Wired                        Business          14\n",
              "The Verge                    Business          12\n",
              "AllAfrica - Top Africa News  Finance            2\n",
              "                             World News         1\n",
              "Name: count, Length: 115, dtype: int64"
            ]
          },
          "metadata": {},
          "execution_count": 36
        }
      ]
    },
    {
      "cell_type": "markdown",
      "source": [
        "ETF Daily News reported the most diverse topic"
      ],
      "metadata": {
        "id": "QsbKm4hK2JFd"
      }
    },
    {
      "cell_type": "markdown",
      "source": [
        "# Analyse the topic trends. For example, plot a 2D scatter plot such that x-axis is date, y-axis is the topics, and the color represents the count of the topic in that particular date. What  are the observed trends?\n"
      ],
      "metadata": {
        "id": "Ljj5Y97Q0dtV"
      }
    },
    {
      "cell_type": "code",
      "source": [
        "news_data[\"published_at\"] =news_data[\"published_at\"].str.split('.', expand=True)[0]"
      ],
      "metadata": {
        "colab": {
          "base_uri": "https://localhost:8080/"
        },
        "id": "z9YEL-dDrBof",
        "outputId": "18e06928-ddb2-4799-f913-ec94cca5ebbd"
      },
      "execution_count": 37,
      "outputs": [
        {
          "output_type": "stream",
          "name": "stderr",
          "text": [
            "/usr/local/lib/python3.10/dist-packages/ipykernel/ipkernel.py:283: DeprecationWarning: `should_run_async` will not call `transform_cell` automatically in the future. Please pass the result to `transformed_cell` argument and any exception that happen during thetransform in `preprocessing_exc_tuple` in IPython 7.17 and above.\n",
            "  and should_run_async(code)\n"
          ]
        }
      ]
    },
    {
      "cell_type": "code",
      "execution_count": 38,
      "metadata": {
        "colab": {
          "base_uri": "https://localhost:8080/"
        },
        "id": "L73SEoBv7ux4",
        "outputId": "fac84bb6-f751-4237-c046-2c4d981fcdfa"
      },
      "outputs": [
        {
          "output_type": "stream",
          "name": "stderr",
          "text": [
            "/usr/local/lib/python3.10/dist-packages/ipykernel/ipkernel.py:283: DeprecationWarning: `should_run_async` will not call `transform_cell` automatically in the future. Please pass the result to `transformed_cell` argument and any exception that happen during thetransform in `preprocessing_exc_tuple` in IPython 7.17 and above.\n",
            "  and should_run_async(code)\n"
          ]
        }
      ],
      "source": [
        "news_data[\"published_at\"] =pd.to_datetime(news_data[\"published_at\"], format=\"%Y-%m-%d %H:%M:%S\")"
      ]
    },
    {
      "cell_type": "code",
      "source": [
        "# extract date from date time\n",
        "news_data[\"published_date\"] =news_data[\"published_at\"].dt.date"
      ],
      "metadata": {
        "colab": {
          "base_uri": "https://localhost:8080/"
        },
        "id": "dQyZfucwpnzM",
        "outputId": "11817f04-ee6c-43d3-d6a9-f072d133f59b"
      },
      "execution_count": 39,
      "outputs": [
        {
          "output_type": "stream",
          "name": "stderr",
          "text": [
            "/usr/local/lib/python3.10/dist-packages/ipykernel/ipkernel.py:283: DeprecationWarning: `should_run_async` will not call `transform_cell` automatically in the future. Please pass the result to `transformed_cell` argument and any exception that happen during thetransform in `preprocessing_exc_tuple` in IPython 7.17 and above.\n",
            "  and should_run_async(code)\n"
          ]
        }
      ]
    },
    {
      "cell_type": "code",
      "execution_count": 39,
      "metadata": {
        "id": "mlYcFxNj8MJ6",
        "colab": {
          "base_uri": "https://localhost:8080/"
        },
        "outputId": "b2c43e81-73d9-4382-9a8c-02325cd86482"
      },
      "outputs": [
        {
          "output_type": "stream",
          "name": "stderr",
          "text": [
            "/usr/local/lib/python3.10/dist-packages/ipykernel/ipkernel.py:283: DeprecationWarning: `should_run_async` will not call `transform_cell` automatically in the future. Please pass the result to `transformed_cell` argument and any exception that happen during thetransform in `preprocessing_exc_tuple` in IPython 7.17 and above.\n",
            "  and should_run_async(code)\n"
          ]
        }
      ],
      "source": []
    },
    {
      "cell_type": "code",
      "execution_count": 40,
      "metadata": {
        "id": "S40-3e2d8MGI",
        "colab": {
          "base_uri": "https://localhost:8080/",
          "height": 672
        },
        "outputId": "12d4edc2-a855-4d24-93b1-a54adb967316"
      },
      "outputs": [
        {
          "output_type": "stream",
          "name": "stderr",
          "text": [
            "/usr/local/lib/python3.10/dist-packages/ipykernel/ipkernel.py:283: DeprecationWarning: `should_run_async` will not call `transform_cell` automatically in the future. Please pass the result to `transformed_cell` argument and any exception that happen during thetransform in `preprocessing_exc_tuple` in IPython 7.17 and above.\n",
            "  and should_run_async(code)\n"
          ]
        },
        {
          "output_type": "display_data",
          "data": {
            "text/plain": [
              "<Figure size 1500x600 with 1 Axes>"
            ],
            "image/png": "[encoded data removed]"
          },
          "metadata": {}
        }
      ],
      "source": [
        "plt.figure(figsize=(15, 6))\n",
        "plt.scatter(news_data['published_date'], news_data['Title_topic'])\n",
        "\n",
        "# Add labels and title\n",
        "plt.xlabel('Date')\n",
        "plt.ylabel('Topic')\n",
        "plt.title('Topic Counts Over Time')\n",
        "\n",
        "\n",
        "# Rotate date labels for better readability\n",
        "plt.xticks(rotation=45)\n",
        "\n",
        "# Show plot\n",
        "plt.show()"
      ]
    },
    {
      "cell_type": "markdown",
      "metadata": {
        "id": "2Hi8lz_78N3l"
      },
      "source": [
        "# Model the events that the news articles are written about (this is the most challenging part of this project)."
      ]
    },
    {
      "cell_type": "code",
      "execution_count": null,
      "metadata": {
        "id": "nStIu7uJ8Otx"
      },
      "outputs": [],
      "source": []
    },
    {
      "cell_type": "markdown",
      "metadata": {
        "id": "XoXFpl_M8X8Y"
      },
      "source": [
        "# How many events are covered in the data?\n"
      ]
    },
    {
      "cell_type": "markdown",
      "metadata": {
        "id": "Qki_9Wu88ZrQ"
      },
      "source": [
        "# Analyse which news sites report events the earliest?\n"
      ]
    },
    {
      "cell_type": "markdown",
      "metadata": {
        "id": "SM_cmW-B8Zni"
      },
      "source": [
        "# Which events have the highest reporting?\n"
      ]
    },
    {
      "cell_type": "markdown",
      "metadata": {
        "id": "KJTtr-Z08jxO"
      },
      "source": [
        "# What is the correlation between news sites reporting events?\n"
      ]
    },
    {
      "cell_type": "code",
      "execution_count": null,
      "metadata": {
        "id": "barAtkYu8Y4c"
      },
      "outputs": [],
      "source": []
    }
  ],
  "metadata": {
    "accelerator": "GPU",
    "colab": {
      "gpuType": "T4",
      "provenance": []
    },
    "kernelspec": {
      "display_name": "Python 3",
      "name": "python3"
    },
    "language_info": {
      "name": "python"
    }
  },
  "nbformat": 4,
  "nbformat_minor": 0
}